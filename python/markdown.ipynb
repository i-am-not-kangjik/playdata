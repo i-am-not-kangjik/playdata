{
 "cells": [
  {
   "attachments": {},
   "cell_type": "markdown",
   "metadata": {},
   "source": [
    "# H1\n",
    "## H2\n",
    "### H3\n",
    "#### H4\n",
    "##### H5\n",
    "###### H6"
   ]
  },
  {
   "attachments": {},
   "cell_type": "markdown",
   "metadata": {},
   "source": [
    "# 1. 마크다운 학습\n",
    "## 1.1."
   ]
  },
  {
   "attachments": {},
   "cell_type": "markdown",
   "metadata": {},
   "source": [
    "일반 텍스트는 그냥 입력ㅋ **굵은 글씨**는 이렇게   \n",
    "*기울인 글씨*는 요렇게   \n",
    "~~취소선~~"
   ]
  },
  {
   "attachments": {},
   "cell_type": "markdown",
   "metadata": {},
   "source": [
    "- 목록1\n",
    "- 목록2\n",
    "- 목록3"
   ]
  },
  {
   "attachments": {},
   "cell_type": "markdown",
   "metadata": {},
   "source": [
    "* 목록1\n",
    "* 목록2\n",
    "* 목록3"
   ]
  },
  {
   "attachments": {},
   "cell_type": "markdown",
   "metadata": {},
   "source": [
    "1. 순서가 있는 목록1\n",
    "2. 순서가 있는 목록2\n",
    "3. 순서가 있는 목록3"
   ]
  },
  {
   "attachments": {},
   "cell_type": "markdown",
   "metadata": {},
   "source": [
    "[Google](https://www.google.com)"
   ]
  },
  {
   "attachments": {},
   "cell_type": "markdown",
   "metadata": {},
   "source": [
    "![이미지설명](data:image/jpeg;base64,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)"
   ]
  },
  {
   "attachments": {},
   "cell_type": "markdown",
   "metadata": {},
   "source": [
    "> 구획이   \n",
    "> 잡힌   \n",
    "> 글"
   ]
  },
  {
   "attachments": {},
   "cell_type": "markdown",
   "metadata": {},
   "source": [
    "|제목 셀|제목 셀|제목 셀|\n",
    "|:--|--:|:--:|\n",
    "|값1|값2|값3|"
   ]
  },
  {
   "attachments": {},
   "cell_type": "markdown",
   "metadata": {},
   "source": [
    "```python\n",
    "x = int(input(\"인사를 몇 번 할까요?\"))\n",
    "\n",
    "for _ in range(x):\n",
    "    print(\"Hello world\")\n",
    "```"
   ]
  },
  {
   "cell_type": "code",
   "execution_count": 15,
   "metadata": {},
   "outputs": [
    {
     "name": "stdout",
     "output_type": "stream",
     "text": [
      "False\n"
     ]
    }
   ],
   "source": [
    "scores = [88, 73, 89, 59, 77]\n",
    "for i in range(0, len(scores)):\n",
    "    if scores[i] < 60:\n",
    "        print(\"False\")\n",
    "        break\n",
    "    elif (i == len(scores) -1):\n",
    "        print(\"True\")"
   ]
  },
  {
   "cell_type": "code",
   "execution_count": 14,
   "metadata": {},
   "outputs": [
    {
     "name": "stdout",
     "output_type": "stream",
     "text": [
      "False\n"
     ]
    }
   ],
   "source": [
    "scores = [88, 73, 89, 59, 77]\n",
    "print(scores[0] >= 60 and scores[1] >= 60 and scores[2] >= 60 and scores[3] >= 60 and scores[4] >= 60)"
   ]
  },
  {
   "cell_type": "markdown",
   "metadata": {},
   "source": []
  }
 ],
 "metadata": {
  "kernelspec": {
   "display_name": "Python 3",
   "language": "python",
   "name": "python3"
  },
  "language_info": {
   "codemirror_mode": {
    "name": "ipython",
    "version": 3
   },
   "file_extension": ".py",
   "mimetype": "text/x-python",
   "name": "python",
   "nbconvert_exporter": "python",
   "pygments_lexer": "ipython3",
   "version": "3.11.0"
  },
  "orig_nbformat": 4,
  "vscode": {
   "interpreter": {
    "hash": "1a1af0ee75eeea9e2e1ee996c87e7a2b11a0bebd85af04bb136d915cefc0abce"
   }
  }
 },
 "nbformat": 4,
 "nbformat_minor": 2
}
