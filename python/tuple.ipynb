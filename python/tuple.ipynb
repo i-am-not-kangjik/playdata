{
 "cells": [
  {
   "attachments": {},
   "cell_type": "markdown",
   "metadata": {},
   "source": [
    "# 튜플\n",
    "튜플은 수정이 불가능"
   ]
  },
  {
   "cell_type": "code",
   "execution_count": 76,
   "metadata": {},
   "outputs": [
    {
     "ename": "TypeError",
     "evalue": "'tuple' object does not support item assignment",
     "output_type": "error",
     "traceback": [
      "\u001b[0;31m---------------------------------------------------------------------------\u001b[0m",
      "\u001b[0;31mTypeError\u001b[0m                                 Traceback (most recent call last)",
      "Cell \u001b[0;32mIn[76], line 2\u001b[0m\n\u001b[1;32m      1\u001b[0m tuple_variable\u001b[39m=\u001b[39m (\u001b[39m1\u001b[39m, \u001b[39m2\u001b[39m, \u001b[39m3\u001b[39m, \u001b[39m4\u001b[39m, \u001b[39m5\u001b[39m, \u001b[39m\"\u001b[39m\u001b[39mhello\u001b[39m\u001b[39m\"\u001b[39m)\n\u001b[0;32m----> 2\u001b[0m tuple_variable[\u001b[39m0\u001b[39m] \u001b[39m=\u001b[39m \u001b[39m0\u001b[39m\n",
      "\u001b[0;31mTypeError\u001b[0m: 'tuple' object does not support item assignment"
     ]
    }
   ],
   "source": [
    "tuple_variable= (1, 2, 3, 4, 5, \"hello\")\n",
    "tuple_variable[0] = 0"
   ]
  },
  {
   "attachments": {},
   "cell_type": "markdown",
   "metadata": {},
   "source": [
    "슬라이싱으로도 수정이 안됨 ㄷㄷ"
   ]
  },
  {
   "cell_type": "code",
   "execution_count": null,
   "metadata": {},
   "outputs": [
    {
     "ename": "TypeError",
     "evalue": "'tuple' object does not support item assignment",
     "output_type": "error",
     "traceback": [
      "\u001b[0;31m---------------------------------------------------------------------------\u001b[0m",
      "\u001b[0;31mTypeError\u001b[0m                                 Traceback (most recent call last)",
      "Cell \u001b[0;32mIn[2], line 1\u001b[0m\n\u001b[0;32m----> 1\u001b[0m tuple_variable[\u001b[39m1\u001b[39m:\u001b[39m3\u001b[39m] \u001b[39m=\u001b[39m (\u001b[39m\"\u001b[39m\u001b[39mdd\u001b[39m\u001b[39m\"\u001b[39m, \u001b[39m\"\u001b[39m\u001b[39mee\u001b[39m\u001b[39m\"\u001b[39m)\n",
      "\u001b[0;31mTypeError\u001b[0m: 'tuple' object does not support item assignment"
     ]
    }
   ],
   "source": [
    "tuple_variable[1:3] = (\"dd\", \"ee\")"
   ]
  },
  {
   "attachments": {},
   "cell_type": "markdown",
   "metadata": {},
   "source": [
    "튜플은 요소에 대한 삭제도 불가능"
   ]
  },
  {
   "cell_type": "code",
   "execution_count": null,
   "metadata": {},
   "outputs": [
    {
     "ename": "TypeError",
     "evalue": "'tuple' object doesn't support item deletion",
     "output_type": "error",
     "traceback": [
      "\u001b[0;31m---------------------------------------------------------------------------\u001b[0m",
      "\u001b[0;31mTypeError\u001b[0m                                 Traceback (most recent call last)",
      "Cell \u001b[0;32mIn[3], line 1\u001b[0m\n\u001b[0;32m----> 1\u001b[0m \u001b[39mdel\u001b[39;00m tuple_variable[\u001b[39m0\u001b[39m]\n",
      "\u001b[0;31mTypeError\u001b[0m: 'tuple' object doesn't support item deletion"
     ]
    }
   ],
   "source": [
    "del tuple_variable[0]"
   ]
  },
  {
   "attachments": {},
   "cell_type": "markdown",
   "metadata": {},
   "source": [
    "튜플은 소괄호 생략이 가능"
   ]
  },
  {
   "cell_type": "code",
   "execution_count": null,
   "metadata": {},
   "outputs": [
    {
     "data": {
      "text/plain": [
       "tuple"
      ]
     },
     "execution_count": 4,
     "metadata": {},
     "output_type": "execute_result"
    }
   ],
   "source": [
    "t_v2 = \"음\", \"오\", \"아\", \"예\"\n",
    "type(t_v2)"
   ]
  },
  {
   "cell_type": "code",
   "execution_count": null,
   "metadata": {},
   "outputs": [
    {
     "name": "stdout",
     "output_type": "stream",
     "text": [
      "('음', '오', '아', '예')\n"
     ]
    }
   ],
   "source": [
    "print(t_v2)"
   ]
  },
  {
   "attachments": {},
   "cell_type": "markdown",
   "metadata": {},
   "source": [
    "튜플과 리스트의 소요시간 비교"
   ]
  },
  {
   "cell_type": "code",
   "execution_count": null,
   "metadata": {},
   "outputs": [
    {
     "name": "stdout",
     "output_type": "stream",
     "text": [
      "0.21997308731079102\n"
     ]
    }
   ],
   "source": [
    "import time\n",
    "\n",
    "curr = time.time()\n",
    "total = []\n",
    "\n",
    "for i in range(1000):\n",
    "    for j in range(1000):\n",
    "        total.append((i, j))\n",
    "\n",
    "last = time.time()\n",
    "print(last - curr)"
   ]
  },
  {
   "cell_type": "code",
   "execution_count": null,
   "metadata": {},
   "outputs": [
    {
     "name": "stdout",
     "output_type": "stream",
     "text": [
      "0.8068742752075195\n"
     ]
    }
   ],
   "source": [
    "import time\n",
    "\n",
    "curr = time.time()\n",
    "total = []\n",
    "\n",
    "for i in range(1000):\n",
    "    for j in range(1000):\n",
    "        total.append([i, j])\n",
    "\n",
    "last = time.time()\n",
    "print(last - curr)"
   ]
  },
  {
   "attachments": {},
   "cell_type": "markdown",
   "metadata": {},
   "source": [
    "변수 여럿에 동시 할당하기(Unpacking)"
   ]
  },
  {
   "cell_type": "code",
   "execution_count": null,
   "metadata": {},
   "outputs": [
    {
     "name": "stdout",
     "output_type": "stream",
     "text": [
      "text1 text2\n"
     ]
    }
   ],
   "source": [
    "s1, s2 = \"text1\", \"text2\"\n",
    "print(s1, s2)"
   ]
  },
  {
   "cell_type": "code",
   "execution_count": null,
   "metadata": {},
   "outputs": [
    {
     "name": "stdout",
     "output_type": "stream",
     "text": [
      "이렇게 리스트도 가능합니다.\n"
     ]
    }
   ],
   "source": [
    "s3, s4, s5 = [\"이렇게\", \"리스트도\", \"가능합니다.\"]\n",
    "print(s3, s4, s5)"
   ]
  },
  {
   "cell_type": "code",
   "execution_count": null,
   "metadata": {},
   "outputs": [
    {
     "name": "stdout",
     "output_type": "stream",
     "text": [
      "문 자 열 도\n"
     ]
    }
   ],
   "source": [
    "s6, s7, s8, s9 = \"문자열도\"\n",
    "print(s6, s7, s8, s9)"
   ]
  },
  {
   "attachments": {},
   "cell_type": "markdown",
   "metadata": {},
   "source": [
    "input(\"메시지\") -> return 사용자가 입력한 값(str)"
   ]
  },
  {
   "cell_type": "code",
   "execution_count": null,
   "metadata": {},
   "outputs": [],
   "source": [
    "input_value = input(\"Message를 입력하세요\")"
   ]
  },
  {
   "cell_type": "code",
   "execution_count": null,
   "metadata": {},
   "outputs": [
    {
     "data": {
      "text/plain": [
       "'아무말'"
      ]
     },
     "execution_count": 19,
     "metadata": {},
     "output_type": "execute_result"
    }
   ],
   "source": [
    "input_value"
   ]
  },
  {
   "cell_type": "code",
   "execution_count": null,
   "metadata": {},
   "outputs": [],
   "source": [
    "input_int = int(input(\"정수를 입력해주세여\"))"
   ]
  },
  {
   "cell_type": "code",
   "execution_count": null,
   "metadata": {},
   "outputs": [
    {
     "data": {
      "text/plain": [
       "5"
      ]
     },
     "execution_count": 21,
     "metadata": {},
     "output_type": "execute_result"
    }
   ],
   "source": [
    "input_int"
   ]
  },
  {
   "cell_type": "code",
   "execution_count": null,
   "metadata": {},
   "outputs": [
    {
     "name": "stdout",
     "output_type": "stream",
     "text": [
      "엔코아 씨, 안녕하세요?\n",
      "파이썬에 오신 것을 환영합니다.\n",
      "300 과 400 의 합은 700 입니다.\n"
     ]
    }
   ],
   "source": [
    "name = input('이름을 입력하시오:')\n",
    "print(name, \"씨, 안녕하세요?\\n파이썬에 오신 것을 환영합니다.\")\n",
    "a = int(input('첫 번째 정수를 입력하세요:'))\n",
    "b = int(input('두 번째 정수를 입력하세요:'))\n",
    "print(a, \"과\", b, \"의 합은\", a + b, \"입니다.\")"
   ]
  },
  {
   "cell_type": "code",
   "execution_count": null,
   "metadata": {},
   "outputs": [
    {
     "name": "stdout",
     "output_type": "stream",
     "text": [
      "[속보] KT 가 10:9 로 승리...\n",
      "오늘 고척 경기장에서 야구 경기가 있었습니다.\n",
      "KT 와 LG 는 치열한 공방전을 펼쳤습니다.\n",
      "이 경기에서 강백호 가 맹활약을 했습니다.\n",
      "그 끝내 KT 가 LG 를 10:9 로 승리하였습니다.\n",
      "기사 끝.\n"
     ]
    }
   ],
   "source": [
    "stadium = input('경기장은 어디입니까?')\n",
    "winner = input('이긴 팀은 어디입니까?')\n",
    "loser = input('진 팀은 어디입니까?')\n",
    "mvp = input('우수 선수는 누구입니까?')\n",
    "score = input('스코어는 몇대몇입니까?')\n",
    "\n",
    "print('[속보]', winner, '가', score, '로 승리...\\n오늘',\n",
    "      stadium, '경기장에서 야구 경기가 있었습니다.\\n' +\n",
    "      winner, '와', loser, '는 치열한 공방전을 펼쳤습니다.\\n이 경기에서',\n",
    "      mvp, '가 맹활약을 했습니다.\\n그 끝내', winner, '가', loser, '를',\n",
    "      score, '로 승리하였습니다.\\n기사 끝.'\n",
    "      )"
   ]
  },
  {
   "cell_type": "code",
   "execution_count": null,
   "metadata": {},
   "outputs": [
    {
     "name": "stdout",
     "output_type": "stream",
     "text": [
      "시 : 12\n",
      "분 : 33\n",
      "초 : 23\n"
     ]
    }
   ],
   "source": [
    "curr = input(\"hh:mm:ss 의 형태로 시간을 입력해주세요\")\n",
    "hh, mm, ss = curr.split(':')\n",
    "print(\"시 :\", hh)\n",
    "print(\"분 :\", mm)\n",
    "print(\"초 :\", ss)"
   ]
  },
  {
   "cell_type": "code",
   "execution_count": null,
   "metadata": {},
   "outputs": [
    {
     "name": "stdout",
     "output_type": "stream",
     "text": [
      "[1, 2, 3, 4]\n"
     ]
    }
   ],
   "source": [
    "a = [1.2, 2.5, 3.7, 4.6]\n",
    "a = list(map(int, a))\n",
    "print(a)"
   ]
  },
  {
   "cell_type": "code",
   "execution_count": null,
   "metadata": {},
   "outputs": [
    {
     "name": "stdout",
     "output_type": "stream",
     "text": [
      "98.5\n"
     ]
    }
   ],
   "source": [
    "kor, eng, mat, sci = map(int, input(\"국어, 영어, 수학, 과학 점수를 입력해주세요\").split(','))\n",
    "print((kor+eng+mat+sci)/4)\n",
    "\n",
    "# 98,100,96,100\n"
   ]
  },
  {
   "cell_type": "code",
   "execution_count": null,
   "metadata": {},
   "outputs": [
    {
     "name": "stdout",
     "output_type": "stream",
     "text": [
      "줄이 바뀌지 않습니다.안바뀌지롱\n",
      "어떻게 사용하는지\n",
      "이해가 되시나요?"
     ]
    }
   ],
   "source": [
    "print(\"줄이 바뀌지 않습니다.\", end=\"\")\n",
    "print(\"안바뀌지롱\")\n",
    "print(\"어떻게 사용하는지\", \"이해가 되시나요\", sep='\\n', end='?')"
   ]
  },
  {
   "cell_type": "code",
   "execution_count": null,
   "metadata": {},
   "outputs": [
    {
     "name": "stdout",
     "output_type": "stream",
     "text": [
      "2021/02/03 18:33:23\n"
     ]
    }
   ],
   "source": [
    "year = '2021'\n",
    "month = '02'\n",
    "day = '03'\n",
    "hour = '18'\n",
    "minute = '33'\n",
    "second = '23'\n",
    "\n",
    "print(year, month, day, sep='/', end=' ')\n",
    "print(hour, minute, second, sep=':')"
   ]
  },
  {
   "cell_type": "code",
   "execution_count": null,
   "metadata": {},
   "outputs": [
    {
     "name": "stdout",
     "output_type": "stream",
     "text": [
      "총 가격은 14000원입니다.\n"
     ]
    }
   ],
   "source": [
    "apple = 1000\n",
    "mandarin = 200\n",
    "\n",
    "x, y = map(int, input(\"사과와 귤을 몇개 드릴까요?\").split(','))\n",
    "print('총 가격은 ', apple * x + mandarin * y, '원입니다.', sep='')"
   ]
  },
  {
   "cell_type": "code",
   "execution_count": null,
   "metadata": {},
   "outputs": [
    {
     "name": "stdout",
     "output_type": "stream",
     "text": [
      "30대 입니다..\n",
      "감사합니다\n"
     ]
    }
   ],
   "source": [
    "age = 39\n",
    "\n",
    "if 20 <= age < 30:\n",
    "    print('20대 입니당')\n",
    "elif 30 <= age and age < 40:\n",
    "    print('30대 입니다..')\n",
    "    \n",
    "print('감사합니다')"
   ]
  },
  {
   "cell_type": "code",
   "execution_count": null,
   "metadata": {},
   "outputs": [
    {
     "name": "stdout",
     "output_type": "stream",
     "text": [
      "권한이 없습니다.\n"
     ]
    }
   ],
   "source": [
    "id = input('아이디를 입력하세요 : ')\n",
    "if id == 'admin':\n",
    "    print('최고 관리자, 모든 권한을 갖습니다.')\n",
    "else:\n",
    "    grade = int(input('회원 등급을 입력해주세요'))\n",
    "    if grade >= 1 and grade <= 3:\n",
    "        print('제한적인 권한을 갖습니다.')\n",
    "    else:\n",
    "        print('권한이 없습니다.')"
   ]
  },
  {
   "cell_type": "code",
   "execution_count": null,
   "metadata": {},
   "outputs": [
    {
     "name": "stdout",
     "output_type": "stream",
     "text": [
      "0\n"
     ]
    }
   ],
   "source": [
    "a = int(input(\"자연수 하나 입력해주세요:\"))\n",
    "\n",
    "if a < 50:\n",
    "    print('0')\n",
    "else:\n",
    "    print(a - 50)"
   ]
  },
  {
   "cell_type": "code",
   "execution_count": null,
   "metadata": {},
   "outputs": [
    {
     "name": "stdout",
     "output_type": "stream",
     "text": [
      "홀수입니다.\n"
     ]
    }
   ],
   "source": [
    "a = int(input(\"자연수 하나 입력해주세요:\"))\n",
    "\n",
    "if a % 2 == 0:\n",
    "    print('짝수입니다.')\n",
    "else:\n",
    "    print('홀수입니다.')"
   ]
  },
  {
   "cell_type": "code",
   "execution_count": null,
   "metadata": {},
   "outputs": [
    {
     "name": "stdout",
     "output_type": "stream",
     "text": [
      "잘못된 점수입니다.\n"
     ]
    }
   ],
   "source": [
    "sub1 = int(input(\"소프트웨어 설계 점수를 입력하세요\"))\n",
    "sub2 = int(input(\"소프트웨어 개발 점수를 입력하세요\"))\n",
    "sub3 = int(input(\"데이터베이스 구축 점수를 입력하세요\"))\n",
    "sub4 = int(input(\"프로그래밍 언어 활용 점수를 입력하세요\"))\n",
    "sub5 = int(input(\"정보시스템 구축관리 점수를 입력하세요\"))\n",
    "\n",
    "if sub1 < 0 or sub1 > 100:\n",
    "    print('잘못된 점수입니다.')\n",
    "elif sub2 < 0 or sub2 > 100:\n",
    "    print('잘못된 점수입니다.')\n",
    "elif sub3 < 0 or sub3 > 100:\n",
    "    print('잘못된 점수입니다.')\n",
    "elif sub4 < 0 or sub4 > 100:\n",
    "    print('잘못된 점수입니다.')\n",
    "elif sub5 < 0 or sub5 > 100:\n",
    "    print('잘못된 점수입니다.')\n",
    "else:\n",
    "    if (sub1 + sub2 + sub3 + sub4 + sub5) / 5 >= 60:\n",
    "        print('합격')\n",
    "    else:\n",
    "        print('불합격')"
   ]
  },
  {
   "cell_type": "code",
   "execution_count": null,
   "metadata": {},
   "outputs": [
    {
     "name": "stdout",
     "output_type": "stream",
     "text": [
      "성적을 알려드립니다.\n",
      "A입니다.\n",
      "안내를 종료합니다.\n"
     ]
    }
   ],
   "source": [
    "score = int(input(\"점수를 입력해주세요 : \"))\n",
    "\n",
    "print(\"성적을 알려드립니다.\")\n",
    "\n",
    "if score >= 90:\n",
    "    print(\"A입니다.\")\n",
    "elif score >= 80:\n",
    "    print(\"B입니다.\")\n",
    "elif score >= 70:\n",
    "    print(\"C입니다.\")\n",
    "elif score >= 60:\n",
    "    print(\"D입니다.\")\n",
    "else:\n",
    "    print(\"F입니다.\")\n",
    "    \n",
    "print(\"안내를 종료합니다.\")\n"
   ]
  },
  {
   "cell_type": "code",
   "execution_count": null,
   "metadata": {},
   "outputs": [
    {
     "name": "stdout",
     "output_type": "stream",
     "text": [
      "기체로 예상됩니다.\n"
     ]
    }
   ],
   "source": [
    "t = float(input(\"현재 물의 온도를 입력해주세요.\"))\n",
    "\n",
    "if t >= 100:\n",
    "    print('기체로 예상됩니다.')\n",
    "elif t < 0:\n",
    "    print('고체로 예상됩니다.')\n",
    "else:\n",
    "    print('액체로 예상됩니다.')"
   ]
  },
  {
   "cell_type": "code",
   "execution_count": null,
   "metadata": {},
   "outputs": [
    {
     "name": "stdout",
     "output_type": "stream",
     "text": [
      "무임승차입니다.\n"
     ]
    }
   ],
   "source": [
    "age = int(input(\"자신의 나이를 입력하세요:\"))\n",
    "\n",
    "if age >= 19:\n",
    "    print(\"1500원\")\n",
    "elif age >= 12:\n",
    "    print(\"1100원\")\n",
    "elif age >= 6:\n",
    "    print(\"800원\")\n",
    "else:\n",
    "    print(\"무임승차입니다.\")"
   ]
  },
  {
   "cell_type": "code",
   "execution_count": null,
   "metadata": {},
   "outputs": [
    {
     "name": "stdout",
     "output_type": "stream",
     "text": [
      "3000개를 주문하셨습니다.\n",
      "적용 할인율은 20%입니다.\n",
      "총 발주 금액은 $24000입니다.\n"
     ]
    }
   ],
   "source": [
    "amount = int(input(\"발주 수량을 입력하세요:\"))\n",
    "print(amount, \"개를 주문하셨습니다.\", sep='')\n",
    "\n",
    "if amount < 1000:\n",
    "    print(\"총 발주 금액은 $\" , amount * 10 , \"입니다.\", sep='')\n",
    "elif amount < 1501:\n",
    "    print(\"적용 할인율은 5%입니다.\")\n",
    "    print(\"총 발주 금액은 $\" , int((amount * 10) * 0.95) , \"입니다.\", sep='')\n",
    "elif amount < 2001:\n",
    "    print(\"적용 할인율은 10%입니다.\")\n",
    "    print(\"총 발주 금액은 $\" , int((amount * 10) * 0.90) , \"입니다.\", sep='')\n",
    "else:\n",
    "    print(\"적용 할인율은 20%입니다.\")\n",
    "    print(\"총 발주 금액은 $\" , int((amount * 10) * 0.80) , \"입니다.\", sep='')"
   ]
  },
  {
   "cell_type": "code",
   "execution_count": null,
   "metadata": {},
   "outputs": [
    {
     "name": "stdout",
     "output_type": "stream",
     "text": [
      "남자\n"
     ]
    }
   ],
   "source": [
    "number = input(\"주민번호 뒷자리를 입력하세요:\")\n",
    "\n",
    "if len(number) != 7:\n",
    "    print(\"자리수를 잘못 입력했습니다.\")\n",
    "else:\n",
    "    if number[0] == \"1\" or number[0] == \"3\":\n",
    "        print(\"남자\")\n",
    "    elif number[0] == \"2\" or number[0] == \"4\":\n",
    "        print(\"여자\")\n",
    "    else:\n",
    "        print(\"잘못된 입력입니다.\")"
   ]
  },
  {
   "cell_type": "code",
   "execution_count": null,
   "metadata": {},
   "outputs": [
    {
     "name": "stdout",
     "output_type": "stream",
     "text": [
      "평년\n"
     ]
    }
   ],
   "source": [
    "year = int(input(\"확인할 연도를 입력하세요:\"))\n",
    "\n",
    "if year % 4 != 0:\n",
    "    print(\"평년입니다.\")\n",
    "else:    # 4로 나누어 떨어지는 것들 중에서\n",
    "    if year % 100 == 0 and year % 400 != 0:\n",
    "        print(\"평년입니다.\")\n",
    "    else:\n",
    "        print(\"윤년입니다.\")"
   ]
  },
  {
   "cell_type": "code",
   "execution_count": null,
   "metadata": {},
   "outputs": [
    {
     "name": "stdout",
     "output_type": "stream",
     "text": [
      "Hello world!\n",
      "Hello world!\n",
      "Hello world!\n",
      "Hello world!\n",
      "Hello world!\n",
      "Hello world!\n",
      "Hello world!\n",
      "Hello world!\n",
      "Hello world!\n",
      "Hello world!\n",
      "Hello world!\n",
      "Hello world!\n",
      "Hello world!\n",
      "Hello world!\n",
      "Hello world!\n",
      "Hello world!\n",
      "Hello world!\n",
      "Hello world!\n",
      "Hello world!\n",
      "Hello world!\n",
      "Hello world!\n",
      "Hello world!\n",
      "Hello world!\n",
      "Hello world!\n",
      "Hello world!\n",
      "Hello world!\n",
      "Hello world!\n",
      "Hello world!\n",
      "Hello world!\n",
      "Hello world!\n",
      "Hello world!\n",
      "Hello world!\n",
      "Hello world!\n",
      "Hello world!\n",
      "Hello world!\n",
      "Hello world!\n",
      "Hello world!\n",
      "Hello world!\n",
      "Hello world!\n",
      "Hello world!\n",
      "Hello world!\n",
      "Hello world!\n",
      "Hello world!\n",
      "Hello world!\n",
      "Hello world!\n",
      "Hello world!\n",
      "Hello world!\n",
      "Hello world!\n",
      "Hello world!\n",
      "Hello world!\n",
      "Hello world!\n",
      "Hello world!\n",
      "Hello world!\n",
      "Hello world!\n",
      "Hello world!\n",
      "Hello world!\n",
      "Hello world!\n",
      "Hello world!\n",
      "Hello world!\n",
      "Hello world!\n",
      "Hello world!\n",
      "Hello world!\n",
      "Hello world!\n",
      "Hello world!\n",
      "Hello world!\n",
      "Hello world!\n",
      "Hello world!\n",
      "Hello world!\n",
      "Hello world!\n",
      "Hello world!\n",
      "Hello world!\n",
      "Hello world!\n",
      "Hello world!\n",
      "Hello world!\n",
      "Hello world!\n",
      "Hello world!\n",
      "Hello world!\n",
      "Hello world!\n",
      "Hello world!\n",
      "Hello world!\n",
      "Hello world!\n",
      "Hello world!\n",
      "Hello world!\n",
      "Hello world!\n",
      "Hello world!\n",
      "Hello world!\n",
      "Hello world!\n",
      "Hello world!\n",
      "Hello world!\n",
      "Hello world!\n",
      "Hello world!\n",
      "Hello world!\n",
      "Hello world!\n",
      "Hello world!\n",
      "Hello world!\n",
      "Hello world!\n",
      "Hello world!\n",
      "Hello world!\n",
      "Hello world!\n",
      "Hello world!\n",
      "Hello world!\n",
      "Hello world!\n",
      "Hello world!\n",
      "Hello world!\n",
      "Hello world!\n",
      "Hello world!\n",
      "Hello world!\n",
      "Hello world!\n",
      "Hello world!\n",
      "Hello world!\n",
      "Hello world!\n",
      "Hello world!\n",
      "Hello world!\n",
      "Hello world!\n",
      "Hello world!\n",
      "Hello world!\n",
      "Hello world!\n",
      "Hello world!\n",
      "Hello world!\n",
      "Hello world!\n",
      "Hello world!\n",
      "Hello world!\n",
      "Hello world!\n",
      "Hello world!\n",
      "Hello world!\n",
      "Hello world!\n",
      "Hello world!\n",
      "Hello world!\n",
      "Hello world!\n",
      "Hello world!\n",
      "Hello world!\n",
      "Hello world!\n",
      "Hello world!\n",
      "Hello world!\n",
      "Hello world!\n",
      "Hello world!\n",
      "Hello world!\n",
      "Hello world!\n",
      "Hello world!\n",
      "Hello world!\n",
      "Hello world!\n",
      "Hello world!\n",
      "Hello world!\n",
      "Hello world!\n",
      "Hello world!\n",
      "Hello world!\n",
      "Hello world!\n",
      "Hello world!\n",
      "Hello world!\n",
      "Hello world!\n",
      "Hello world!\n",
      "Hello world!\n",
      "Hello world!\n",
      "Hello world!\n",
      "Hello world!\n",
      "Hello world!\n",
      "Hello world!\n",
      "Hello world!\n",
      "Hello world!\n",
      "Hello world!\n",
      "Hello world!\n",
      "Hello world!\n",
      "Hello world!\n",
      "Hello world!\n",
      "Hello world!\n",
      "Hello world!\n",
      "Hello world!\n",
      "Hello world!\n",
      "Hello world!\n",
      "Hello world!\n",
      "Hello world!\n",
      "Hello world!\n",
      "Hello world!\n",
      "Hello world!\n",
      "Hello world!\n",
      "Hello world!\n",
      "Hello world!\n",
      "Hello world!\n",
      "Hello world!\n",
      "Hello world!\n",
      "Hello world!\n",
      "Hello world!\n",
      "Hello world!\n",
      "Hello world!\n",
      "Hello world!\n",
      "Hello world!\n",
      "Hello world!\n",
      "Hello world!\n",
      "Hello world!\n",
      "Hello world!\n",
      "Hello world!\n",
      "Hello world!\n",
      "Hello world!\n",
      "Hello world!\n",
      "Hello world!\n",
      "Hello world!\n",
      "Hello world!\n",
      "Hello world!\n",
      "Hello world!\n",
      "Hello world!\n",
      "Hello world!\n",
      "Hello world!\n",
      "Hello world!\n",
      "Hello world!\n",
      "Hello world!\n",
      "Hello world!\n",
      "Hello world!\n",
      "Hello world!\n",
      "Hello world!\n",
      "Hello world!\n",
      "Hello world!\n",
      "Hello world!\n",
      "Hello world!\n",
      "Hello world!\n",
      "Hello world!\n",
      "Hello world!\n",
      "Hello world!\n",
      "Hello world!\n",
      "Hello world!\n",
      "Hello world!\n",
      "Hello world!\n",
      "Hello world!\n",
      "Hello world!\n",
      "Hello world!\n",
      "Hello world!\n",
      "Hello world!\n",
      "Hello world!\n",
      "Hello world!\n",
      "Hello world!\n",
      "Hello world!\n",
      "Hello world!\n",
      "Hello world!\n",
      "Hello world!\n",
      "Hello world!\n",
      "Hello world!\n",
      "Hello world!\n",
      "Hello world!\n",
      "Hello world!\n",
      "Hello world!\n",
      "Hello world!\n",
      "Hello world!\n",
      "Hello world!\n",
      "Hello world!\n",
      "Hello world!\n",
      "Hello world!\n",
      "Hello world!\n",
      "Hello world!\n",
      "Hello world!\n",
      "Hello world!\n",
      "Hello world!\n",
      "Hello world!\n",
      "Hello world!\n",
      "Hello world!\n",
      "Hello world!\n",
      "Hello world!\n",
      "Hello world!\n",
      "Hello world!\n",
      "Hello world!\n",
      "Hello world!\n",
      "Hello world!\n",
      "Hello world!\n",
      "Hello world!\n",
      "Hello world!\n",
      "Hello world!\n",
      "Hello world!\n",
      "Hello world!\n",
      "Hello world!\n",
      "Hello world!\n",
      "Hello world!\n",
      "Hello world!\n",
      "Hello world!\n",
      "Hello world!\n",
      "Hello world!\n",
      "Hello world!\n",
      "Hello world!\n",
      "Hello world!\n",
      "Hello world!\n",
      "Hello world!\n",
      "Hello world!\n",
      "Hello world!\n",
      "Hello world!\n",
      "Hello world!\n",
      "Hello world!\n",
      "Hello world!\n",
      "Hello world!\n",
      "Hello world!\n",
      "Hello world!\n",
      "Hello world!\n",
      "Hello world!\n",
      "Hello world!\n",
      "Hello world!\n",
      "Hello world!\n",
      "Hello world!\n",
      "Hello world!\n",
      "Hello world!\n",
      "Hello world!\n",
      "Hello world!\n",
      "Hello world!\n",
      "Hello world!\n",
      "Hello world!\n",
      "Hello world!\n",
      "Hello world!\n",
      "Hello world!\n",
      "Hello world!\n",
      "Hello world!\n",
      "Hello world!\n",
      "Hello world!\n",
      "Hello world!\n",
      "Hello world!\n",
      "Hello world!\n",
      "Hello world!\n",
      "Hello world!\n",
      "Hello world!\n",
      "Hello world!\n",
      "Hello world!\n",
      "Hello world!\n",
      "Hello world!\n",
      "Hello world!\n",
      "Hello world!\n",
      "Hello world!\n",
      "Hello world!\n",
      "Hello world!\n",
      "Hello world!\n",
      "Hello world!\n",
      "Hello world!\n",
      "Hello world!\n",
      "Hello world!\n",
      "Hello world!\n",
      "Hello world!\n",
      "Hello world!\n",
      "Hello world!\n",
      "Hello world!\n",
      "Hello world!\n",
      "Hello world!\n",
      "Hello world!\n",
      "Hello world!\n",
      "Hello world!\n",
      "Hello world!\n",
      "Hello world!\n",
      "Hello world!\n",
      "Hello world!\n",
      "Hello world!\n",
      "Hello world!\n",
      "Hello world!\n",
      "Hello world!\n",
      "Hello world!\n",
      "Hello world!\n",
      "Hello world!\n",
      "Hello world!\n",
      "Hello world!\n",
      "Hello world!\n",
      "Hello world!\n",
      "Hello world!\n",
      "Hello world!\n",
      "Hello world!\n",
      "Hello world!\n",
      "Hello world!\n",
      "Hello world!\n",
      "Hello world!\n",
      "Hello world!\n",
      "Hello world!\n",
      "Hello world!\n",
      "Hello world!\n",
      "Hello world!\n",
      "Hello world!\n",
      "Hello world!\n",
      "Hello world!\n",
      "Hello world!\n",
      "Hello world!\n",
      "Hello world!\n",
      "Hello world!\n",
      "Hello world!\n",
      "Hello world!\n",
      "Hello world!\n",
      "Hello world!\n",
      "Hello world!\n",
      "Hello world!\n",
      "Hello world!\n",
      "Hello world!\n",
      "Hello world!\n",
      "Hello world!\n",
      "Hello world!\n",
      "Hello world!\n",
      "Hello world!\n",
      "Hello world!\n",
      "Hello world!\n",
      "Hello world!\n",
      "Hello world!\n",
      "Hello world!\n",
      "Hello world!\n",
      "Hello world!\n",
      "Hello world!\n",
      "Hello world!\n",
      "Hello world!\n",
      "Hello world!\n",
      "Hello world!\n",
      "Hello world!\n",
      "Hello world!\n",
      "Hello world!\n",
      "Hello world!\n",
      "Hello world!\n",
      "Hello world!\n",
      "Hello world!\n",
      "Hello world!\n",
      "Hello world!\n",
      "Hello world!\n",
      "Hello world!\n",
      "Hello world!\n",
      "Hello world!\n",
      "Hello world!\n",
      "Hello world!\n",
      "Hello world!\n",
      "Hello world!\n",
      "Hello world!\n",
      "Hello world!\n",
      "Hello world!\n",
      "Hello world!\n",
      "Hello world!\n",
      "Hello world!\n",
      "Hello world!\n",
      "Hello world!\n",
      "Hello world!\n",
      "Hello world!\n",
      "Hello world!\n",
      "Hello world!\n",
      "Hello world!\n",
      "Hello world!\n",
      "Hello world!\n",
      "Hello world!\n",
      "Hello world!\n",
      "Hello world!\n",
      "Hello world!\n",
      "Hello world!\n",
      "Hello world!\n",
      "Hello world!\n",
      "Hello world!\n",
      "Hello world!\n",
      "Hello world!\n",
      "Hello world!\n",
      "Hello world!\n",
      "Hello world!\n",
      "Hello world!\n",
      "Hello world!\n",
      "Hello world!\n",
      "Hello world!\n",
      "Hello world!\n",
      "Hello world!\n",
      "Hello world!\n",
      "Hello world!\n",
      "Hello world!\n",
      "Hello world!\n",
      "Hello world!\n",
      "Hello world!\n",
      "Hello world!\n",
      "Hello world!\n",
      "Hello world!\n",
      "Hello world!\n",
      "Hello world!\n",
      "Hello world!\n",
      "Hello world!\n",
      "Hello world!\n",
      "Hello world!\n",
      "Hello world!\n",
      "Hello world!\n",
      "Hello world!\n",
      "Hello world!\n",
      "Hello world!\n",
      "Hello world!\n",
      "Hello world!\n",
      "Hello world!\n",
      "Hello world!\n",
      "Hello world!\n",
      "Hello world!\n",
      "Hello world!\n",
      "Hello world!\n",
      "Hello world!\n",
      "Hello world!\n",
      "Hello world!\n",
      "Hello world!\n",
      "Hello world!\n",
      "Hello world!\n",
      "Hello world!\n",
      "Hello world!\n",
      "Hello world!\n",
      "Hello world!\n",
      "Hello world!\n",
      "Hello world!\n",
      "Hello world!\n",
      "Hello world!\n",
      "Hello world!\n",
      "Hello world!\n",
      "Hello world!\n",
      "Hello world!\n",
      "Hello world!\n",
      "Hello world!\n",
      "Hello world!\n",
      "Hello world!\n",
      "Hello world!\n",
      "Hello world!\n",
      "Hello world!\n",
      "Hello world!\n",
      "Hello world!\n",
      "Hello world!\n",
      "Hello world!\n",
      "Hello world!\n",
      "Hello world!\n",
      "Hello world!\n",
      "Hello world!\n",
      "Hello world!\n",
      "Hello world!\n",
      "Hello world!\n",
      "Hello world!\n",
      "Hello world!\n",
      "Hello world!\n",
      "Hello world!\n",
      "Hello world!\n",
      "Hello world!\n",
      "Hello world!\n",
      "Hello world!\n",
      "Hello world!\n",
      "Hello world!\n",
      "Hello world!\n",
      "Hello world!\n",
      "Hello world!\n",
      "Hello world!\n",
      "Hello world!\n",
      "Hello world!\n",
      "Hello world!\n",
      "Hello world!\n",
      "Hello world!\n",
      "Hello world!\n",
      "Hello world!\n",
      "Hello world!\n",
      "Hello world!\n",
      "Hello world!\n",
      "Hello world!\n",
      "Hello world!\n",
      "Hello world!\n",
      "Hello world!\n",
      "Hello world!\n",
      "Hello world!\n",
      "Hello world!\n",
      "Hello world!\n",
      "Hello world!\n",
      "Hello world!\n",
      "Hello world!\n",
      "Hello world!\n",
      "Hello world!\n",
      "Hello world!\n",
      "Hello world!\n",
      "Hello world!\n",
      "Hello world!\n",
      "Hello world!\n",
      "Hello world!\n",
      "Hello world!\n",
      "Hello world!\n",
      "Hello world!\n",
      "Hello world!\n",
      "Hello world!\n",
      "Hello world!\n",
      "Hello world!\n",
      "Hello world!\n",
      "Hello world!\n",
      "Hello world!\n",
      "Hello world!\n",
      "Hello world!\n",
      "Hello world!\n",
      "Hello world!\n",
      "Hello world!\n",
      "Hello world!\n",
      "Hello world!\n",
      "Hello world!\n",
      "Hello world!\n",
      "Hello world!\n",
      "Hello world!\n",
      "Hello world!\n",
      "Hello world!\n",
      "Hello world!\n",
      "Hello world!\n",
      "Hello world!\n",
      "Hello world!\n",
      "Hello world!\n",
      "Hello world!\n",
      "Hello world!\n",
      "Hello world!\n",
      "Hello world!\n",
      "Hello world!\n",
      "Hello world!\n",
      "Hello world!\n",
      "Hello world!\n",
      "Hello world!\n",
      "Hello world!\n",
      "Hello world!\n",
      "Hello world!\n",
      "Hello world!\n",
      "Hello world!\n",
      "Hello world!\n",
      "Hello world!\n",
      "Hello world!\n",
      "Hello world!\n",
      "Hello world!\n",
      "Hello world!\n",
      "Hello world!\n",
      "Hello world!\n",
      "Hello world!\n",
      "Hello world!\n",
      "Hello world!\n",
      "Hello world!\n",
      "Hello world!\n",
      "Hello world!\n",
      "Hello world!\n",
      "Hello world!\n",
      "Hello world!\n",
      "Hello world!\n",
      "Hello world!\n",
      "Hello world!\n",
      "Hello world!\n",
      "Hello world!\n",
      "Hello world!\n",
      "Hello world!\n",
      "Hello world!\n",
      "Hello world!\n",
      "Hello world!\n",
      "Hello world!\n",
      "Hello world!\n",
      "Hello world!\n",
      "Hello world!\n",
      "Hello world!\n",
      "Hello world!\n",
      "Hello world!\n",
      "Hello world!\n",
      "Hello world!\n",
      "Hello world!\n",
      "Hello world!\n",
      "Hello world!\n",
      "Hello world!\n",
      "Hello world!\n",
      "Hello world!\n",
      "Hello world!\n",
      "Hello world!\n",
      "Hello world!\n",
      "Hello world!\n",
      "Hello world!\n",
      "Hello world!\n",
      "Hello world!\n",
      "Hello world!\n",
      "Hello world!\n",
      "Hello world!\n",
      "Hello world!\n",
      "Hello world!\n",
      "Hello world!\n",
      "Hello world!\n",
      "Hello world!\n",
      "Hello world!\n",
      "Hello world!\n",
      "Hello world!\n",
      "Hello world!\n",
      "Hello world!\n",
      "Hello world!\n",
      "Hello world!\n",
      "Hello world!\n",
      "Hello world!\n",
      "Hello world!\n",
      "Hello world!\n",
      "Hello world!\n",
      "Hello world!\n",
      "Hello world!\n",
      "Hello world!\n",
      "Hello world!\n",
      "Hello world!\n",
      "Hello world!\n",
      "Hello world!\n",
      "Hello world!\n",
      "Hello world!\n",
      "Hello world!\n",
      "Hello world!\n",
      "Hello world!\n",
      "Hello world!\n",
      "Hello world!\n",
      "Hello world!\n",
      "Hello world!\n",
      "Hello world!\n",
      "Hello world!\n",
      "Hello world!\n",
      "Hello world!\n",
      "Hello world!\n",
      "Hello world!\n",
      "Hello world!\n",
      "Hello world!\n",
      "Hello world!\n",
      "Hello world!\n",
      "Hello world!\n",
      "Hello world!\n",
      "Hello world!\n",
      "Hello world!\n",
      "Hello world!\n",
      "Hello world!\n",
      "Hello world!\n",
      "Hello world!\n",
      "Hello world!\n",
      "Hello world!\n",
      "Hello world!\n",
      "Hello world!\n",
      "Hello world!\n",
      "Hello world!\n",
      "Hello world!\n",
      "Hello world!\n",
      "Hello world!\n",
      "Hello world!\n",
      "Hello world!\n",
      "Hello world!\n",
      "Hello world!\n",
      "Hello world!\n",
      "Hello world!\n",
      "Hello world!\n",
      "Hello world!\n",
      "Hello world!\n",
      "Hello world!\n",
      "Hello world!\n",
      "Hello world!\n",
      "Hello world!\n",
      "Hello world!\n",
      "Hello world!\n",
      "Hello world!\n",
      "Hello world!\n",
      "Hello world!\n",
      "Hello world!\n",
      "Hello world!\n",
      "Hello world!\n",
      "Hello world!\n",
      "Hello world!\n",
      "Hello world!\n",
      "Hello world!\n",
      "Hello world!\n",
      "Hello world!\n",
      "Hello world!\n",
      "Hello world!\n",
      "Hello world!\n",
      "Hello world!\n",
      "Hello world!\n",
      "Hello world!\n",
      "Hello world!\n",
      "Hello world!\n",
      "Hello world!\n",
      "Hello world!\n",
      "Hello world!\n",
      "Hello world!\n",
      "Hello world!\n",
      "Hello world!\n",
      "Hello world!\n",
      "Hello world!\n",
      "Hello world!\n",
      "Hello world!\n",
      "Hello world!\n",
      "Hello world!\n",
      "Hello world!\n",
      "Hello world!\n",
      "Hello world!\n",
      "Hello world!\n",
      "Hello world!\n",
      "Hello world!\n",
      "Hello world!\n",
      "Hello world!\n",
      "Hello world!\n",
      "Hello world!\n",
      "Hello world!\n",
      "Hello world!\n",
      "Hello world!\n",
      "Hello world!\n",
      "Hello world!\n",
      "Hello world!\n",
      "Hello world!\n",
      "Hello world!\n",
      "Hello world!\n",
      "Hello world!\n",
      "Hello world!\n",
      "Hello world!\n",
      "Hello world!\n",
      "Hello world!\n",
      "Hello world!\n",
      "Hello world!\n",
      "Hello world!\n",
      "Hello world!\n",
      "Hello world!\n",
      "Hello world!\n",
      "Hello world!\n",
      "Hello world!\n",
      "Hello world!\n",
      "Hello world!\n",
      "Hello world!\n",
      "Hello world!\n",
      "Hello world!\n",
      "Hello world!\n",
      "Hello world!\n",
      "Hello world!\n",
      "Hello world!\n",
      "Hello world!\n",
      "Hello world!\n",
      "Hello world!\n",
      "Hello world!\n",
      "Hello world!\n",
      "Hello world!\n",
      "Hello world!\n",
      "Hello world!\n",
      "Hello world!\n",
      "Hello world!\n",
      "Hello world!\n",
      "Hello world!\n",
      "Hello world!\n",
      "Hello world!\n",
      "Hello world!\n",
      "Hello world!\n",
      "Hello world!\n",
      "Hello world!\n",
      "Hello world!\n",
      "Hello world!\n",
      "Hello world!\n",
      "Hello world!\n",
      "Hello world!\n",
      "Hello world!\n",
      "Hello world!\n",
      "Hello world!\n",
      "Hello world!\n",
      "Hello world!\n",
      "Hello world!\n",
      "Hello world!\n",
      "Hello world!\n",
      "Hello world!\n",
      "Hello world!\n",
      "Hello world!\n",
      "Hello world!\n",
      "Hello world!\n",
      "Hello world!\n",
      "Hello world!\n",
      "Hello world!\n",
      "Hello world!\n",
      "Hello world!\n",
      "Hello world!\n",
      "Hello world!\n",
      "Hello world!\n",
      "Hello world!\n",
      "Hello world!\n",
      "Hello world!\n",
      "Hello world!\n",
      "Hello world!\n",
      "Hello world!\n",
      "Hello world!\n",
      "Hello world!\n",
      "Hello world!\n",
      "Hello world!\n",
      "Hello world!\n",
      "Hello world!\n",
      "Hello world!\n",
      "Hello world!\n",
      "Hello world!\n",
      "Hello world!\n",
      "Hello world!\n",
      "Hello world!\n",
      "Hello world!\n",
      "Hello world!\n",
      "Hello world!\n",
      "Hello world!\n",
      "Hello world!\n",
      "Hello world!\n",
      "Hello world!\n",
      "Hello world!\n",
      "Hello world!\n",
      "Hello world!\n",
      "Hello world!\n",
      "Hello world!\n",
      "Hello world!\n",
      "Hello world!\n",
      "Hello world!\n",
      "Hello world!\n",
      "Hello world!\n",
      "Hello world!\n",
      "Hello world!\n",
      "Hello world!\n",
      "Hello world!\n",
      "Hello world!\n",
      "Hello world!\n",
      "Hello world!\n",
      "Hello world!\n",
      "Hello world!\n",
      "Hello world!\n",
      "Hello world!\n",
      "Hello world!\n",
      "Hello world!\n",
      "Hello world!\n",
      "Hello world!\n",
      "Hello world!\n",
      "Hello world!\n",
      "Hello world!\n",
      "Hello world!\n",
      "Hello world!\n",
      "Hello world!\n",
      "Hello world!\n",
      "Hello world!\n",
      "Hello world!\n",
      "Hello world!\n",
      "Hello world!\n",
      "Hello world!\n",
      "Hello world!\n",
      "Hello world!\n",
      "Hello world!\n",
      "Hello world!\n",
      "Hello world!\n",
      "Hello world!\n",
      "Hello world!\n",
      "Hello world!\n",
      "Hello world!\n",
      "Hello world!\n",
      "Hello world!\n",
      "Hello world!\n",
      "Hello world!\n",
      "Hello world!\n",
      "Hello world!\n",
      "Hello world!\n",
      "Hello world!\n",
      "Hello world!\n",
      "Hello world!\n",
      "Hello world!\n",
      "Hello world!\n",
      "Hello world!\n",
      "Hello world!\n",
      "Hello world!\n",
      "Hello world!\n",
      "Hello world!\n",
      "Hello world!\n",
      "Hello world!\n",
      "Hello world!\n",
      "Hello world!\n",
      "Hello world!\n",
      "Hello world!\n",
      "Hello world!\n",
      "Hello world!\n",
      "Hello world!\n",
      "Hello world!\n",
      "Hello world!\n",
      "Hello world!\n",
      "Hello world!\n",
      "Hello world!\n",
      "Hello world!\n",
      "Hello world!\n",
      "Hello world!\n",
      "Hello world!\n",
      "Hello world!\n",
      "Hello world!\n",
      "Hello world!\n",
      "Hello world!\n",
      "Hello world!\n",
      "Hello world!\n",
      "Hello world!\n",
      "Hello world!\n",
      "Hello world!\n",
      "Hello world!\n",
      "Hello world!\n",
      "Hello world!\n",
      "Hello world!\n",
      "Hello world!\n",
      "Hello world!\n",
      "Hello world!\n",
      "Hello world!\n",
      "Hello world!\n",
      "Hello world!\n",
      "Hello world!\n",
      "Hello world!\n",
      "Hello world!\n",
      "Hello world!\n",
      "Hello world!\n",
      "Hello world!\n",
      "Hello world!\n",
      "Hello world!\n",
      "Hello world!\n",
      "Hello world!\n",
      "Hello world!\n",
      "Hello world!\n",
      "Hello world!\n",
      "Hello world!\n",
      "Hello world!\n",
      "Hello world!\n",
      "Hello world!\n",
      "Hello world!\n",
      "Hello world!\n",
      "Hello world!\n",
      "Hello world!\n",
      "Hello world!\n",
      "Hello world!\n",
      "Hello world!\n",
      "Hello world!\n",
      "Hello world!\n",
      "Hello world!\n",
      "Hello world!\n",
      "Hello world!\n",
      "Hello world!\n",
      "Hello world!\n",
      "Hello world!\n",
      "Hello world!\n",
      "Hello world!\n",
      "Hello world!\n"
     ]
    }
   ],
   "source": [
    "for _ in range(1000):\n",
    "    print(\"Hello world!\")"
   ]
  },
  {
   "cell_type": "code",
   "execution_count": null,
   "metadata": {},
   "outputs": [
    {
     "data": {
      "text/plain": [
       "[2,\n",
       " 4,\n",
       " 6,\n",
       " 8,\n",
       " 10,\n",
       " 12,\n",
       " 14,\n",
       " 16,\n",
       " 18,\n",
       " 20,\n",
       " 22,\n",
       " 24,\n",
       " 26,\n",
       " 28,\n",
       " 30,\n",
       " 32,\n",
       " 34,\n",
       " 36,\n",
       " 38,\n",
       " 40,\n",
       " 42,\n",
       " 44,\n",
       " 46,\n",
       " 48,\n",
       " 50,\n",
       " 52,\n",
       " 54,\n",
       " 56,\n",
       " 58,\n",
       " 60,\n",
       " 62,\n",
       " 64,\n",
       " 66,\n",
       " 68,\n",
       " 70,\n",
       " 72,\n",
       " 74,\n",
       " 76,\n",
       " 78,\n",
       " 80,\n",
       " 82,\n",
       " 84,\n",
       " 86,\n",
       " 88,\n",
       " 90,\n",
       " 92,\n",
       " 94,\n",
       " 96,\n",
       " 98]"
      ]
     },
     "execution_count": 36,
     "metadata": {},
     "output_type": "execute_result"
    }
   ],
   "source": [
    "even_numbers = list(range(2, 100, 2))\n",
    "even_numbers"
   ]
  },
  {
   "cell_type": "code",
   "execution_count": null,
   "metadata": {},
   "outputs": [
    {
     "name": "stdout",
     "output_type": "stream",
     "text": [
      "Hello world 1\n",
      "Hello world 2\n",
      "Hello world 3\n",
      "Hello world 4\n",
      "Hello world 5\n",
      "Hello world 6\n",
      "Hello world 7\n",
      "Hello world 8\n",
      "Hello world 9\n",
      "Hello world 10\n",
      "Hello world 11\n",
      "Hello world 12\n",
      "Hello world 13\n",
      "Hello world 14\n",
      "Hello world 15\n",
      "Hello world 16\n",
      "Hello world 17\n",
      "Hello world 18\n",
      "Hello world 19\n",
      "Hello world 20\n",
      "Hello world 21\n",
      "Hello world 22\n",
      "Hello world 23\n",
      "Hello world 24\n",
      "Hello world 25\n",
      "Hello world 26\n",
      "Hello world 27\n",
      "Hello world 28\n",
      "Hello world 29\n",
      "Hello world 30\n",
      "Hello world 31\n",
      "Hello world 32\n",
      "Hello world 33\n",
      "Hello world 34\n",
      "Hello world 35\n",
      "Hello world 36\n",
      "Hello world 37\n",
      "Hello world 38\n",
      "Hello world 39\n",
      "Hello world 40\n",
      "Hello world 41\n",
      "Hello world 42\n",
      "Hello world 43\n",
      "Hello world 44\n",
      "Hello world 45\n",
      "Hello world 46\n",
      "Hello world 47\n",
      "Hello world 48\n",
      "Hello world 49\n",
      "Hello world 50\n",
      "Hello world 51\n",
      "Hello world 52\n",
      "Hello world 53\n",
      "Hello world 54\n",
      "Hello world 55\n",
      "Hello world 56\n",
      "Hello world 57\n",
      "Hello world 58\n",
      "Hello world 59\n",
      "Hello world 60\n",
      "Hello world 61\n",
      "Hello world 62\n",
      "Hello world 63\n",
      "Hello world 64\n",
      "Hello world 65\n",
      "Hello world 66\n",
      "Hello world 67\n",
      "Hello world 68\n",
      "Hello world 69\n",
      "Hello world 70\n",
      "Hello world 71\n",
      "Hello world 72\n",
      "Hello world 73\n",
      "Hello world 74\n",
      "Hello world 75\n",
      "Hello world 76\n",
      "Hello world 77\n",
      "Hello world 78\n",
      "Hello world 79\n",
      "Hello world 80\n",
      "Hello world 81\n",
      "Hello world 82\n",
      "Hello world 83\n",
      "Hello world 84\n",
      "Hello world 85\n",
      "Hello world 86\n",
      "Hello world 87\n",
      "Hello world 88\n",
      "Hello world 89\n",
      "Hello world 90\n",
      "Hello world 91\n",
      "Hello world 92\n",
      "Hello world 93\n",
      "Hello world 94\n",
      "Hello world 95\n",
      "Hello world 96\n",
      "Hello world 97\n",
      "Hello world 98\n",
      "Hello world 99\n",
      "Hello world 100\n"
     ]
    }
   ],
   "source": [
    "for i in range(1, 101):\n",
    "    print(\"Hello world\", i)"
   ]
  },
  {
   "cell_type": "code",
   "execution_count": null,
   "metadata": {},
   "outputs": [
    {
     "name": "stdout",
     "output_type": "stream",
     "text": [
      "Hello world! 1\n",
      "Hello world! 2\n",
      "Hello world! 3\n"
     ]
    }
   ],
   "source": [
    "n = int(input(\"인사 몇 번 해드릴까요?\"))\n",
    "for i in range(1, n+1):\n",
    "    print(\"Hello world!\", i)"
   ]
  },
  {
   "cell_type": "code",
   "execution_count": null,
   "metadata": {},
   "outputs": [
    {
     "name": "stdout",
     "output_type": "stream",
     "text": [
      "[5, 6, 7, 8, 9]\n",
      "[0, 3, 6, 9]\n",
      "[-10, -40, -70]\n"
     ]
    }
   ],
   "source": [
    "li1 = list(range(5, 10))\n",
    "li2 = list(range(0, 10, 3))\n",
    "li3 = list(range(-10, -71, -30))\n",
    "print(li1)\n",
    "print(li2)\n",
    "print(li3)"
   ]
  },
  {
   "cell_type": "code",
   "execution_count": null,
   "metadata": {},
   "outputs": [
    {
     "name": "stdout",
     "output_type": "stream",
     "text": [
      "6\t6\t6\t6\t6\t6\t\n",
      "5\t5\t5\t5\t5\t\n",
      "4\t4\t4\t4\t\n",
      "3\t3\t3\t\n",
      "2\t2\t\n",
      "1\t\n"
     ]
    }
   ],
   "source": [
    "n = int(input(\"자연수 하나 입력해주세요:\"))\n",
    "\n",
    "for i in range(n, 0, -1):\n",
    "    print((str(i) + '\\t') * i)"
   ]
  },
  {
   "cell_type": "code",
   "execution_count": null,
   "metadata": {},
   "outputs": [
    {
     "name": "stdout",
     "output_type": "stream",
     "text": [
      "6\t6\t6\t6\t6\t6\n",
      "5\t5\t5\t5\t5\n",
      "4\t4\t4\t4\n",
      "3\t3\t3\n",
      "2\t2\n",
      "1\n"
     ]
    }
   ],
   "source": [
    "n = int(input(\"자연수 하나 입력해주세요:\"))\n",
    "\n",
    "for i in range(n, 0, -1):\n",
    "    for j in range(0, i-1):\n",
    "        print(str(i) + '\\t', end='')\n",
    "    print(i)"
   ]
  },
  {
   "cell_type": "code",
   "execution_count": null,
   "metadata": {},
   "outputs": [
    {
     "name": "stdout",
     "output_type": "stream",
     "text": [
      "* * * * * * * * * * \n",
      "*                 *\n",
      "*                 *\n",
      "*                 *\n",
      "*                 *\n",
      "*                 *\n",
      "*                 *\n",
      "*                 *\n",
      "*                 *\n",
      "* * * * * * * * * * \n"
     ]
    }
   ],
   "source": [
    "for i in range(0, 10):\n",
    "    if i == 0 or i == 9:\n",
    "        print('* ' * 10)\n",
    "    else:\n",
    "        print('*                 *')\n",
    "# print('* * * * * * * * * *')\n",
    "# for _ in range(8):\n",
    "#     print('*                 *')\n",
    "# print('* * * * * * * * * *')"
   ]
  },
  {
   "cell_type": "code",
   "execution_count": 83,
   "metadata": {},
   "outputs": [
    {
     "name": "stdout",
     "output_type": "stream",
     "text": [
      "1 + 3 + 5 + 7 + 9 + 11 + 13 + 15 + 17 + 19 + 21 + 23 + 25 + 27 + 29 + 31 + 33 + 35 + 37 + 39 + 41 + 43 + 45 + 47 + 49 + 51 + 53 + 55 + 57 + 59 + 61 + 63 + 65 + 67 + 69 + 71 + 73 + 75 + 77 + 79 + 81 + 83 + 85 + 87 + 89 + 91 + 93 + 95 + 97 + 99 = 2500\n"
     ]
    }
   ],
   "source": [
    "n = int(input('1부터 입력한 자연수까지의 모든 홀수의 합을 구합니다'))\n",
    "sum = 0\n",
    "\n",
    "# for 문의 범위를 n+1로 하고, n이 됐을 때 +를 출력하지 않기 위해\n",
    "# 아래 반복문을 이용하면 1을 빼주지 않을 경우 짝수가 입력됐을 때 +가 한번 더 출력됨\n",
    "# ex) 100을 입력했을 경우, 99 += 이 됨\n",
    "if n % 2 == 0:    # 아래 반복문을 사용할 때 출력형식을 맞추기 위해 \n",
    "    n -= 1\n",
    "for i in range(1, n+1, 2):\n",
    "    sum += i\n",
    "    if i == n:\n",
    "        print(str(i), end=' ')\n",
    "    else:\n",
    "        print(str(i), '+', end=' ')\n",
    "print('=', sum)"
   ]
  },
  {
   "cell_type": "code",
   "execution_count": 85,
   "metadata": {},
   "outputs": [
    {
     "name": "stdout",
     "output_type": "stream",
     "text": [
      "5040\n"
     ]
    }
   ],
   "source": [
    "n = int(input(\"계승을 구할 숫자를 입력하세요.\"))\n",
    "f = 1\n",
    "for i in range(2, n+1):\n",
    "    f *= i\n",
    "print(f)"
   ]
  },
  {
   "cell_type": "code",
   "execution_count": 87,
   "metadata": {},
   "outputs": [
    {
     "name": "stdout",
     "output_type": "stream",
     "text": [
      "100 -420 250 1030 210 770 240 "
     ]
    }
   ],
   "source": [
    "x = [10, -42, 25, 103, 21, 77, 24]\n",
    "\n",
    "for _ in x:\n",
    "    print(_ * 10, end=' ')"
   ]
  },
  {
   "cell_type": "code",
   "execution_count": 88,
   "metadata": {},
   "outputs": [
    {
     "name": "stdout",
     "output_type": "stream",
     "text": [
      "9 * 1 = 9\n",
      "9 * 2 = 18\n",
      "9 * 3 = 27\n",
      "9 * 4 = 36\n",
      "9 * 5 = 45\n",
      "9 * 6 = 54\n",
      "9 * 7 = 63\n",
      "9 * 8 = 72\n",
      "9 * 9 = 81\n"
     ]
    }
   ],
   "source": [
    "n = int(input(\"구구단을 알려드립니다. 숫자를 입력하세요 \"))\n",
    "\n",
    "for i in range(1, 10):\n",
    "    print(n, \"*\", i, '=', n * i)"
   ]
  },
  {
   "cell_type": "code",
   "execution_count": 90,
   "metadata": {},
   "outputs": [
    {
     "name": "stdout",
     "output_type": "stream",
     "text": [
      "5050\n"
     ]
    }
   ],
   "source": [
    "n = int(input('자연수를 입력해주세요:'))\n",
    "sum = 0\n",
    "\n",
    "for i in range(1, n+1):\n",
    "    sum += i\n",
    "print(sum)"
   ]
  },
  {
   "cell_type": "code",
   "execution_count": 4,
   "metadata": {},
   "outputs": [
    {
     "name": "stdout",
     "output_type": "stream",
     "text": [
      "정각이 아닙니다.\n"
     ]
    }
   ],
   "source": [
    "a, b = input(\"현재시간을 입력하세요.\").split(':')\n",
    "if b == \"00\":\n",
    "    print(\"정각입니다.\")\n",
    "else:\n",
    "    print(\"정각이 아닙니다.\")"
   ]
  },
  {
   "cell_type": "code",
   "execution_count": 5,
   "metadata": {},
   "outputs": [
    {
     "name": "stdout",
     "output_type": "stream",
     "text": [
      "Pt\n"
     ]
    }
   ],
   "source": [
    "language = 'Python'\n",
    "print(language[0], language[2], sep=\"\")"
   ]
  },
  {
   "cell_type": "code",
   "execution_count": 18,
   "metadata": {},
   "outputs": [
    {
     "name": "stdout",
     "output_type": "stream",
     "text": [
      "[1, 2, '짝', 4, 5, '짝', 7, 8, '짝', 10]\n"
     ]
    }
   ],
   "source": [
    "list_a =  [1, 2, 3, 4, 5, 6, 7, 8, 9, 10]\n",
    "list_a[2::3] = '짝' * len(list_a[2::3])\n",
    "print(list_a)\n"
   ]
  },
  {
   "cell_type": "code",
   "execution_count": 10,
   "metadata": {},
   "outputs": [
    {
     "name": "stdout",
     "output_type": "stream",
     "text": [
      "1부터 10까지 홀수의 합은 25입니다.\n"
     ]
    }
   ],
   "source": [
    "sum = 0\n",
    "for i in range(1, 11, 2):\n",
    "    sum += i\n",
    "print(\"1부터 10까지 홀수의 합은\", str(sum)+'입니다.')"
   ]
  },
  {
   "cell_type": "code",
   "execution_count": 16,
   "metadata": {},
   "outputs": [
    {
     "data": {
      "text/plain": [
       "(-10, -7, -4, -1, 2, 5, 8)"
      ]
     },
     "execution_count": 16,
     "metadata": {},
     "output_type": "execute_result"
    }
   ],
   "source": [
    "tuple(range(-10, 10, 3))"
   ]
  },
  {
   "cell_type": "code",
   "execution_count": 1,
   "metadata": {},
   "outputs": [
    {
     "name": "stdout",
     "output_type": "stream",
     "text": [
      "*****\n",
      "*****\n",
      "*****\n",
      "*****\n",
      "*****\n"
     ]
    }
   ],
   "source": [
    "for i in range(5):\n",
    "    for j in range(5):\n",
    "        print('*', end='')\n",
    "    print()"
   ]
  },
  {
   "cell_type": "code",
   "execution_count": 2,
   "metadata": {},
   "outputs": [
    {
     "name": "stdout",
     "output_type": "stream",
     "text": [
      "*****\n",
      "*****\n",
      "*****\n",
      "*****\n",
      "*****\n"
     ]
    }
   ],
   "source": [
    "for _ in range(5):\n",
    "    print('*****')"
   ]
  },
  {
   "cell_type": "code",
   "execution_count": 3,
   "metadata": {},
   "outputs": [
    {
     "name": "stdout",
     "output_type": "stream",
     "text": [
      "Hello world 20\n",
      "Hello world 19\n",
      "Hello world 18\n",
      "Hello world 17\n",
      "Hello world 16\n",
      "Hello world 15\n",
      "Hello world 14\n",
      "Hello world 13\n",
      "Hello world 12\n",
      "Hello world 11\n",
      "Hello world 10\n",
      "Hello world 9\n",
      "Hello world 8\n",
      "Hello world 7\n",
      "Hello world 6\n",
      "Hello world 5\n",
      "Hello world 4\n",
      "Hello world 3\n",
      "Hello world 2\n",
      "Hello world 1\n"
     ]
    }
   ],
   "source": [
    "count = int(input(\"반복할 횟수를 입력하세요: \"))\n",
    "\n",
    "while count > 0:\n",
    "    print(\"Hello world\", count)\n",
    "    count -= 1"
   ]
  },
  {
   "cell_type": "code",
   "execution_count": 4,
   "metadata": {},
   "outputs": [
    {
     "name": "stdout",
     "output_type": "stream",
     "text": [
      "2\t4\t6\t8\t10\t12\t14\t16\t18\t20\t22\t24\t26\t28\t30\t32\t34\t36\t38\t40\t42\t44\t46\t48\t50\t52\t54\t56\t58\t60\t62\t64\t66\t68\t70\t72\t74\t76\t78\t80\t82\t84\t86\t88\t90\t92\t94\t96\t98\t100\t"
     ]
    }
   ],
   "source": [
    "a = 2\n",
    "while(a <= 100):\n",
    "    print(a, end='\\t')\n",
    "    a += 2"
   ]
  },
  {
   "cell_type": "code",
   "execution_count": 5,
   "metadata": {},
   "outputs": [
    {
     "name": "stdout",
     "output_type": "stream",
     "text": [
      "9 * 1 = 9\n",
      "9 * 2 = 18\n",
      "9 * 3 = 27\n",
      "9 * 4 = 36\n",
      "9 * 5 = 45\n",
      "9 * 6 = 54\n",
      "9 * 7 = 63\n",
      "9 * 8 = 72\n",
      "9 * 9 = 81\n"
     ]
    }
   ],
   "source": [
    "n = int(input(\"구구단을 알려드립니다. 숫자를 입력하세요\"))\n",
    "m = 1\n",
    "while(m <= 9):\n",
    "    print(n, '*', m, '=', n * m)\n",
    "    m += 1"
   ]
  },
  {
   "cell_type": "code",
   "execution_count": 8,
   "metadata": {},
   "outputs": [
    {
     "name": "stdout",
     "output_type": "stream",
     "text": [
      "평균 :88.0점\n"
     ]
    }
   ],
   "source": [
    "n = int(input(\"학생의 수 : \"))\n",
    "sum = 0\n",
    "i = 1\n",
    "\n",
    "while(i <= n):\n",
    "    tmp = int(input(str(i) + \"번 학생의 점수 : \"))\n",
    "    sum += tmp\n",
    "    i += 1\n",
    "\n",
    "print(\"평균 :\" + str(sum/n) + \"점\")"
   ]
  },
  {
   "cell_type": "code",
   "execution_count": 9,
   "metadata": {},
   "outputs": [
    {
     "name": "stdout",
     "output_type": "stream",
     "text": [
      "79.0\n"
     ]
    }
   ],
   "source": [
    "class_a = (70, 60, 55, 75, 95, 90, 80, 80, 85, 100)\n",
    "i = 0\n",
    "sum = 0\n",
    "\n",
    "while(i < len(class_a)):\n",
    "    sum += class_a[i]\n",
    "    i += 1\n",
    "\n",
    "print(sum/len(class_a))"
   ]
  },
  {
   "cell_type": "code",
   "execution_count": 13,
   "metadata": {},
   "outputs": [
    {
     "name": "stdout",
     "output_type": "stream",
     "text": [
      "5050\n"
     ]
    }
   ],
   "source": [
    "i = 0\n",
    "total = 0\n",
    "while True:\n",
    "    if i > 100:\n",
    "        break\n",
    "    total += i\n",
    "    i += 1\n",
    "print(total)"
   ]
  },
  {
   "cell_type": "code",
   "execution_count": 17,
   "metadata": {},
   "outputs": [
    {
     "name": "stdout",
     "output_type": "stream",
     "text": [
      "3 13 23 33 43 53 63 73 83 93 "
     ]
    }
   ],
   "source": [
    "i = 0\n",
    "while True:\n",
    "    if i > 100:\n",
    "        break\n",
    "    if i % 10 == 3:\n",
    "        print(i, end=' ')\n",
    "    i += 1"
   ]
  },
  {
   "cell_type": "code",
   "execution_count": 20,
   "metadata": {},
   "outputs": [
    {
     "name": "stdout",
     "output_type": "stream",
     "text": [
      "3 13 23 33 43 53 63 73 83 93 "
     ]
    }
   ],
   "source": [
    "i = 0\n",
    "while True:\n",
    "    if i > 100:\n",
    "        break \n",
    "    elif i % 10 != 3:\n",
    "        i += 1\n",
    "        continue\n",
    "    print(i, end=' ')\n",
    "    i += 1"
   ]
  },
  {
   "cell_type": "code",
   "execution_count": 26,
   "metadata": {},
   "outputs": [
    {
     "name": "stdout",
     "output_type": "stream",
     "text": [
      "1 2 3 4 5 6 7 8 9 10 \n",
      "------------------\n",
      "1 2 3 4 5 6 7 8 9 10 "
     ]
    }
   ],
   "source": [
    "for i in range(1, 11):\n",
    "    print(i, end=' ')\n",
    "\n",
    "print()\n",
    "print(\"------------------\")\n",
    "\n",
    "i = 1\n",
    "while (i < 11):\n",
    "    print(i, end=' ')\n",
    "    i += 1"
   ]
  },
  {
   "cell_type": "code",
   "execution_count": 28,
   "metadata": {},
   "outputs": [
    {
     "name": "stdout",
     "output_type": "stream",
     "text": [
      "1부터 10까지의 합은 55 입니다.\n",
      "1부터 10까지의 합은 55 입니다.\n"
     ]
    }
   ],
   "source": [
    "start = int(input(\"시작하는 정수 입력 : \"))\n",
    "end = int(input(\"끝나는 정수 입력 : \"))\n",
    "for_total = 0\n",
    "while_total = 0\n",
    "\n",
    "for i in range(start, end+1):\n",
    "    for_total += i\n",
    "print(\"1부터 10까지의 합은\", for_total, \"입니다.\")\n",
    "\n",
    "while(start <= end):\n",
    "    while_total += start\n",
    "    start += 1\n",
    "print(\"1부터 10까지의 합은\", while_total, \"입니다.\")"
   ]
  },
  {
   "cell_type": "code",
   "execution_count": 33,
   "metadata": {},
   "outputs": [
    {
     "name": "stdout",
     "output_type": "stream",
     "text": [
      "4부터 7사이의 짝수 제곱의 합은 52입니다.\n",
      "--------------------------------\n",
      "4부터 7사이의 짝수 제곱의 합은 52입니다.\n"
     ]
    }
   ],
   "source": [
    "start = int(input(\"시작하는 정수 입력 : \"))\n",
    "end = int(input(\"끝나는 정수 입력 : \"))\n",
    "for_res = 0\n",
    "while_res = 0\n",
    "\n",
    "for i in range(start, end + 1):\n",
    "    if i % 2 == 0:\n",
    "        for_res += i ** 2\n",
    "print(\"{0}부터 {1}사이의 짝수 제곱의 합은 {2}입니다.\".format(start, end, for_res))\n",
    "\n",
    "print('--------------------------------')\n",
    "i = start\n",
    "\n",
    "while(i <= end):\n",
    "    if i % 2 == 0:\n",
    "        while_res += i ** 2\n",
    "    i += 1\n",
    "    \n",
    "print(\"{0}부터 {1}사이의 짝수 제곱의 합은 {2}입니다.\".format(start, end, while_res))"
   ]
  },
  {
   "cell_type": "code",
   "execution_count": 37,
   "metadata": {},
   "outputs": [
    {
     "name": "stdout",
     "output_type": "stream",
     "text": [
      "79.0\n",
      "79.0\n"
     ]
    }
   ],
   "source": [
    "Kor = [70, 60, 55, 75, 95, 90, 80, 80, 85, 100]\n",
    "for_res = 0\n",
    "\n",
    "for i in range(len(Kor)):\n",
    "    for_res += Kor[i]\n",
    "print(for_res/len(Kor))\n",
    "\n",
    "while_res = 0\n",
    "i = 0\n",
    "\n",
    "while i < len(Kor):\n",
    "    while_res += Kor[i]\n",
    "    i += 1\n",
    "print(while_res/len(Kor))"
   ]
  },
  {
   "cell_type": "code",
   "execution_count": 40,
   "metadata": {},
   "outputs": [
    {
     "name": "stdout",
     "output_type": "stream",
     "text": [
      "결과는 233168 입니다.\n"
     ]
    }
   ],
   "source": [
    "for_res = 0\n",
    "for i in range(3, 1000):\n",
    "    if i % 3 == 0 or i % 5 == 0:\n",
    "        for_res += i\n",
    "print('결과는 {} 입니다.'.format(for_res))"
   ]
  },
  {
   "cell_type": "code",
   "execution_count": 41,
   "metadata": {},
   "outputs": [
    {
     "name": "stdout",
     "output_type": "stream",
     "text": [
      "결과는 233168 입니다.\n"
     ]
    }
   ],
   "source": [
    "while_res = 0\n",
    "i = 3\n",
    "while(i < 1000):\n",
    "    if i % 3 == 0 or i % 5 == 0:\n",
    "        while_res += i\n",
    "    i += 1\n",
    "print('결과는 {} 입니다.'.format(while_res))"
   ]
  },
  {
   "cell_type": "code",
   "execution_count": null,
   "metadata": {},
   "outputs": [],
   "source": []
  }
 ],
 "metadata": {
  "kernelspec": {
   "display_name": "base",
   "language": "python",
   "name": "python3"
  },
  "language_info": {
   "codemirror_mode": {
    "name": "ipython",
    "version": 3
   },
   "file_extension": ".py",
   "mimetype": "text/x-python",
   "name": "python",
   "nbconvert_exporter": "python",
   "pygments_lexer": "ipython3",
   "version": "3.9.15"
  },
  "orig_nbformat": 4,
  "vscode": {
   "interpreter": {
    "hash": "7d6059ecadb86f45e9c88608e586febc105002f5d0c28f30df503003ec092e9e"
   }
  }
 },
 "nbformat": 4,
 "nbformat_minor": 2
}
