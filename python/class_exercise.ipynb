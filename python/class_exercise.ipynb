{
 "cells": [
  {
   "cell_type": "code",
   "execution_count": 347,
   "metadata": {},
   "outputs": [],
   "source": [
    "# class 연습문제\n",
    "count = 0\n",
    "order = []\n",
    "class Team:\n",
    "    def __init__(self, number, name=None):\n",
    "        global count\n",
    "        count += 1\n",
    "        self.number = number\n",
    "        self.name = name\n",
    "        self.__member = set()\n",
    "    def add_member(self, add_name):\n",
    "        if add_name in self.__member:\n",
    "            print(f\"{add_name}님은 이미 팀에 있습니다.\")\n",
    "            return\n",
    "        else:\n",
    "            print(f\"{add_name} 님을 {self.number} 팀에 추가했습니다.\")\n",
    "            self.__member.add(add_name)\n",
    "            return\n",
    "    def rm_member(self, rm_name):\n",
    "        if rm_name in self.__member:\n",
    "            print(f\"{rm_name}님을 {self.number} 팀에서 삭제했습니다.\")\n",
    "            self.__member.remove(rm_name)\n",
    "            return\n",
    "        else:\n",
    "            print(f\"{rm_name} 님은 해당 팀에 없습니다.\")\n",
    "            return\n",
    "    def get_count(self):\n",
    "        return count\n",
    "    def get_order(self):\n",
    "        global order\n",
    "        return order\n",
    "    def set_order(self, num):\n",
    "        global order\n",
    "        if num in order:\n",
    "            order = list(set(order))\n",
    "            order.remove(num)\n",
    "        order.append(num)\n",
    "        return\n",
    "    def __len__(self):\n",
    "        return len(self.__member)"
   ]
  },
  {
   "cell_type": "code",
   "execution_count": 348,
   "metadata": {},
   "outputs": [],
   "source": [
    "t1 = Team(1)"
   ]
  },
  {
   "cell_type": "code",
   "execution_count": 349,
   "metadata": {},
   "outputs": [
    {
     "name": "stdout",
     "output_type": "stream",
     "text": [
      "윤규현 님을 1 팀에 추가했습니다.\n"
     ]
    }
   ],
   "source": [
    "t1.add_member(\"윤규현\")"
   ]
  },
  {
   "cell_type": "code",
   "execution_count": 350,
   "metadata": {},
   "outputs": [
    {
     "name": "stdout",
     "output_type": "stream",
     "text": [
      "윤규현님은 이미 팀에 있습니다.\n"
     ]
    }
   ],
   "source": [
    "t1.add_member(\"윤규현\")"
   ]
  },
  {
   "cell_type": "code",
   "execution_count": 351,
   "metadata": {},
   "outputs": [
    {
     "data": {
      "text/plain": [
       "1"
      ]
     },
     "execution_count": 351,
     "metadata": {},
     "output_type": "execute_result"
    }
   ],
   "source": [
    "len(t1)"
   ]
  },
  {
   "cell_type": "code",
   "execution_count": 352,
   "metadata": {},
   "outputs": [
    {
     "name": "stdout",
     "output_type": "stream",
     "text": [
      "이호진 님을 1 팀에 추가했습니다.\n"
     ]
    }
   ],
   "source": [
    "t1.add_member(\"이호진\")"
   ]
  },
  {
   "cell_type": "code",
   "execution_count": 353,
   "metadata": {},
   "outputs": [
    {
     "data": {
      "text/plain": [
       "2"
      ]
     },
     "execution_count": 353,
     "metadata": {},
     "output_type": "execute_result"
    }
   ],
   "source": [
    "len(t1)"
   ]
  },
  {
   "cell_type": "code",
   "execution_count": 354,
   "metadata": {},
   "outputs": [
    {
     "name": "stdout",
     "output_type": "stream",
     "text": [
      "이기수 님을 1 팀에 추가했습니다.\n"
     ]
    }
   ],
   "source": [
    "t1.add_member(\"이기수\")"
   ]
  },
  {
   "cell_type": "code",
   "execution_count": 355,
   "metadata": {},
   "outputs": [
    {
     "name": "stdout",
     "output_type": "stream",
     "text": [
      "이기수님을 1 팀에서 삭제했습니다.\n"
     ]
    }
   ],
   "source": [
    "t1.rm_member(\"이기수\")"
   ]
  },
  {
   "cell_type": "code",
   "execution_count": 356,
   "metadata": {},
   "outputs": [
    {
     "name": "stdout",
     "output_type": "stream",
     "text": [
      "이기수 님은 해당 팀에 없습니다.\n"
     ]
    }
   ],
   "source": [
    "t1.rm_member(\"이기수\")"
   ]
  },
  {
   "cell_type": "code",
   "execution_count": 357,
   "metadata": {},
   "outputs": [],
   "source": [
    "t2 = Team(2)"
   ]
  },
  {
   "cell_type": "code",
   "execution_count": 358,
   "metadata": {},
   "outputs": [],
   "source": [
    "t2.set_order(t2.number)"
   ]
  },
  {
   "cell_type": "code",
   "execution_count": 359,
   "metadata": {},
   "outputs": [],
   "source": [
    "t1.set_order(t1.number)"
   ]
  },
  {
   "cell_type": "code",
   "execution_count": 360,
   "metadata": {},
   "outputs": [
    {
     "data": {
      "text/plain": [
       "[2, 1]"
      ]
     },
     "execution_count": 360,
     "metadata": {},
     "output_type": "execute_result"
    }
   ],
   "source": [
    "t1.get_order()"
   ]
  },
  {
   "cell_type": "code",
   "execution_count": 361,
   "metadata": {},
   "outputs": [
    {
     "data": {
      "text/plain": [
       "2"
      ]
     },
     "execution_count": 361,
     "metadata": {},
     "output_type": "execute_result"
    }
   ],
   "source": [
    "t1.get_count()"
   ]
  },
  {
   "cell_type": "code",
   "execution_count": 362,
   "metadata": {},
   "outputs": [],
   "source": [
    "t3 = Team(3)"
   ]
  },
  {
   "cell_type": "code",
   "execution_count": 363,
   "metadata": {},
   "outputs": [
    {
     "data": {
      "text/plain": [
       "3"
      ]
     },
     "execution_count": 363,
     "metadata": {},
     "output_type": "execute_result"
    }
   ],
   "source": [
    "t3.get_count()"
   ]
  },
  {
   "cell_type": "code",
   "execution_count": 364,
   "metadata": {},
   "outputs": [],
   "source": [
    "t3.set_order(t3.number)"
   ]
  },
  {
   "cell_type": "code",
   "execution_count": 365,
   "metadata": {},
   "outputs": [
    {
     "data": {
      "text/plain": [
       "[2, 1, 3]"
      ]
     },
     "execution_count": 365,
     "metadata": {},
     "output_type": "execute_result"
    }
   ],
   "source": [
    "t3.get_order()"
   ]
  },
  {
   "cell_type": "code",
   "execution_count": 375,
   "metadata": {},
   "outputs": [],
   "source": [
    "# class 연습문제\n",
    "# 강사님 코드\n",
    "\n",
    "class Team:\n",
    "    \"\"\"\n",
    "    팀 객체를 만듭니다.\n",
    "    \"\"\"\n",
    "    count = 0\n",
    "    order = []\n",
    "    \n",
    "    def __init__(self, number, name=None, member=set()):\n",
    "        self.number = number\n",
    "        self.name = name\n",
    "        self.__member = member\n",
    "        Team.count += 1\n",
    "        \n",
    "    def add_member(self, add_name):\n",
    "        if add_name in self.__member:\n",
    "            print(f\"{add_name}님은 이미 팀에 있습니다.\")\n",
    "            return\n",
    "        else:\n",
    "            self.__member.add(add_name)\n",
    "            print(f\"{add_name} 님을 {self.number} 팀에 추가했습니다.\")\n",
    "            return\n",
    "        \n",
    "    def rm_member(self, rm_name):\n",
    "        if rm_name in self.__member:\n",
    "            print(f\"{rm_name}님을 {self.number} 팀에서 삭제했습니다.\")\n",
    "            self.__member.remove(rm_name)\n",
    "            return\n",
    "        else:\n",
    "            print(f\"{rm_name} 님은 해당 팀에 없습니다.\")\n",
    "            return\n",
    "        \n",
    "    def get_count(self):\n",
    "        return self.count\n",
    "    \n",
    "    def get_order(self):\n",
    "        return self.order\n",
    "    \n",
    "    def set_order(self, num):\n",
    "        if num in self.order:\n",
    "            self.order = list(set(order))\n",
    "            self.order.remove(num)\n",
    "        self.order.append(num)\n",
    "        return\n",
    "    \n",
    "    def __len__(self):\n",
    "        return len(self.__member)"
   ]
  },
  {
   "cell_type": "code",
   "execution_count": 376,
   "metadata": {},
   "outputs": [
    {
     "name": "stdout",
     "output_type": "stream",
     "text": [
      "윤규헌 님을 1 팀에 추가했습니다.\n",
      "윤규헌님은 이미 팀에 있습니다.\n",
      "1\n",
      "이호진 님을 1 팀에 추가했습니다.\n",
      "2\n",
      "이기수 님을 1 팀에 추가했습니다.\n",
      "이기수님을 1 팀에서 삭제했습니다.\n",
      "이기수 님은 해당 팀에 없습니다.\n"
     ]
    },
    {
     "data": {
      "text/plain": [
       "[2, 1, 3]"
      ]
     },
     "execution_count": 376,
     "metadata": {},
     "output_type": "execute_result"
    }
   ],
   "source": [
    "t1 = Team(1)\n",
    "t1.add_member('윤규헌')\n",
    "t1.add_member('윤규헌')\n",
    "print(len(t1))\n",
    "t1.add_member('이호진')\n",
    "print(len(t1))\n",
    "t1.add_member(\"이기수\")\n",
    "t1.rm_member('이기수')\n",
    "t1.rm_member('이기수')\n",
    "t2 = Team(2)\n",
    "t2.set_order(t2.number)\n",
    "t1.set_order(t1.number)\n",
    "t1.get_order()\n",
    "t1.get_count()\n",
    "t3 = Team(3)\n",
    "t3.get_count()\n",
    "t3.set_order(t3.number)\n",
    "t3.get_order()"
   ]
  },
  {
   "cell_type": "code",
   "execution_count": null,
   "metadata": {},
   "outputs": [],
   "source": []
  }
 ],
 "metadata": {
  "kernelspec": {
   "display_name": "Python 3",
   "language": "python",
   "name": "python3"
  },
  "language_info": {
   "codemirror_mode": {
    "name": "ipython",
    "version": 3
   },
   "file_extension": ".py",
   "mimetype": "text/x-python",
   "name": "python",
   "nbconvert_exporter": "python",
   "pygments_lexer": "ipython3",
   "version": "3.9.6"
  },
  "orig_nbformat": 4,
  "vscode": {
   "interpreter": {
    "hash": "31f2aee4e71d21fbe5cf8b01ff0e069b9275f58929596ceb00d14d90e3e16cd6"
   }
  }
 },
 "nbformat": 4,
 "nbformat_minor": 2
}
