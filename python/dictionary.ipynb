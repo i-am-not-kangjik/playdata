{
 "cells": [
  {
   "cell_type": "code",
   "execution_count": 1,
   "metadata": {},
   "outputs": [
    {
     "name": "stdout",
     "output_type": "stream",
     "text": [
      "<class 'dict'>\n",
      "{'key': 'value'}\n"
     ]
    }
   ],
   "source": [
    "dic_var = {\"key\": \"value\"}\n",
    "print(type(dic_var))\n",
    "print(dic_var)"
   ]
  },
  {
   "cell_type": "code",
   "execution_count": 2,
   "metadata": {},
   "outputs": [
    {
     "name": "stdout",
     "output_type": "stream",
     "text": [
      "{'key': 'last value'}\n"
     ]
    }
   ],
   "source": [
    "dic_var = {\"key\": \"value\", \"key\": \"last value\"}\n",
    "print(dic_var)"
   ]
  },
  {
   "cell_type": "code",
   "execution_count": 4,
   "metadata": {},
   "outputs": [
    {
     "name": "stdout",
     "output_type": "stream",
     "text": [
      "[<class 'str'>, <class 'int'>, <class 'float'>, <class 'tuple'>]\n"
     ]
    }
   ],
   "source": [
    "dic_var = {\"key\": \"value\",\n",
    "           1: \"value2\",\n",
    "           1.1: \"value3\",\n",
    "           True: \"value4\",\n",
    "           (\"key\", 1, 1.1, True): \"value2\"}\n",
    "print(list(map(type, dic_var.keys())))"
   ]
  },
  {
   "cell_type": "code",
   "execution_count": 6,
   "metadata": {},
   "outputs": [
    {
     "name": "stdout",
     "output_type": "stream",
     "text": [
      "[<class 'str'>, <class 'int'>, <class 'float'>, <class 'tuple'>]\n",
      "[<class 'str'>, <class 'bool'>, <class 'float'>, <class 'tuple'>]\n"
     ]
    }
   ],
   "source": [
    "dic_var = {\"key\": \"value\",\n",
    "           1: 1,\n",
    "           1.1: 1.1,\n",
    "           True: False,\n",
    "           (\"key\", 1, 1.1, True): (\"key\", 1, 1.1, True)}\n",
    "print(list(map(type, dic_var.keys())))\n",
    "print(list(map(type, dic_var.values())))"
   ]
  },
  {
   "cell_type": "code",
   "execution_count": 7,
   "metadata": {},
   "outputs": [
    {
     "name": "stdout",
     "output_type": "stream",
     "text": [
      "{'key': 'value', 'key2': 'value2', 'key3': 'value3'}\n"
     ]
    }
   ],
   "source": [
    "dict_a = dict(key=\"value\", key2=\"value2\", key3=\"value3\")\n",
    "print(dict_a)"
   ]
  },
  {
   "cell_type": "code",
   "execution_count": 8,
   "metadata": {},
   "outputs": [
    {
     "name": "stdout",
     "output_type": "stream",
     "text": [
      "{'key': 'value', 'key2': 'value2', 'key3': 'value3'}\n"
     ]
    }
   ],
   "source": [
    "# zip을 이용한 생성법\n",
    "dict_b = dict(zip([\"key\", \"key2\", \"key3\"], [\"value\", \"value2\", \"value3\"]))\n",
    "print(dict_b)"
   ]
  },
  {
   "cell_type": "code",
   "execution_count": 9,
   "metadata": {},
   "outputs": [
    {
     "data": {
      "text/plain": [
       "[('key', 'value'), ('key2', 'value2'), ('key3', 'value3')]"
      ]
     },
     "execution_count": 9,
     "metadata": {},
     "output_type": "execute_result"
    }
   ],
   "source": [
    "# zip을 이용한 생성법\n",
    "[_ for _ in zip([\"key\", \"key2\", \"key3\"], [\"value\", \"value2\", \"value3\"])]"
   ]
  },
  {
   "cell_type": "code",
   "execution_count": 10,
   "metadata": {},
   "outputs": [
    {
     "name": "stdout",
     "output_type": "stream",
     "text": [
      "{'key': 'value', 'key2': 'value2', 'key3': 'value3'}\n",
      "{'key': 'super value', 'key2': 'value2', 'key3': 'value3'}\n"
     ]
    }
   ],
   "source": [
    "print(dict_b)\n",
    "# 값 변경\n",
    "dict_b['key'] = 'super value'\n",
    "print(dict_b)"
   ]
  },
  {
   "cell_type": "code",
   "execution_count": 11,
   "metadata": {},
   "outputs": [
    {
     "name": "stdout",
     "output_type": "stream",
     "text": [
      "{'key': 'super value', 'key2': 'value2', 'key3': 'value3'}\n",
      "{'key': 'super value', 'key2': 'value2', 'key3': 'value3', 'new one': 'new value'}\n"
     ]
    }
   ],
   "source": [
    "# 없는 키를 활용해 값을 할당하면 새로운 키와 값의 쌍이 추가됨\n",
    "print(dict_b)\n",
    "dict_b['new one'] = \"new value\"\n",
    "print(dict_b)"
   ]
  },
  {
   "cell_type": "code",
   "execution_count": 12,
   "metadata": {},
   "outputs": [
    {
     "name": "stdout",
     "output_type": "stream",
     "text": [
      "{'key': 'super value', 'key2': 'value2', 'key3': 'value3', 'new one': 'new value'}\n"
     ]
    },
    {
     "ename": "KeyError",
     "evalue": "'없는 키'",
     "output_type": "error",
     "traceback": [
      "\u001b[0;31m---------------------------------------------------------------------------\u001b[0m",
      "\u001b[0;31mKeyError\u001b[0m                                  Traceback (most recent call last)",
      "Cell \u001b[0;32mIn[12], line 3\u001b[0m\n\u001b[1;32m      1\u001b[0m \u001b[39m# 존재하지 않는 키에 접근하려하면 KeyError\u001b[39;00m\n\u001b[1;32m      2\u001b[0m \u001b[39mprint\u001b[39m(dict_b)\n\u001b[0;32m----> 3\u001b[0m \u001b[39mprint\u001b[39m(dict_b[\u001b[39m'\u001b[39;49m\u001b[39m없는 키\u001b[39;49m\u001b[39m'\u001b[39;49m])\n",
      "\u001b[0;31mKeyError\u001b[0m: '없는 키'"
     ]
    }
   ],
   "source": [
    "# 존재하지 않는 키에 접근하려하면 KeyError\n",
    "print(dict_b)\n",
    "print(dict_b['없는 키'])"
   ]
  },
  {
   "cell_type": "code",
   "execution_count": 13,
   "metadata": {},
   "outputs": [
    {
     "name": "stdout",
     "output_type": "stream",
     "text": [
      "{'key': 'super value', 'key2': 'value2', 'key3': 'value3', 'new one': 'new value'}\n",
      "True\n"
     ]
    }
   ],
   "source": [
    "print(dict_b)\n",
    "print('key' in dict_b)"
   ]
  },
  {
   "cell_type": "code",
   "execution_count": 14,
   "metadata": {},
   "outputs": [
    {
     "name": "stdout",
     "output_type": "stream",
     "text": [
      "{'key': 'super value', 'key2': 'value2', 'key3': 'value3', 'new one': 'new value'}\n",
      "{'key': 'super value', 'key2': 'value2', 'key3': 'value3'}\n"
     ]
    }
   ],
   "source": [
    "# del 키워드를 활용해 특정 키-값 쌍 삭제가능\n",
    "print(dict_b)\n",
    "del dict_b['new one']\n",
    "print(dict_b)"
   ]
  },
  {
   "cell_type": "code",
   "execution_count": 16,
   "metadata": {},
   "outputs": [
    {
     "name": "stdout",
     "output_type": "stream",
     "text": [
      "{'key': 'super value', 'key2': 'value2', 'key3': 'value3'}\n"
     ]
    },
    {
     "data": {
      "text/plain": [
       "3"
      ]
     },
     "execution_count": 16,
     "metadata": {},
     "output_type": "execute_result"
    }
   ],
   "source": [
    "# len 키워드를 활용해 길이를 구할 수 있다!\n",
    "print(dict_b)\n",
    "len(dict_b)"
   ]
  },
  {
   "cell_type": "code",
   "execution_count": 20,
   "metadata": {},
   "outputs": [
    {
     "name": "stdout",
     "output_type": "stream",
     "text": [
      "파인애플의 가격은 2000원 입니다.\n"
     ]
    }
   ],
   "source": [
    "fruits = {\"사과\": 1000, \"바나나\": 700, \"오렌지\": 1500, \"파인애플\": 2000}\n",
    "fruit_name = input(\"과일 이름을 입력하세요.\")\n",
    "\n",
    "print(f'{fruit_name}의 가격은 {fruits[fruit_name]}원 입니다.')"
   ]
  },
  {
   "cell_type": "code",
   "execution_count": 24,
   "metadata": {},
   "outputs": [
    {
     "data": {
      "text/plain": [
       "{'뽀로로': 20.4, '루피': 16.2, '크롱': 22.3, '스누피': 5.2}"
      ]
     },
     "execution_count": 24,
     "metadata": {},
     "output_type": "execute_result"
    }
   ],
   "source": [
    "# 뽀로로 루피 크롱 스누피\n",
    "# 20.4 16.2 22.3 5.2\n",
    "name = list(input('이름을 기입해주세요.').split())\n",
    "weight = list(map(float, input('몸무게를 입력해주세요').split()))\n",
    "\n",
    "# tmp_dict = [_ for _ in zip(name, weight)]\n",
    "tmp_dict = dict(zip(name, weight))\n",
    "print(tmp_dict)"
   ]
  },
  {
   "cell_type": "code",
   "execution_count": 31,
   "metadata": {},
   "outputs": [
    {
     "name": "stdout",
     "output_type": "stream",
     "text": [
      "input_text = 20.4 16.2 22.3 5.2\n",
      "split() 결과 = ['20.4', '16.2', '22.3', '5.2']\n",
      "map 결과 = <map object at 0x10b458040>\n",
      "list 결과 = [20.4, 16.2, 22.3, 5.2]\n"
     ]
    }
   ],
   "source": [
    "# 설명용 코드\n",
    "\n",
    "# 함수는 안쪽것부터 실행됨\n",
    "# weight = list(map(float, input('몸무게를 입력해주세요').split()))\n",
    "# input() 한거를 split() 한거를 map() 한거를 list()\n",
    "\n",
    "# 아래의 문자열을 input()으로 받았다고 가정\n",
    "input_text = '20.4 16.2 22.3 5.2'\n",
    "print('input_text =', input_text)\n",
    "\n",
    "# split()을 한다면 어떻게 바뀔까?\n",
    "input_text = input_text.split()\n",
    "print('split() 결과 =', input_text)\n",
    "\n",
    "# map을 쓰는 이유\n",
    "# 하나라면 float()으로 바꿔줄 수 있지만 split()한 결과처럼 여러개라면 map이 필요\n",
    "input_text = map(float, '20.4 16.2 22.3 5.2'.split())\n",
    "print('map 결과 =', input_text)\n",
    "\n",
    "# map한것들을 list()를 사용해 리스트로 만들어주자!\n",
    "input_text = list(input_text)\n",
    "print('list 결과 =', input_text)"
   ]
  },
  {
   "cell_type": "code",
   "execution_count": 32,
   "metadata": {},
   "outputs": [
    {
     "data": {
      "text/plain": [
       "[1, 4, 9, 16, 25, 36, 49, 64, 81]"
      ]
     },
     "execution_count": 32,
     "metadata": {},
     "output_type": "execute_result"
    }
   ],
   "source": [
    "# list comprehension\n",
    "list_a = [_ ** 2 for _ in range(1, 10)]\n",
    "list_a"
   ]
  },
  {
   "cell_type": "code",
   "execution_count": 33,
   "metadata": {},
   "outputs": [
    {
     "name": "stdout",
     "output_type": "stream",
     "text": [
      "Hello world\n",
      "Hello world\n",
      "Hello world\n",
      "Hello world\n",
      "Hello world\n",
      "Hello world\n",
      "Hello world\n",
      "Hello world\n",
      "Hello world\n",
      "Hello world\n"
     ]
    },
    {
     "data": {
      "text/plain": [
       "[None, None, None, None, None, None, None, None, None, None]"
      ]
     },
     "execution_count": 33,
     "metadata": {},
     "output_type": "execute_result"
    }
   ],
   "source": [
    "[print(\"Hello world\") for _ in range(10)]"
   ]
  },
  {
   "cell_type": "code",
   "execution_count": 34,
   "metadata": {},
   "outputs": [
    {
     "name": "stdout",
     "output_type": "stream",
     "text": [
      "<class 'list'>\n",
      "[1, 4, 9, 16, 25, 36, 49, 64, 81]\n"
     ]
    }
   ],
   "source": [
    "prac_result = [_ ** 2 for _ in range(1, 10)]\n",
    "print(type(prac_result))\n",
    "print(prac_result)"
   ]
  },
  {
   "cell_type": "code",
   "execution_count": 29,
   "metadata": {},
   "outputs": [
    {
     "name": "stdout",
     "output_type": "stream",
     "text": [
      "김태형 후보가 총 4 표를 얻어 당선되었습니다.\n"
     ]
    }
   ],
   "source": [
    "votes = [2, 5, 3, 4, 1, 5, 1, 5, 5, 3]\n",
    "candidates = [\"\", \"전정국\", \"김남준\", \"박지민\", \"정호석\", \"김태형\"]\n",
    "\n",
    "# 번호를 맵핑하기 위한 리스트\n",
    "numbers = list(range(6))\n",
    "\n",
    "# 결과를 저장하기 위한 리스트\n",
    "res = [0] * 6\n",
    "\n",
    "# votes 리스트를 탐색하며 결과 리스트를 +1\n",
    "for i in range(len(votes)):\n",
    "    res[votes[i]] += 1\n",
    "    \n",
    "# 번호를 key로, 후보자 이름을 value로 갖는 tmp_dict 생성\n",
    "tmp_dict = dict(zip(numbers, candidates))\n",
    "\n",
    "# 제일 표를 많이 받은 사람 찾기\n",
    "max_index = 0\n",
    "for i in range(len(res)):\n",
    "    if res[i] > res[max_index]:\n",
    "        max_index = i\n",
    "        \n",
    "print(f'{tmp_dict[max_index]} 후보가 총 {res[max_index]} 표를 얻어 당선되었습니다.')\n"
   ]
  },
  {
   "cell_type": "code",
   "execution_count": 32,
   "metadata": {},
   "outputs": [
    {
     "name": "stdout",
     "output_type": "stream",
     "text": [
      "[1, 3, 5, 7, 9]\n"
     ]
    }
   ],
   "source": [
    "prac_result2 = [_ * 2 - 1 for _ in range(1, 6)]\n",
    "print(prac_result2)"
   ]
  },
  {
   "cell_type": "code",
   "execution_count": 42,
   "metadata": {},
   "outputs": [
    {
     "name": "stdout",
     "output_type": "stream",
     "text": [
      "['a', 'b', 'c', 'd', 'e', 'f', 'g', 'h', 'i', 'j', 'k', 'l', 'm', 'n', 'o', 'p', 'q', 'r', 's', 't', 'u', 'v', 'w', 'x', 'y', 'z']\n"
     ]
    }
   ],
   "source": [
    "alphabet = 'abcdefghijklmnopqrstuvwxyz'\n",
    "prac_result3 = [_ for _ in alphabet]\n",
    "print(prac_result3)"
   ]
  },
  {
   "cell_type": "code",
   "execution_count": 49,
   "metadata": {},
   "outputs": [
    {
     "data": {
      "text/plain": [
       "['2', '3', '4', '5', '6', '7', '8', '9', '10', 'J', 'Q', 'K', 'A']"
      ]
     },
     "execution_count": 49,
     "metadata": {},
     "output_type": "execute_result"
    }
   ],
   "source": [
    "prac_result4 = [str(_) for _ in range(2, 11)] + [ _ for _ in 'JQKA']\n",
    "prac_result4"
   ]
  },
  {
   "cell_type": "code",
   "execution_count": 50,
   "metadata": {},
   "outputs": [
    {
     "name": "stdout",
     "output_type": "stream",
     "text": [
      "1 2 3 4 5 6 7 8 9 10 \n",
      "2 3 4 5 6 7 8 9 10 1 \n",
      "3 4 5 6 7 8 9 10 1 2 \n",
      "4 5 6 7 8 9 10 1 2 3 \n",
      "5 6 7 8 9 10 1 2 3 4 \n",
      "6 7 8 9 10 1 2 3 4 5 \n",
      "7 8 9 10 1 2 3 4 5 6 \n",
      "8 9 10 1 2 3 4 5 6 7 \n",
      "9 10 1 2 3 4 5 6 7 8 \n",
      "10 1 2 3 4 5 6 7 8 9 \n"
     ]
    }
   ],
   "source": [
    "num = int(input(\"순환할 숫자를 입력하세요:\"))\n",
    "e = [i for i in range(1, num+1)]\n",
    "for j in range(len(e)):\n",
    "    j = 0\n",
    "    for i in e:\n",
    "        print(i,end=\" \")\n",
    "    print()\n",
    "    e.append(e[j])\n",
    "    e.remove(e[j])"
   ]
  },
  {
   "cell_type": "code",
   "execution_count": 2,
   "metadata": {},
   "outputs": [
    {
     "name": "stdout",
     "output_type": "stream",
     "text": [
      "1 2 3 4 5 6 7 8 9 10 \n",
      "2 3 4 5 6 7 8 9 10 1 \n",
      "3 4 5 6 7 8 9 10 1 2 \n",
      "4 5 6 7 8 9 10 1 2 3 \n",
      "5 6 7 8 9 10 1 2 3 4 \n",
      "6 7 8 9 10 1 2 3 4 5 \n",
      "7 8 9 10 1 2 3 4 5 6 \n",
      "8 9 10 1 2 3 4 5 6 7 \n",
      "9 10 1 2 3 4 5 6 7 8 \n",
      "10 1 2 3 4 5 6 7 8 9 \n"
     ]
    }
   ],
   "source": [
    "num = int(input(\"순환할 숫자를 입력하세요:\"))\n",
    "# i => 1 ~ 입력한 숫자까지\n",
    "for i in range(1, num + 1):\n",
    "    for j in range(i, num + i):\n",
    "        if j % num == 0:\n",
    "            print(num, end=\" \")\n",
    "        else:\n",
    "            print(j % num, end=\" \")\n",
    "    print()"
   ]
  },
  {
   "cell_type": "code",
   "execution_count": 1,
   "metadata": {},
   "outputs": [
    {
     "name": "stdout",
     "output_type": "stream",
     "text": [
      "()\n",
      "<class 'tuple'>\n"
     ]
    }
   ],
   "source": [
    "empty_tuple = tuple()\n",
    "print(empty_tuple)\n",
    "print(type(empty_tuple))"
   ]
  },
  {
   "cell_type": "code",
   "execution_count": 3,
   "metadata": {},
   "outputs": [],
   "source": [
    "generator_variable = (_ for _ in range(10))"
   ]
  },
  {
   "cell_type": "code",
   "execution_count": 4,
   "metadata": {},
   "outputs": [
    {
     "name": "stdout",
     "output_type": "stream",
     "text": [
      "<class 'generator'>\n"
     ]
    }
   ],
   "source": [
    "print(type(generator_variable))"
   ]
  },
  {
   "cell_type": "code",
   "execution_count": 5,
   "metadata": {},
   "outputs": [
    {
     "data": {
      "text/plain": [
       "True"
      ]
     },
     "execution_count": 5,
     "metadata": {},
     "output_type": "execute_result"
    }
   ],
   "source": [
    "# iterable\n",
    "# tuple(인수), list(인수)\n",
    "hasattr(generator_variable, \"__iter__\")"
   ]
  },
  {
   "attachments": {},
   "cell_type": "markdown",
   "metadata": {},
   "source": [
    "[expression for 변수 in 반복가능한 객체(iterable) if 조건식]"
   ]
  },
  {
   "cell_type": "code",
   "execution_count": 9,
   "metadata": {},
   "outputs": [
    {
     "name": "stdout",
     "output_type": "stream",
     "text": [
      "['alpha', 'bravo', 'delta', 'hotel', 'india']\n"
     ]
    }
   ],
   "source": [
    "a = ['alpha', 'bravo', 'charlie', 'delta', 'echo', 'foxtrot', 'golf', 'hotel', 'india']\n",
    "b = [ _ for _ in a if len(_) == 5]\n",
    "print(b)"
   ]
  },
  {
   "cell_type": "code",
   "execution_count": 22,
   "metadata": {},
   "outputs": [
    {
     "name": "stdout",
     "output_type": "stream",
     "text": [
      "첫번째 값의 범위는 1 ~ 20입니다.\n",
      "두번째 값의 범위는 10 ~ 30입니다.\n",
      "첫 번째 입력 값은 두 번째 입력 값보다 작게 입력하세요.\n",
      "[1024, 4096, 8192, 16384, 32768, 65536, 131072, 262144, 1048576]\n"
     ]
    }
   ],
   "source": [
    "# 첫번째 값의 범위는 1 ~ 20입니다.\n",
    "# 두번째 값의 범위는 10 ~ 30입니다.\n",
    "# 첫 번째 입력 값은 두 번째 입력 값보다 작게 입력하세요.\n",
    "condition = False\n",
    "while(condition == False):\n",
    "    a, b = map(int, input().split())\n",
    "    if a < 1 or a > 20:\n",
    "        print('첫번째 값의 범위는 1 ~ 20입니다.')\n",
    "        continue\n",
    "    elif b < 10 or b > 30:\n",
    "        print('두번째 값의 범위는 10 ~ 30입니다.')\n",
    "        continue\n",
    "    elif a >= b:\n",
    "        print('첫 번째 입력 값은 두 번째 입력 값보다 작게 입력하세요.')\n",
    "        continue\n",
    "    else:\n",
    "        condition = True\n",
    "        \n",
    "res = [2 ** _ for _ in range(a, b+1)]\n",
    "res.pop(1)\n",
    "res.pop(-2)\n",
    "print(res)"
   ]
  },
  {
   "cell_type": "code",
   "execution_count": 29,
   "metadata": {},
   "outputs": [
    {
     "name": "stdout",
     "output_type": "stream",
     "text": [
      "- 1 + 4 - 9 + 16 - 25 + 36 - 49 + 64 - 81 + 100\n",
      "- 121 + 144 - 169 + 196 - 225 + 256 - 289 + 324 - 361 + 400\n",
      "- 441 + 484 - 529 + 576 - 625 + 676 - 729 + 784 - 841 + 900\n",
      "- 961 + 1024 - 1089 + 1156 - 1225 + 1296 - 1369 + 1444 - 1521 + 1600\n",
      "- 1681 + 1764 - 1849 + 1936 - 2025 + 2116 - 2209 + 2304 - 2401 + 2500\n",
      "- 2601 + 2704 - 2809 + 2916 - 3025 + 3136 - 3249 + 3364 - 3481 + 3600\n",
      "- 3721 + 3844 - 3969 + 4096 - 4225 + 4356 - 4489 + 4624 - 4761 + 4900\n",
      "- 5041 + 5184 - 5329 + 5476 - 5625 + 5776 - 5929 + 6084 - 6241 + 6400\n",
      "- 6561 + 6724 - 6889 + 7056 - 7225 + 7396 - 7569 + 7744 - 7921 + 8100\n",
      "- 8281 + 8464 - 8649 + 8836 - 9025 + 9216 - 9409 + 9604 - 9801 + 10000\n",
      "= 5050 입니다.\n"
     ]
    }
   ],
   "source": [
    "i = 1\n",
    "sum = 0\n",
    "while(i <= 100):\n",
    "    if i % 2 == 1:\n",
    "        sum -= i ** 2\n",
    "        print('-', i ** 2, end=' ')\n",
    "    elif i % 2 == 0 and i % 10 == 0:\n",
    "        sum += i ** 2\n",
    "        print('+', i ** 2)\n",
    "    else:\n",
    "        sum += i ** 2\n",
    "        print('+', i ** 2, end =' ')\n",
    "    i += 1\n",
    "\n",
    "print(f'= {sum} 입니다.')"
   ]
  }
 ],
 "metadata": {
  "kernelspec": {
   "display_name": "Python 3",
   "language": "python",
   "name": "python3"
  },
  "language_info": {
   "codemirror_mode": {
    "name": "ipython",
    "version": 3
   },
   "file_extension": ".py",
   "mimetype": "text/x-python",
   "name": "python",
   "nbconvert_exporter": "python",
   "pygments_lexer": "ipython3",
   "version": "3.11.0"
  },
  "orig_nbformat": 4,
  "vscode": {
   "interpreter": {
    "hash": "1a1af0ee75eeea9e2e1ee996c87e7a2b11a0bebd85af04bb136d915cefc0abce"
   }
  }
 },
 "nbformat": 4,
 "nbformat_minor": 2
}
