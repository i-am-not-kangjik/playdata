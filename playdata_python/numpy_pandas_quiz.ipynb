{
 "cells": [
  {
   "attachments": {},
   "cell_type": "markdown",
   "metadata": {},
   "source": [
    "# Numpy, Pandas Quiz"
   ]
  },
  {
   "cell_type": "code",
   "execution_count": 1,
   "metadata": {},
   "outputs": [],
   "source": [
    "import numpy as np\n",
    "import pandas as pd"
   ]
  },
  {
   "cell_type": "code",
   "execution_count": 2,
   "metadata": {},
   "outputs": [
    {
     "data": {
      "text/plain": [
       "array([ 2,  5,  8, 11, 14, 17, 20])"
      ]
     },
     "execution_count": 2,
     "metadata": {},
     "output_type": "execute_result"
    }
   ],
   "source": [
    "# 1번\n",
    "# arange()를 활용하여 array([2, 5, 8, 11, 14, 17, 20])의 값을 갖는 ndarray를 만들어라\n",
    "np.arange(2, 21, 3)"
   ]
  },
  {
   "cell_type": "code",
   "execution_count": 3,
   "metadata": {},
   "outputs": [],
   "source": [
    "# 2번\n",
    "# 클래스 정의부 중 __init__(self)에서 self에 대해서 설명하시오\n",
    "# 객체(인스턴스) 자기 자신을 의미한다."
   ]
  },
  {
   "cell_type": "code",
   "execution_count": 5,
   "metadata": {},
   "outputs": [
    {
     "data": {
      "text/plain": [
       "float"
      ]
     },
     "execution_count": 5,
     "metadata": {},
     "output_type": "execute_result"
    }
   ],
   "source": [
    "# 3번\n",
    "# 정의할 수 없는 숫자(NaN)의 데이터 타입은?\n",
    "type(np.nan)"
   ]
  },
  {
   "cell_type": "code",
   "execution_count": 6,
   "metadata": {},
   "outputs": [
    {
     "data": {
      "text/plain": [
       "True"
      ]
     },
     "execution_count": 6,
     "metadata": {},
     "output_type": "execute_result"
    }
   ],
   "source": [
    "# 4번\n",
    "# 넘파이 배열에 대한 설명으로 옳은 것은?\n",
    "# 1) 넘파이 배열 내에 다양한 자료형이 올 수 있다.\n",
    "# 2) 넘파이 배열의 크기는 필요에 따라 가변적으로 변경할 수 있다.\n",
    "# 3) 넘파이 배열은 벡터화 연산이 가능하다.\n",
    "# 4) 속도가 빠르기 때문에 메모리의 사용이 리스트에 비해 많다.\n",
    "# 5) np.array([1, 11.2, 7, 9.2, 10.7])의 dtype은 int다.\n",
    "\n",
    "# 3) 넘파이 배열은 벡터화 연산이 가능하다.\n"
   ]
  },
  {
   "cell_type": "code",
   "execution_count": 7,
   "metadata": {},
   "outputs": [
    {
     "data": {
      "text/plain": [
       "일    1\n",
       "이    2\n",
       "삼    3\n",
       "dtype: int64"
      ]
     },
     "execution_count": 7,
     "metadata": {},
     "output_type": "execute_result"
    }
   ],
   "source": [
    "# 5번\n",
    "# index가 '일', '이', '삼' 이고 values가 1, 2, 3인 Series를 만들어보라\n",
    "pd.Series([1, 2, 3], index=[\"일\", \"이\", \"삼\"])"
   ]
  },
  {
   "cell_type": "code",
   "execution_count": 23,
   "metadata": {},
   "outputs": [],
   "source": [
    "# 6번\n",
    "# 브로드캐스팅 할 수 없는 것을 모두 고르세요\n",
    "# 1) np.array([[2, 3, 4], [5, 6, 7]]) * np.arange(3)\n",
    "# 2) np.arange(10).reshape(2,5) + np.arange(15).reshape(3, 5)\n",
    "# 3) np.zeros((3, 3, 2, 1)) - np.ones((3, 2, 1))\n",
    "# 4) np.empty((2, 1, 7, 5, 1)) / np.ones((5, 5))\n",
    "# 5. np.array([[1, 2, 3], [4, 8, 12]]) * np.array([1, 2, 3, 4, 5, 6])\n",
    "\n",
    "# 2, 5"
   ]
  },
  {
   "cell_type": "code",
   "execution_count": 24,
   "metadata": {},
   "outputs": [],
   "source": [
    "# 7번\n",
    "# 다음 중 차원 축소 시키는 연산이 아닌 것을 고르시오\n",
    "# 1) np.sum()\n",
    "# 2) np.max()\n",
    "# 3) np.min()\n",
    "# 4) np.all()\n",
    "# 5) np.sqrt()\n",
    "\n",
    "# 5"
   ]
  },
  {
   "cell_type": "code",
   "execution_count": 25,
   "metadata": {},
   "outputs": [],
   "source": [
    "# 8번\n",
    "# 다음 설명 중 옳은 것을 모두 고르세요.\n",
    "# 1) DataFrame의 각 column은 각기 다른 dtype을 가질 수 있다.\n",
    "# 2) Series의 각 값들이 서로 다른 type을 가질 수 있다.\n",
    "# 3) DataFrame을 생성할 때 index 키워드 인수는 row index, columns 는 column index이다.\n",
    "# 4) DataFrame을 row단위로 인덱싱할 때 loc(), iloc()을 활용하는 것이 좋다.\n",
    "# 5) DataFrame에 fillna()메소드를 활용해서 NaN값을 원하는 값으로 변경할 수 있다.\n",
    "\n",
    "# 1, 3, 4, 5"
   ]
  },
  {
   "cell_type": "code",
   "execution_count": 27,
   "metadata": {},
   "outputs": [],
   "source": [
    "# 9번\n",
    "# DataFrame에 대해 카테고리변 개수를 반환해주는 메소드를 고르시오\n",
    "# 3) DataFrame.value_counts()"
   ]
  },
  {
   "cell_type": "code",
   "execution_count": 26,
   "metadata": {},
   "outputs": [],
   "source": [
    "# 10번\n",
    "# 코드의 결과가 DataFrame이 아닌 것을 고르세요.\n",
    "# 5) DataFrame.value_counts()"
   ]
  },
  {
   "cell_type": "code",
   "execution_count": null,
   "metadata": {},
   "outputs": [],
   "source": []
  }
 ],
 "metadata": {
  "kernelspec": {
   "display_name": "base",
   "language": "python",
   "name": "python3"
  },
  "language_info": {
   "codemirror_mode": {
    "name": "ipython",
    "version": 3
   },
   "file_extension": ".py",
   "mimetype": "text/x-python",
   "name": "python",
   "nbconvert_exporter": "python",
   "pygments_lexer": "ipython3",
   "version": "3.9.13"
  },
  "orig_nbformat": 4,
  "vscode": {
   "interpreter": {
    "hash": "34eef8d31bca7e895f45363c5b93ebf41cef00c4499d385dcdffd7a96dee0dc2"
   }
  }
 },
 "nbformat": 4,
 "nbformat_minor": 2
}
