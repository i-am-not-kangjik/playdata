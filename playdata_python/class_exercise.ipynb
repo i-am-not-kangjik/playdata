{
 "cells": [
  {
   "cell_type": "code",
   "execution_count": 347,
   "metadata": {},
   "outputs": [],
   "source": [
    "# class 연습문제\n",
    "count = 0\n",
    "order = []\n",
    "class Team:\n",
    "    def __init__(self, number, name=None):\n",
    "        global count\n",
    "        count += 1\n",
    "        self.number = number\n",
    "        self.name = name\n",
    "        self.__member = set()\n",
    "    def add_member(self, add_name):\n",
    "        if add_name in self.__member:\n",
    "            print(f\"{add_name}님은 이미 팀에 있습니다.\")\n",
    "            return\n",
    "        else:\n",
    "            print(f\"{add_name} 님을 {self.number} 팀에 추가했습니다.\")\n",
    "            self.__member.add(add_name)\n",
    "            return\n",
    "    def rm_member(self, rm_name):\n",
    "        if rm_name in self.__member:\n",
    "            print(f\"{rm_name}님을 {self.number} 팀에서 삭제했습니다.\")\n",
    "            self.__member.remove(rm_name)\n",
    "            return\n",
    "        else:\n",
    "            print(f\"{rm_name} 님은 해당 팀에 없습니다.\")\n",
    "            return\n",
    "    def get_count(self):\n",
    "        return count\n",
    "    def get_order(self):\n",
    "        global order\n",
    "        return order\n",
    "    def set_order(self, num):\n",
    "        global order\n",
    "        if num in order:\n",
    "            order = list(set(order))\n",
    "            order.remove(num)\n",
    "        order.append(num)\n",
    "        return\n",
    "    def __len__(self):\n",
    "        return len(self.__member)"
   ]
  },
  {
   "cell_type": "code",
   "execution_count": 348,
   "metadata": {},
   "outputs": [],
   "source": [
    "t1 = Team(1)"
   ]
  },
  {
   "cell_type": "code",
   "execution_count": 349,
   "metadata": {},
   "outputs": [
    {
     "name": "stdout",
     "output_type": "stream",
     "text": [
      "윤규현 님을 1 팀에 추가했습니다.\n"
     ]
    }
   ],
   "source": [
    "t1.add_member(\"윤규현\")"
   ]
  },
  {
   "cell_type": "code",
   "execution_count": 350,
   "metadata": {},
   "outputs": [
    {
     "name": "stdout",
     "output_type": "stream",
     "text": [
      "윤규현님은 이미 팀에 있습니다.\n"
     ]
    }
   ],
   "source": [
    "t1.add_member(\"윤규현\")"
   ]
  },
  {
   "cell_type": "code",
   "execution_count": 351,
   "metadata": {},
   "outputs": [
    {
     "data": {
      "text/plain": [
       "1"
      ]
     },
     "execution_count": 351,
     "metadata": {},
     "output_type": "execute_result"
    }
   ],
   "source": [
    "len(t1)"
   ]
  },
  {
   "cell_type": "code",
   "execution_count": 352,
   "metadata": {},
   "outputs": [
    {
     "name": "stdout",
     "output_type": "stream",
     "text": [
      "이호진 님을 1 팀에 추가했습니다.\n"
     ]
    }
   ],
   "source": [
    "t1.add_member(\"이호진\")"
   ]
  },
  {
   "cell_type": "code",
   "execution_count": 353,
   "metadata": {},
   "outputs": [
    {
     "data": {
      "text/plain": [
       "2"
      ]
     },
     "execution_count": 353,
     "metadata": {},
     "output_type": "execute_result"
    }
   ],
   "source": [
    "len(t1)"
   ]
  },
  {
   "cell_type": "code",
   "execution_count": 354,
   "metadata": {},
   "outputs": [
    {
     "name": "stdout",
     "output_type": "stream",
     "text": [
      "이기수 님을 1 팀에 추가했습니다.\n"
     ]
    }
   ],
   "source": [
    "t1.add_member(\"이기수\")"
   ]
  },
  {
   "cell_type": "code",
   "execution_count": 355,
   "metadata": {},
   "outputs": [
    {
     "name": "stdout",
     "output_type": "stream",
     "text": [
      "이기수님을 1 팀에서 삭제했습니다.\n"
     ]
    }
   ],
   "source": [
    "t1.rm_member(\"이기수\")"
   ]
  },
  {
   "cell_type": "code",
   "execution_count": 356,
   "metadata": {},
   "outputs": [
    {
     "name": "stdout",
     "output_type": "stream",
     "text": [
      "이기수 님은 해당 팀에 없습니다.\n"
     ]
    }
   ],
   "source": [
    "t1.rm_member(\"이기수\")"
   ]
  },
  {
   "cell_type": "code",
   "execution_count": 357,
   "metadata": {},
   "outputs": [],
   "source": [
    "t2 = Team(2)"
   ]
  },
  {
   "cell_type": "code",
   "execution_count": 358,
   "metadata": {},
   "outputs": [],
   "source": [
    "t2.set_order(t2.number)"
   ]
  },
  {
   "cell_type": "code",
   "execution_count": 359,
   "metadata": {},
   "outputs": [],
   "source": [
    "t1.set_order(t1.number)"
   ]
  },
  {
   "cell_type": "code",
   "execution_count": 360,
   "metadata": {},
   "outputs": [
    {
     "data": {
      "text/plain": [
       "[2, 1]"
      ]
     },
     "execution_count": 360,
     "metadata": {},
     "output_type": "execute_result"
    }
   ],
   "source": [
    "t1.get_order()"
   ]
  },
  {
   "cell_type": "code",
   "execution_count": 361,
   "metadata": {},
   "outputs": [
    {
     "data": {
      "text/plain": [
       "2"
      ]
     },
     "execution_count": 361,
     "metadata": {},
     "output_type": "execute_result"
    }
   ],
   "source": [
    "t1.get_count()"
   ]
  },
  {
   "cell_type": "code",
   "execution_count": 362,
   "metadata": {},
   "outputs": [],
   "source": [
    "t3 = Team(3)"
   ]
  },
  {
   "cell_type": "code",
   "execution_count": 363,
   "metadata": {},
   "outputs": [
    {
     "data": {
      "text/plain": [
       "3"
      ]
     },
     "execution_count": 363,
     "metadata": {},
     "output_type": "execute_result"
    }
   ],
   "source": [
    "t3.get_count()"
   ]
  },
  {
   "cell_type": "code",
   "execution_count": 364,
   "metadata": {},
   "outputs": [],
   "source": [
    "t3.set_order(t3.number)"
   ]
  },
  {
   "cell_type": "code",
   "execution_count": 365,
   "metadata": {},
   "outputs": [
    {
     "data": {
      "text/plain": [
       "[2, 1, 3]"
      ]
     },
     "execution_count": 365,
     "metadata": {},
     "output_type": "execute_result"
    }
   ],
   "source": [
    "t3.get_order()"
   ]
  },
  {
   "cell_type": "code",
   "execution_count": 1,
   "metadata": {},
   "outputs": [],
   "source": [
    "# class 연습문제\n",
    "# 강사님 코드\n",
    "\n",
    "class Team:\n",
    "    \"\"\"\n",
    "    팀 객체를 만듭니다.\n",
    "    \"\"\"\n",
    "    count = 0\n",
    "    order = []\n",
    "    \n",
    "    def __init__(self, number, name=None, member=set()):\n",
    "        self.number = number\n",
    "        self.name = name\n",
    "        self.__member = member\n",
    "        Team.count += 1\n",
    "        \n",
    "    def add_member(self, add_name):\n",
    "        if add_name in self.__member:\n",
    "            print(f\"{add_name}님은 이미 팀에 있습니다.\")\n",
    "            return\n",
    "        else:\n",
    "            self.__member.add(add_name)\n",
    "            print(f\"{add_name} 님을 {self.number} 팀에 추가했습니다.\")\n",
    "            return\n",
    "        \n",
    "    def rm_member(self, rm_name):\n",
    "        if rm_name in self.__member:\n",
    "            print(f\"{rm_name}님을 {self.number} 팀에서 삭제했습니다.\")\n",
    "            self.__member.remove(rm_name)\n",
    "            return\n",
    "        else:\n",
    "            print(f\"{rm_name} 님은 해당 팀에 없습니다.\")\n",
    "            return\n",
    "        \n",
    "    def get_count(self):\n",
    "        return self.count\n",
    "    \n",
    "    def get_order(self):\n",
    "        return self.order\n",
    "    \n",
    "    def set_order(self, num):\n",
    "        if num in self.order:\n",
    "            self.order = list(set(order))\n",
    "            self.order.remove(num)\n",
    "        self.order.append(num)\n",
    "        return\n",
    "    \n",
    "    def __len__(self):\n",
    "        return len(self.__member)"
   ]
  },
  {
   "cell_type": "code",
   "execution_count": 376,
   "metadata": {},
   "outputs": [
    {
     "name": "stdout",
     "output_type": "stream",
     "text": [
      "윤규헌 님을 1 팀에 추가했습니다.\n",
      "윤규헌님은 이미 팀에 있습니다.\n",
      "1\n",
      "이호진 님을 1 팀에 추가했습니다.\n",
      "2\n",
      "이기수 님을 1 팀에 추가했습니다.\n",
      "이기수님을 1 팀에서 삭제했습니다.\n",
      "이기수 님은 해당 팀에 없습니다.\n"
     ]
    },
    {
     "data": {
      "text/plain": [
       "[2, 1, 3]"
      ]
     },
     "execution_count": 376,
     "metadata": {},
     "output_type": "execute_result"
    }
   ],
   "source": [
    "t1 = Team(1)\n",
    "t1.add_member('윤규헌')\n",
    "t1.add_member('윤규헌')\n",
    "print(len(t1))\n",
    "t1.add_member('이호진')\n",
    "print(len(t1))\n",
    "t1.add_member(\"이기수\")\n",
    "t1.rm_member('이기수')\n",
    "t1.rm_member('이기수')\n",
    "t2 = Team(2)\n",
    "t2.set_order(t2.number)\n",
    "t1.set_order(t1.number)\n",
    "t1.get_order()\n",
    "t1.get_count()\n",
    "t3 = Team(3)\n",
    "t3.get_count()\n",
    "t3.set_order(t3.number)\n",
    "t3.get_order()"
   ]
  },
  {
   "cell_type": "code",
   "execution_count": 68,
   "metadata": {},
   "outputs": [],
   "source": [
    "# class 연습문제\n",
    "# 강사님 코드\n",
    "\n",
    "class Team:\n",
    "    \"\"\"\n",
    "    팀 객체를 만듭니다.\n",
    "    \"\"\"\n",
    "    count = 0\n",
    "    order = []\n",
    "    \n",
    "    def __init__(self, number, name=None, member=set()):\n",
    "        self.number = number\n",
    "        self.name = name\n",
    "        self.__member = member\n",
    "        Team.count += 1\n",
    "        \n",
    "    def add_member(self, add_name):\n",
    "        if add_name in self.__member:\n",
    "            print(f\"{add_name}님은 이미 팀에 있습니다.\")\n",
    "            return\n",
    "        else:\n",
    "            self.__member.add(add_name)\n",
    "            print(f\"{add_name} 님을 {self.number} 팀에 추가했습니다.\")\n",
    "            return\n",
    "        \n",
    "    def rm_member(self, rm_name):\n",
    "        if rm_name in self.__member:\n",
    "            print(f\"{rm_name}님을 {self.number} 팀에서 삭제했습니다.\")\n",
    "            self.__member.remove(rm_name)\n",
    "            return\n",
    "        else:\n",
    "            print(f\"{rm_name} 님은 해당 팀에 없습니다.\")\n",
    "            return\n",
    "        \n",
    "    def get_count(self):\n",
    "        return self.count\n",
    "    \n",
    "    def get_order(self):\n",
    "        return self.order\n",
    "    \n",
    "    def set_order(self, num):\n",
    "        if num in self.order:\n",
    "            self.order = list(set(order))\n",
    "            self.order.remove(num)\n",
    "        self.order.append(num)\n",
    "        return\n",
    "    \n",
    "    def __len__(self):\n",
    "        return len(self.__member)"
   ]
  },
  {
   "cell_type": "code",
   "execution_count": 18,
   "metadata": {},
   "outputs": [],
   "source": [
    "# class 연습문제 2\n",
    "import random\n",
    "\n",
    "class TeamBuilder:\n",
    "    has_team = False\n",
    "    teams = []\n",
    "    \n",
    "    def __init__(self, members, team_count):\n",
    "        self.members = members\n",
    "        self.team_count = team_count\n",
    "        \n",
    "    def create_team(self):\n",
    "        if self.has_team == True:\n",
    "            self.teams = []\n",
    "            self.has_team = False\n",
    "        self.has_team = True\n",
    "        append_count = 0\n",
    "        for i in range(self.team_count):\n",
    "            self.teams.append([])\n",
    "        print(f\"팀을 {self.team_count}개 생성했습니다.\")\n",
    "        random.shuffle(self.members)\n",
    "        \n",
    "        for i in range(len(self.members)):\n",
    "            self.teams[i % self.team_count].append(self.members[i])\n",
    "        print(self.teams)\n",
    "        \n",
    "    def show_team_info(self):\n",
    "        for i in range(len(self.teams)):\n",
    "            print(f\"{i+1}팀은 \", end='')\n",
    "            for j in range(len(self.teams[i])):\n",
    "                if j == len(self.teams[i]) - 1:\n",
    "                    print(f\"{self.teams[i][j]} 입니다.\")\n",
    "                else:\n",
    "                    print(self.teams[i][j], end=', ')\n",
    "                                 \n",
    "            \n",
    "        "
   ]
  },
  {
   "cell_type": "code",
   "execution_count": 19,
   "metadata": {},
   "outputs": [
    {
     "name": "stdout",
     "output_type": "stream",
     "text": [
      "팀을 7개 생성했습니다.\n",
      "[['허경모', '맹지호', '이민호'], ['이병호', '신제우', '윤규헌'], ['김기훈', '도강현', '김유림'], ['민병창', '김예린', '서영호'], ['김민수', '이선주', '김강직'], ['김경목', '김호영', '황도희'], ['우상욱', '이호진', '강지인']]\n"
     ]
    }
   ],
   "source": [
    "mem_li = list(\"강지인 김강직 김경목 김기훈 김민수 김예린 김유림 김호영 도강현 맹지호 민병창 서영호 신제우 우상욱 윤규헌 이민호 이병호 이선주 이호진 허경모 황도희\".split())\n",
    "tb = TeamBuilder(mem_li, 7)\n",
    "tb.create_team()"
   ]
  },
  {
   "cell_type": "code",
   "execution_count": 20,
   "metadata": {},
   "outputs": [
    {
     "name": "stdout",
     "output_type": "stream",
     "text": [
      "1팀은 허경모, 맹지호, 이민호 입니다.\n",
      "2팀은 이병호, 신제우, 윤규헌 입니다.\n",
      "3팀은 김기훈, 도강현, 김유림 입니다.\n",
      "4팀은 민병창, 김예린, 서영호 입니다.\n",
      "5팀은 김민수, 이선주, 김강직 입니다.\n",
      "6팀은 김경목, 김호영, 황도희 입니다.\n",
      "7팀은 우상욱, 이호진, 강지인 입니다.\n"
     ]
    }
   ],
   "source": [
    "tb.show_team_info()"
   ]
  },
  {
   "cell_type": "code",
   "execution_count": 69,
   "metadata": {},
   "outputs": [],
   "source": [
    "# 강사님 풀이\n",
    "\n",
    "class TeamBuilder2:\n",
    "    has_team = False\n",
    "    teams = []"
   ]
  },
  {
   "cell_type": "code",
   "execution_count": 70,
   "metadata": {},
   "outputs": [
    {
     "name": "stdout",
     "output_type": "stream",
     "text": [
      "['t0', 't1', 't2', 't3', 't4', 't5', 't6']\n",
      "팀을 7개 생성했습니다.\n"
     ]
    },
    {
     "ename": "AttributeError",
     "evalue": "'str' object has no attribute 'add_member'",
     "output_type": "error",
     "traceback": [
      "\u001b[0;31m---------------------------------------------------------------------------\u001b[0m",
      "\u001b[0;31mAttributeError\u001b[0m                            Traceback (most recent call last)",
      "Cell \u001b[0;32mIn[70], line 3\u001b[0m\n\u001b[1;32m      1\u001b[0m mem_li \u001b[39m=\u001b[39m \u001b[39mlist\u001b[39m(\u001b[39m\"\u001b[39m\u001b[39m강지인 김강직 김경목 김기훈 김민수 김예린 김유림 김호영 도강현 맹지호 민병창 서영호 신제우 우상욱 윤규헌 이민호 이병호 이선주 이호진 허경모 황도희\u001b[39m\u001b[39m\"\u001b[39m\u001b[39m.\u001b[39msplit())\n\u001b[1;32m      2\u001b[0m tb2\u001b[39m=\u001b[39m TeamBuilder2(mem_li, \u001b[39m7\u001b[39m)\n\u001b[0;32m----> 3\u001b[0m tb2\u001b[39m.\u001b[39;49mcreate_team()\n",
      "Cell \u001b[0;32mIn[69], line 26\u001b[0m, in \u001b[0;36mTeamBuilder2.create_team\u001b[0;34m(self)\u001b[0m\n\u001b[1;32m     23\u001b[0m random\u001b[39m.\u001b[39mshuffle(\u001b[39mself\u001b[39m\u001b[39m.\u001b[39mmembers)\n\u001b[1;32m     25\u001b[0m \u001b[39mfor\u001b[39;00m i \u001b[39min\u001b[39;00m \u001b[39mrange\u001b[39m(\u001b[39mlen\u001b[39m(\u001b[39mself\u001b[39m\u001b[39m.\u001b[39mmembers)):\n\u001b[0;32m---> 26\u001b[0m     \u001b[39mself\u001b[39;49m\u001b[39m.\u001b[39;49mteams[i \u001b[39m%\u001b[39;49m \u001b[39mself\u001b[39;49m\u001b[39m.\u001b[39;49mteam_count]\u001b[39m.\u001b[39;49madd_member(\u001b[39mself\u001b[39m\u001b[39m.\u001b[39mmembers[i])\n\u001b[1;32m     27\u001b[0m \u001b[39mprint\u001b[39m(\u001b[39mself\u001b[39m\u001b[39m.\u001b[39mteams)\n",
      "\u001b[0;31mAttributeError\u001b[0m: 'str' object has no attribute 'add_member'"
     ]
    }
   ],
   "source": [
    "mem_li = list(\"강지인 김강직 김경목 김기훈 김민수 김예린 김유림 김호영 도강현 맹지호 민병창 서영호 신제우 우상욱 윤규헌 이민호 이병호 이선주 이호진 허경모 황도희\".split())\n",
    "tb2= TeamBuilder2(mem_li, 7)\n",
    "tb2.create_team()"
   ]
  },
  {
   "cell_type": "code",
   "execution_count": null,
   "metadata": {},
   "outputs": [],
   "source": []
  }
 ],
 "metadata": {
  "kernelspec": {
   "display_name": "Python 3",
   "language": "python",
   "name": "python3"
  },
  "language_info": {
   "codemirror_mode": {
    "name": "ipython",
    "version": 3
   },
   "file_extension": ".py",
   "mimetype": "text/x-python",
   "name": "python",
   "nbconvert_exporter": "python",
   "pygments_lexer": "ipython3",
   "version": "3.9.6 (default, Oct 18 2022, 12:41:40) \n[Clang 14.0.0 (clang-1400.0.29.202)]"
  },
  "orig_nbformat": 4,
  "vscode": {
   "interpreter": {
    "hash": "31f2aee4e71d21fbe5cf8b01ff0e069b9275f58929596ceb00d14d90e3e16cd6"
   }
  }
 },
 "nbformat": 4,
 "nbformat_minor": 2
}
