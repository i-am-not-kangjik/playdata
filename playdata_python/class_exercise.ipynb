{
 "cells": [
  {
   "cell_type": "code",
   "execution_count": 347,
   "metadata": {},
   "outputs": [],
   "source": [
    "# class 연습문제\n",
    "count = 0\n",
    "order = []\n",
    "class Team:\n",
    "    def __init__(self, number, name=None):\n",
    "        global count\n",
    "        count += 1\n",
    "        self.number = number\n",
    "        self.name = name\n",
    "        self.__member = set()\n",
    "    def add_member(self, add_name):\n",
    "        if add_name in self.__member:\n",
    "            print(f\"{add_name}님은 이미 팀에 있습니다.\")\n",
    "            return\n",
    "        else:\n",
    "            print(f\"{add_name} 님을 {self.number} 팀에 추가했습니다.\")\n",
    "            self.__member.add(add_name)\n",
    "            return\n",
    "    def rm_member(self, rm_name):\n",
    "        if rm_name in self.__member:\n",
    "            print(f\"{rm_name}님을 {self.number} 팀에서 삭제했습니다.\")\n",
    "            self.__member.remove(rm_name)\n",
    "            return\n",
    "        else:\n",
    "            print(f\"{rm_name} 님은 해당 팀에 없습니다.\")\n",
    "            return\n",
    "    def get_count(self):\n",
    "        return count\n",
    "    def get_order(self):\n",
    "        global order\n",
    "        return order\n",
    "    def set_order(self, num):\n",
    "        global order\n",
    "        if num in order:\n",
    "            order = list(set(order))\n",
    "            order.remove(num)\n",
    "        order.append(num)\n",
    "        return\n",
    "    def __len__(self):\n",
    "        return len(self.__member)"
   ]
  },
  {
   "cell_type": "code",
   "execution_count": 348,
   "metadata": {},
   "outputs": [],
   "source": [
    "t1 = Team(1)"
   ]
  },
  {
   "cell_type": "code",
   "execution_count": 349,
   "metadata": {},
   "outputs": [
    {
     "name": "stdout",
     "output_type": "stream",
     "text": [
      "윤규현 님을 1 팀에 추가했습니다.\n"
     ]
    }
   ],
   "source": [
    "t1.add_member(\"윤규현\")"
   ]
  },
  {
   "cell_type": "code",
   "execution_count": 350,
   "metadata": {},
   "outputs": [
    {
     "name": "stdout",
     "output_type": "stream",
     "text": [
      "윤규현님은 이미 팀에 있습니다.\n"
     ]
    }
   ],
   "source": [
    "t1.add_member(\"윤규현\")"
   ]
  },
  {
   "cell_type": "code",
   "execution_count": 351,
   "metadata": {},
   "outputs": [
    {
     "data": {
      "text/plain": [
       "1"
      ]
     },
     "execution_count": 351,
     "metadata": {},
     "output_type": "execute_result"
    }
   ],
   "source": [
    "len(t1)"
   ]
  },
  {
   "cell_type": "code",
   "execution_count": 352,
   "metadata": {},
   "outputs": [
    {
     "name": "stdout",
     "output_type": "stream",
     "text": [
      "이호진 님을 1 팀에 추가했습니다.\n"
     ]
    }
   ],
   "source": [
    "t1.add_member(\"이호진\")"
   ]
  },
  {
   "cell_type": "code",
   "execution_count": 353,
   "metadata": {},
   "outputs": [
    {
     "data": {
      "text/plain": [
       "2"
      ]
     },
     "execution_count": 353,
     "metadata": {},
     "output_type": "execute_result"
    }
   ],
   "source": [
    "len(t1)"
   ]
  },
  {
   "cell_type": "code",
   "execution_count": 354,
   "metadata": {},
   "outputs": [
    {
     "name": "stdout",
     "output_type": "stream",
     "text": [
      "이기수 님을 1 팀에 추가했습니다.\n"
     ]
    }
   ],
   "source": [
    "t1.add_member(\"이기수\")"
   ]
  },
  {
   "cell_type": "code",
   "execution_count": 355,
   "metadata": {},
   "outputs": [
    {
     "name": "stdout",
     "output_type": "stream",
     "text": [
      "이기수님을 1 팀에서 삭제했습니다.\n"
     ]
    }
   ],
   "source": [
    "t1.rm_member(\"이기수\")"
   ]
  },
  {
   "cell_type": "code",
   "execution_count": 356,
   "metadata": {},
   "outputs": [
    {
     "name": "stdout",
     "output_type": "stream",
     "text": [
      "이기수 님은 해당 팀에 없습니다.\n"
     ]
    }
   ],
   "source": [
    "t1.rm_member(\"이기수\")"
   ]
  },
  {
   "cell_type": "code",
   "execution_count": 357,
   "metadata": {},
   "outputs": [],
   "source": [
    "t2 = Team(2)"
   ]
  },
  {
   "cell_type": "code",
   "execution_count": 358,
   "metadata": {},
   "outputs": [],
   "source": [
    "t2.set_order(t2.number)"
   ]
  },
  {
   "cell_type": "code",
   "execution_count": 359,
   "metadata": {},
   "outputs": [],
   "source": [
    "t1.set_order(t1.number)"
   ]
  },
  {
   "cell_type": "code",
   "execution_count": 360,
   "metadata": {},
   "outputs": [
    {
     "data": {
      "text/plain": [
       "[2, 1]"
      ]
     },
     "execution_count": 360,
     "metadata": {},
     "output_type": "execute_result"
    }
   ],
   "source": [
    "t1.get_order()"
   ]
  },
  {
   "cell_type": "code",
   "execution_count": 361,
   "metadata": {},
   "outputs": [
    {
     "data": {
      "text/plain": [
       "2"
      ]
     },
     "execution_count": 361,
     "metadata": {},
     "output_type": "execute_result"
    }
   ],
   "source": [
    "t1.get_count()"
   ]
  },
  {
   "cell_type": "code",
   "execution_count": 362,
   "metadata": {},
   "outputs": [],
   "source": [
    "t3 = Team(3)"
   ]
  },
  {
   "cell_type": "code",
   "execution_count": 363,
   "metadata": {},
   "outputs": [
    {
     "data": {
      "text/plain": [
       "3"
      ]
     },
     "execution_count": 363,
     "metadata": {},
     "output_type": "execute_result"
    }
   ],
   "source": [
    "t3.get_count()"
   ]
  },
  {
   "cell_type": "code",
   "execution_count": 364,
   "metadata": {},
   "outputs": [],
   "source": [
    "t3.set_order(t3.number)"
   ]
  },
  {
   "cell_type": "code",
   "execution_count": 365,
   "metadata": {},
   "outputs": [
    {
     "data": {
      "text/plain": [
       "[2, 1, 3]"
      ]
     },
     "execution_count": 365,
     "metadata": {},
     "output_type": "execute_result"
    }
   ],
   "source": [
    "t3.get_order()"
   ]
  },
  {
   "cell_type": "code",
   "execution_count": 1,
   "metadata": {},
   "outputs": [],
   "source": [
    "# class 연습문제\n",
    "# 강사님 코드\n",
    "\n",
    "class Team:\n",
    "    \"\"\"\n",
    "    팀 객체를 만듭니다.\n",
    "    \"\"\"\n",
    "    count = 0\n",
    "    order = []\n",
    "    \n",
    "    def __init__(self, number, name=None, member=set()):\n",
    "        self.number = number\n",
    "        self.name = name\n",
    "        self.__member = member\n",
    "        Team.count += 1\n",
    "        \n",
    "    def add_member(self, add_name):\n",
    "        if add_name in self.__member:\n",
    "            print(f\"{add_name}님은 이미 팀에 있습니다.\")\n",
    "            return\n",
    "        else:\n",
    "            self.__member.add(add_name)\n",
    "            print(f\"{add_name} 님을 {self.number} 팀에 추가했습니다.\")\n",
    "            return\n",
    "        \n",
    "    def rm_member(self, rm_name):\n",
    "        if rm_name in self.__member:\n",
    "            print(f\"{rm_name}님을 {self.number} 팀에서 삭제했습니다.\")\n",
    "            self.__member.remove(rm_name)\n",
    "            return\n",
    "        else:\n",
    "            print(f\"{rm_name} 님은 해당 팀에 없습니다.\")\n",
    "            return\n",
    "        \n",
    "    def get_count(self):\n",
    "        return self.count\n",
    "    \n",
    "    def get_order(self):\n",
    "        return self.order\n",
    "    \n",
    "    def set_order(self, num):\n",
    "        if num in self.order:\n",
    "            self.order = list(set(order))\n",
    "            self.order.remove(num)\n",
    "        self.order.append(num)\n",
    "        return\n",
    "    \n",
    "    def __len__(self):\n",
    "        return len(self.__member)"
   ]
  },
  {
   "cell_type": "code",
   "execution_count": 376,
   "metadata": {},
   "outputs": [
    {
     "name": "stdout",
     "output_type": "stream",
     "text": [
      "윤규헌 님을 1 팀에 추가했습니다.\n",
      "윤규헌님은 이미 팀에 있습니다.\n",
      "1\n",
      "이호진 님을 1 팀에 추가했습니다.\n",
      "2\n",
      "이기수 님을 1 팀에 추가했습니다.\n",
      "이기수님을 1 팀에서 삭제했습니다.\n",
      "이기수 님은 해당 팀에 없습니다.\n"
     ]
    },
    {
     "data": {
      "text/plain": [
       "[2, 1, 3]"
      ]
     },
     "execution_count": 376,
     "metadata": {},
     "output_type": "execute_result"
    }
   ],
   "source": [
    "t1 = Team(1)\n",
    "t1.add_member('윤규헌')\n",
    "t1.add_member('윤규헌')\n",
    "print(len(t1))\n",
    "t1.add_member('이호진')\n",
    "print(len(t1))\n",
    "t1.add_member(\"이기수\")\n",
    "t1.rm_member('이기수')\n",
    "t1.rm_member('이기수')\n",
    "t2 = Team(2)\n",
    "t2.set_order(t2.number)\n",
    "t1.set_order(t1.number)\n",
    "t1.get_order()\n",
    "t1.get_count()\n",
    "t3 = Team(3)\n",
    "t3.get_count()\n",
    "t3.set_order(t3.number)\n",
    "t3.get_order()"
   ]
  },
  {
   "cell_type": "code",
   "execution_count": 68,
   "metadata": {},
   "outputs": [],
   "source": [
    "# class 연습문제\n",
    "# 강사님 코드\n",
    "\n",
    "class Team:\n",
    "    \"\"\"\n",
    "    팀 객체를 만듭니다.\n",
    "    \"\"\"\n",
    "    count = 0\n",
    "    order = []\n",
    "    \n",
    "    def __init__(self, number, name=None, member=set()):\n",
    "        self.number = number\n",
    "        self.name = name\n",
    "        self.__member = member\n",
    "        Team.count += 1\n",
    "        \n",
    "    def add_member(self, add_name):\n",
    "        if add_name in self.__member:\n",
    "            print(f\"{add_name}님은 이미 팀에 있습니다.\")\n",
    "            return\n",
    "        else:\n",
    "            self.__member.add(add_name)\n",
    "            print(f\"{add_name} 님을 {self.number} 팀에 추가했습니다.\")\n",
    "            return\n",
    "        \n",
    "    def rm_member(self, rm_name):\n",
    "        if rm_name in self.__member:\n",
    "            print(f\"{rm_name}님을 {self.number} 팀에서 삭제했습니다.\")\n",
    "            self.__member.remove(rm_name)\n",
    "            return\n",
    "        else:\n",
    "            print(f\"{rm_name} 님은 해당 팀에 없습니다.\")\n",
    "            return\n",
    "        \n",
    "    def get_count(self):\n",
    "        return self.count\n",
    "    \n",
    "    def get_order(self):\n",
    "        return self.order\n",
    "    \n",
    "    def set_order(self, num):\n",
    "        if num in self.order:\n",
    "            self.order = list(set(order))\n",
    "            self.order.remove(num)\n",
    "        self.order.append(num)\n",
    "        return\n",
    "    \n",
    "    def __len__(self):\n",
    "        return len(self.__member)"
   ]
  },
  {
   "cell_type": "code",
   "execution_count": 11,
   "metadata": {},
   "outputs": [],
   "source": [
    "# class 연습문제 2\n",
    "import random\n",
    "\n",
    "class TeamBuilder:\n",
    "    has_team = False\n",
    "    teams = []\n",
    "    \n",
    "    def __init__(self, members, team_count):\n",
    "        self.members = members\n",
    "        self.team_count = team_count\n",
    "        \n",
    "    def create_team(self):\n",
    "        if self.has_team == True:\n",
    "            TeamBuilder.teams.clear()\n",
    "            # self.has_team = False\n",
    "        self.has_team = True\n",
    "        append_count = 0\n",
    "        for i in range(self.team_count):\n",
    "            self.teams.append([])\n",
    "        print(f\"팀을 {self.team_count}개 생성했습니다.\")\n",
    "        random.shuffle(self.members)\n",
    "        \n",
    "        for i in range(len(self.members)):\n",
    "            self.teams[i % self.team_count].append(self.members[i])\n",
    "        print(self.teams)\n",
    "        \n",
    "    def show_team_info(self):\n",
    "        for i in range(len(self.teams)):\n",
    "            print(f\"{i+1}팀은 \", end='')\n",
    "            for j in range(len(self.teams[i])):\n",
    "                if j == len(self.teams[i]) - 1:\n",
    "                    print(f\"{self.teams[i][j]} 입니다.\")\n",
    "                else:\n",
    "                    print(self.teams[i][j], end=', ')\n",
    "                                 \n",
    "            \n",
    "        "
   ]
  },
  {
   "cell_type": "code",
   "execution_count": 14,
   "metadata": {},
   "outputs": [
    {
     "name": "stdout",
     "output_type": "stream",
     "text": [
      "팀을 7개 생성했습니다.\n",
      "[['김예린', '김경목', '이민호', '김호영', '맹지호', '김기훈', '도강현', '맹지호', '민병창'], ['신제우', '윤규헌', '김기훈', '김민수', '신제우', '이선주', '윤규헌', '강지인', '이호진'], ['우상욱', '민병창', '맹지호', '서영호', '도강현', '허경모', '이선주', '김기훈', '김민수'], ['이호진', '황도희', '김유림', '황도희', '강지인', '이병호', '허경모', '김경목', '우상욱'], ['김강직', '강지인', '김민수', '윤규헌', '김강직', '우상욱', '이병호', '김강직', '김유림'], ['이선주', '도강현', '허경모', '김유림', '김경목', '김예린', '김호영', '황도희', '신제우'], ['서영호', '이병호', '김호영', '이민호', '이호진', '민병창', '이민호', '서영호', '김예린'], [], [], [], [], [], [], [], [], [], [], [], [], [], []]\n"
     ]
    }
   ],
   "source": [
    "mem_li = list(\"강지인 김강직 김경목 김기훈 김민수 김예린 김유림 김호영 도강현 맹지호 민병창 서영호 신제우 우상욱 윤규헌 이민호 이병호 이선주 이호진 허경모 황도희\".split())\n",
    "tb = TeamBuilder(mem_li, 7)\n",
    "tb.create_team()"
   ]
  },
  {
   "cell_type": "code",
   "execution_count": 6,
   "metadata": {},
   "outputs": [
    {
     "name": "stdout",
     "output_type": "stream",
     "text": [
      "1팀은 김호영, 신제우, 윤규헌 입니다.\n",
      "2팀은 민병창, 김유림, 우상욱 입니다.\n",
      "3팀은 맹지호, 김경목, 도강현 입니다.\n",
      "4팀은 이선주, 이병호, 이호진 입니다.\n",
      "5팀은 김예린, 김기훈, 황도희 입니다.\n",
      "6팀은 김강직, 허경모, 이민호 입니다.\n",
      "7팀은 강지인, 김민수, 서영호 입니다.\n"
     ]
    }
   ],
   "source": [
    "tb.show_team_info()"
   ]
  },
  {
   "cell_type": "code",
   "execution_count": 1,
   "metadata": {},
   "outputs": [],
   "source": [
    "# 강사님 풀이\n",
    "class Team:\n",
    "    \"\"\"팀 객체를 만듭니다.\"\"\"\n",
    "    # 클래스 속성\n",
    "    count = 0 # Team 클래스로부터 초기화된 인스턴스 개수\n",
    "    order = []\n",
    "    def __init__(self, number, name=None):\n",
    "        self.number = number\n",
    "        self.name = name\n",
    "        self.__member = set()\n",
    "        Team.count += 1\n",
    "    def add_member(self, name):\n",
    "        # 해당 이름이 팀에 있을 경우\n",
    "        if name in self.__member:\n",
    "            print(f\"{name} 님은 이미 팀에 있습니다.\")\n",
    "            return\n",
    "        # 해당 이름이 팀에 없을 경우\n",
    "        else:\n",
    "            self.__member.add(name)\n",
    "            print(f\"{name} 님을 {self.number} 팀에 추가했습니다.\")\n",
    "    def rm_member(self, name):\n",
    "        # 해당 이름이 팀에 있을 경우\n",
    "        if name in self.__member:\n",
    "            self.__member.discard(name)\n",
    "            print(f\"{name} 님을 {self.number} 팀에서 삭제했습니다.\")\n",
    "        # 해당 이름이 팀에 없을 경우\n",
    "        else:\n",
    "            print(f\"{name} 님은 해당 팀에 없습니다.\")\n",
    "    def get_member(self):\n",
    "        return self.__member\n",
    "    def get_count(self):\n",
    "        return self.count\n",
    "    def get_order(self):\n",
    "        return self.order\n",
    "    def set_order(self, number):\n",
    "        if number in self.order:\n",
    "            self.order.remove(number)\n",
    "        self.order.append(number)\n",
    "    # 내장 함수(Built-in function) len(Team()) --> 파이썬이 __len__(self)를 찾아서 실행\n",
    "    def __len__(self):\n",
    "        return len(self.__member)"
   ]
  },
  {
   "cell_type": "code",
   "execution_count": 6,
   "metadata": {},
   "outputs": [],
   "source": [
    "# 방식 1\n",
    "import numpy as np\n",
    "class TeamBuilder:\n",
    "    # 기존에 팀이 생성된 적이 있는지 확인하는 용도로 씀\n",
    "    has_team = False\n",
    "    # Team 객체를 담는 변수\n",
    "    teams = []\n",
    "    def __init__(self, members, team_count):\n",
    "        # 이름들을 갖는 리스트\n",
    "        self.members = members\n",
    "        # 몇개의 팀이 만들 것인지\n",
    "        self.team_count = team_count\n",
    "    def create_teams(self):\n",
    "        \"\"\"팀을 구성할 때 랜덤하게 하고, 또 팀 간의 인원차이를 최소화\"\"\"\n",
    "        if TeamBuilder.has_team == True:\n",
    "            print(\"기존의 팀 정보를 지우고 새로 생성합니다.\")\n",
    "            TeamBuilder.teams.clear()\n",
    "        # 몫, 나머지를 먼저 구한다.\n",
    "        # 나머지 값이 있는 동안은 팀의 크기를 +1만큼 증가시킨다.\n",
    "        # 팀 사이즈를 정해놓고 그만큼씩 Team 객체에 할당해주는 방식입니다.\n",
    "        _q, _r = divmod(len(self.members), self.team_count)\n",
    "        for _ in range(self.team_count):\n",
    "            _team_size = _q\n",
    "            if _r > 0:\n",
    "                _team_size += 1\n",
    "                _r -= 1\n",
    "            _team_member = np.random.choice(self.members, size=_team_size, replace=False)\n",
    "            _team = Team(_ + 1)\n",
    "            for _member in _team_member:\n",
    "                _team.add_member(_member)\n",
    "                self.members.remove(_member)\n",
    "            TeamBuilder.teams.append(_team)\n",
    "        TeamBuilder.has_team = True\n",
    "        print(f\"팀을 {self.team_count}개 생성했습니다.\")\n",
    "    def show_team_info(self):\n",
    "        for _ in range(self.team_count):\n",
    "            print(f\"{self.teams[_].number}팀은 {', '.join(sorted(self.teams[_].get_member()))} 입니다.\")\n",
    "    def __repr__(self):\n",
    "        return f\"<TeamBuilder {hex(id(TeamBuilder))}>\"\n"
   ]
  },
  {
   "cell_type": "code",
   "execution_count": 7,
   "metadata": {},
   "outputs": [],
   "source": [
    "tb = TeamBuilder(\"강지인 김강직 김경목 김기훈 김민수 \"\n",
    "                 \"김예린 김유림 김호영 도강현 맹지호 \"\n",
    "                 \"민병창 서영호 신제우 우상욱 윤규헌 \"\n",
    "                 \"이민호 이병호 이선주 이호진 허경모 황도희\".split(), 7)"
   ]
  },
  {
   "cell_type": "code",
   "execution_count": 8,
   "metadata": {},
   "outputs": [
    {
     "name": "stdout",
     "output_type": "stream",
     "text": [
      "우상욱 님을 1 팀에 추가했습니다.\n",
      "이호진 님을 1 팀에 추가했습니다.\n",
      "황도희 님을 1 팀에 추가했습니다.\n",
      "맹지호 님을 2 팀에 추가했습니다.\n",
      "민병창 님을 2 팀에 추가했습니다.\n",
      "이민호 님을 2 팀에 추가했습니다.\n",
      "김예린 님을 3 팀에 추가했습니다.\n",
      "도강현 님을 3 팀에 추가했습니다.\n",
      "김경목 님을 3 팀에 추가했습니다.\n",
      "허경모 님을 4 팀에 추가했습니다.\n",
      "김유림 님을 4 팀에 추가했습니다.\n",
      "이병호 님을 4 팀에 추가했습니다.\n",
      "김호영 님을 5 팀에 추가했습니다.\n",
      "김강직 님을 5 팀에 추가했습니다.\n",
      "서영호 님을 5 팀에 추가했습니다.\n",
      "신제우 님을 6 팀에 추가했습니다.\n",
      "김민수 님을 6 팀에 추가했습니다.\n",
      "윤규헌 님을 6 팀에 추가했습니다.\n",
      "김기훈 님을 7 팀에 추가했습니다.\n",
      "강지인 님을 7 팀에 추가했습니다.\n",
      "이선주 님을 7 팀에 추가했습니다.\n",
      "팀을 7개 생성했습니다.\n"
     ]
    }
   ],
   "source": [
    "tb.create_teams()"
   ]
  },
  {
   "cell_type": "code",
   "execution_count": 9,
   "metadata": {},
   "outputs": [
    {
     "name": "stdout",
     "output_type": "stream",
     "text": [
      "1팀은 우상욱, 이호진, 황도희 입니다.\n",
      "2팀은 맹지호, 민병창, 이민호 입니다.\n",
      "3팀은 김경목, 김예린, 도강현 입니다.\n",
      "4팀은 김유림, 이병호, 허경모 입니다.\n",
      "5팀은 김강직, 김호영, 서영호 입니다.\n",
      "6팀은 김민수, 신제우, 윤규헌 입니다.\n",
      "7팀은 강지인, 김기훈, 이선주 입니다.\n"
     ]
    }
   ],
   "source": [
    "tb.show_team_info()"
   ]
  },
  {
   "cell_type": "code",
   "execution_count": 14,
   "metadata": {},
   "outputs": [],
   "source": [
    "# 방식2\n",
    "import numpy as np\n",
    "class TeamBuilder:\n",
    "    has_team = False\n",
    "    teams = []\n",
    "    def __init__(self, members, team_count):\n",
    "        self.members = members\n",
    "        self.team_count = team_count\n",
    "    def create_teams(self):\n",
    "        if TeamBuilder.has_team == True:\n",
    "            print(\"기존의 팀 정보를 지우고 새로 생성합니다.\")\n",
    "            TeamBuilder.teams.clear()\n",
    "        # 팀을 만들 순서를 랜덤하게 만듭니다.\n",
    "        np.random.shuffle(self.members)\n",
    "        # 팀 객체를 팀이 필요한 크기만큼 만들어서 클래스 속성인 teams에 추가합니다.\n",
    "        TeamBuilder.teams.extend( [ Team(_ + 1) for _ in range(self.team_count) ] )\n",
    "        # members에 값이 있을 때까지 반복하면서 만들어 놓은 Team 객체에 접근하면서 값을 할당합니다.\n",
    "        i = 0\n",
    "        while self.members:\n",
    "            # 각 팀마다 1명씩 추가하는 방식입니다.\n",
    "            # 추가한 members에 대한 요소는 사용되고 members 리스트에서 제거합니다.\n",
    "            TeamBuilder.teams[i].add_member(self.members.pop())\n",
    "            i += 1\n",
    "            if i == self.team_count:\n",
    "                i = 0\n",
    "        print(f\"팀을 {self.team_count}개 생성했습니다.\")\n",
    "    def show_team_info(self):\n",
    "        for _ in range(self.team_count):\n",
    "            print(f\"{self.teams[_].number}팀은 {', '.join(sorted(self.teams[_].get_member()))} 입니다.\")\n",
    "    def __repr__(self):\n",
    "        return f\"<TeamBuilder {hex(id(TeamBuilder))}>\""
   ]
  },
  {
   "cell_type": "code",
   "execution_count": 15,
   "metadata": {},
   "outputs": [],
   "source": [
    "tb = TeamBuilder(\"강지인 김강직 김경목 김기훈 김민수 \"\n",
    "                 \"김예린 김유림 김호영 도강현 맹지호 \"\n",
    "                 \"민병창 서영호 신제우 우상욱 윤규헌 \"\n",
    "                 \"이민호 이병호 이선주 이호진 허경모 황도희\".split(), 7)"
   ]
  },
  {
   "cell_type": "code",
   "execution_count": 16,
   "metadata": {},
   "outputs": [
    {
     "name": "stdout",
     "output_type": "stream",
     "text": [
      "김경목 님을 1 팀에 추가했습니다.\n",
      "윤규헌 님을 2 팀에 추가했습니다.\n",
      "허경모 님을 3 팀에 추가했습니다.\n",
      "도강현 님을 4 팀에 추가했습니다.\n",
      "김유림 님을 5 팀에 추가했습니다.\n",
      "맹지호 님을 6 팀에 추가했습니다.\n",
      "김예린 님을 7 팀에 추가했습니다.\n",
      "우상욱 님을 1 팀에 추가했습니다.\n",
      "신제우 님을 2 팀에 추가했습니다.\n",
      "이병호 님을 3 팀에 추가했습니다.\n",
      "강지인 님을 4 팀에 추가했습니다.\n",
      "이호진 님을 5 팀에 추가했습니다.\n",
      "서영호 님을 6 팀에 추가했습니다.\n",
      "김강직 님을 7 팀에 추가했습니다.\n",
      "이민호 님을 1 팀에 추가했습니다.\n",
      "이선주 님을 2 팀에 추가했습니다.\n",
      "황도희 님을 3 팀에 추가했습니다.\n",
      "김기훈 님을 4 팀에 추가했습니다.\n",
      "민병창 님을 5 팀에 추가했습니다.\n",
      "김민수 님을 6 팀에 추가했습니다.\n",
      "김호영 님을 7 팀에 추가했습니다.\n",
      "팀을 7개 생성했습니다.\n"
     ]
    }
   ],
   "source": [
    "\n",
    "tb.create_teams()"
   ]
  },
  {
   "cell_type": "code",
   "execution_count": 17,
   "metadata": {},
   "outputs": [
    {
     "name": "stdout",
     "output_type": "stream",
     "text": [
      "1팀은 김경목, 우상욱, 이민호 입니다.\n",
      "2팀은 신제우, 윤규헌, 이선주 입니다.\n",
      "3팀은 이병호, 허경모, 황도희 입니다.\n",
      "4팀은 강지인, 김기훈, 도강현 입니다.\n",
      "5팀은 김유림, 민병창, 이호진 입니다.\n",
      "6팀은 김민수, 맹지호, 서영호 입니다.\n",
      "7팀은 김강직, 김예린, 김호영 입니다.\n"
     ]
    }
   ],
   "source": [
    "tb.show_team_info()"
   ]
  }
 ],
 "metadata": {
  "kernelspec": {
   "display_name": "base",
   "language": "python",
   "name": "python3"
  },
  "language_info": {
   "codemirror_mode": {
    "name": "ipython",
    "version": 3
   },
   "file_extension": ".py",
   "mimetype": "text/x-python",
   "name": "python",
   "nbconvert_exporter": "python",
   "pygments_lexer": "ipython3",
   "version": "3.9.13 (main, Oct 13 2022, 16:12:30) \n[Clang 12.0.0 ]"
  },
  "orig_nbformat": 4,
  "vscode": {
   "interpreter": {
    "hash": "8a5edab282632443219e051e4ade2d1d5bbc671c781051bf1437897cbdfea0f1"
   }
  }
 },
 "nbformat": 4,
 "nbformat_minor": 2
}
