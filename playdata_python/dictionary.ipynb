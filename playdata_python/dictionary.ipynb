{
 "cells": [
  {
   "cell_type": "code",
   "execution_count": 1,
   "metadata": {},
   "outputs": [
    {
     "name": "stdout",
     "output_type": "stream",
     "text": [
      "<class 'dict'>\n",
      "{'key': 'value'}\n"
     ]
    }
   ],
   "source": [
    "dic_var = {\"key\": \"value\"}\n",
    "print(type(dic_var))\n",
    "print(dic_var)"
   ]
  },
  {
   "cell_type": "code",
   "execution_count": 2,
   "metadata": {},
   "outputs": [
    {
     "name": "stdout",
     "output_type": "stream",
     "text": [
      "{'key': 'last value'}\n"
     ]
    }
   ],
   "source": [
    "dic_var = {\"key\": \"value\", \"key\": \"last value\"}\n",
    "print(dic_var)"
   ]
  },
  {
   "cell_type": "code",
   "execution_count": 4,
   "metadata": {},
   "outputs": [
    {
     "name": "stdout",
     "output_type": "stream",
     "text": [
      "[<class 'str'>, <class 'int'>, <class 'float'>, <class 'tuple'>]\n"
     ]
    }
   ],
   "source": [
    "dic_var = {\"key\": \"value\",\n",
    "           1: \"value2\",\n",
    "           1.1: \"value3\",\n",
    "           True: \"value4\",\n",
    "           (\"key\", 1, 1.1, True): \"value2\"}\n",
    "print(list(map(type, dic_var.keys())))"
   ]
  },
  {
   "cell_type": "code",
   "execution_count": 6,
   "metadata": {},
   "outputs": [
    {
     "name": "stdout",
     "output_type": "stream",
     "text": [
      "[<class 'str'>, <class 'int'>, <class 'float'>, <class 'tuple'>]\n",
      "[<class 'str'>, <class 'bool'>, <class 'float'>, <class 'tuple'>]\n"
     ]
    }
   ],
   "source": [
    "dic_var = {\"key\": \"value\",\n",
    "           1: 1,\n",
    "           1.1: 1.1,\n",
    "           True: False,\n",
    "           (\"key\", 1, 1.1, True): (\"key\", 1, 1.1, True)}\n",
    "print(list(map(type, dic_var.keys())))\n",
    "print(list(map(type, dic_var.values())))"
   ]
  },
  {
   "cell_type": "code",
   "execution_count": 7,
   "metadata": {},
   "outputs": [
    {
     "name": "stdout",
     "output_type": "stream",
     "text": [
      "{'key': 'value', 'key2': 'value2', 'key3': 'value3'}\n"
     ]
    }
   ],
   "source": [
    "dict_a = dict(key=\"value\", key2=\"value2\", key3=\"value3\")\n",
    "print(dict_a)"
   ]
  },
  {
   "cell_type": "code",
   "execution_count": 8,
   "metadata": {},
   "outputs": [
    {
     "name": "stdout",
     "output_type": "stream",
     "text": [
      "{'key': 'value', 'key2': 'value2', 'key3': 'value3'}\n"
     ]
    }
   ],
   "source": [
    "# zip을 이용한 생성법\n",
    "dict_b = dict(zip([\"key\", \"key2\", \"key3\"], [\"value\", \"value2\", \"value3\"]))\n",
    "print(dict_b)"
   ]
  },
  {
   "cell_type": "code",
   "execution_count": 9,
   "metadata": {},
   "outputs": [
    {
     "data": {
      "text/plain": [
       "[('key', 'value'), ('key2', 'value2'), ('key3', 'value3')]"
      ]
     },
     "execution_count": 9,
     "metadata": {},
     "output_type": "execute_result"
    }
   ],
   "source": [
    "# zip을 이용한 생성법\n",
    "[_ for _ in zip([\"key\", \"key2\", \"key3\"], [\"value\", \"value2\", \"value3\"])]"
   ]
  },
  {
   "cell_type": "code",
   "execution_count": 10,
   "metadata": {},
   "outputs": [
    {
     "name": "stdout",
     "output_type": "stream",
     "text": [
      "{'key': 'value', 'key2': 'value2', 'key3': 'value3'}\n",
      "{'key': 'super value', 'key2': 'value2', 'key3': 'value3'}\n"
     ]
    }
   ],
   "source": [
    "print(dict_b)\n",
    "# 값 변경\n",
    "dict_b['key'] = 'super value'\n",
    "print(dict_b)"
   ]
  },
  {
   "cell_type": "code",
   "execution_count": 11,
   "metadata": {},
   "outputs": [
    {
     "name": "stdout",
     "output_type": "stream",
     "text": [
      "{'key': 'super value', 'key2': 'value2', 'key3': 'value3'}\n",
      "{'key': 'super value', 'key2': 'value2', 'key3': 'value3', 'new one': 'new value'}\n"
     ]
    }
   ],
   "source": [
    "# 없는 키를 활용해 값을 할당하면 새로운 키와 값의 쌍이 추가됨\n",
    "print(dict_b)\n",
    "dict_b['new one'] = \"new value\"\n",
    "print(dict_b)"
   ]
  },
  {
   "cell_type": "code",
   "execution_count": 12,
   "metadata": {},
   "outputs": [
    {
     "name": "stdout",
     "output_type": "stream",
     "text": [
      "{'key': 'super value', 'key2': 'value2', 'key3': 'value3', 'new one': 'new value'}\n"
     ]
    },
    {
     "ename": "KeyError",
     "evalue": "'없는 키'",
     "output_type": "error",
     "traceback": [
      "\u001b[0;31m---------------------------------------------------------------------------\u001b[0m",
      "\u001b[0;31mKeyError\u001b[0m                                  Traceback (most recent call last)",
      "Cell \u001b[0;32mIn[12], line 3\u001b[0m\n\u001b[1;32m      1\u001b[0m \u001b[39m# 존재하지 않는 키에 접근하려하면 KeyError\u001b[39;00m\n\u001b[1;32m      2\u001b[0m \u001b[39mprint\u001b[39m(dict_b)\n\u001b[0;32m----> 3\u001b[0m \u001b[39mprint\u001b[39m(dict_b[\u001b[39m'\u001b[39;49m\u001b[39m없는 키\u001b[39;49m\u001b[39m'\u001b[39;49m])\n",
      "\u001b[0;31mKeyError\u001b[0m: '없는 키'"
     ]
    }
   ],
   "source": [
    "# 존재하지 않는 키에 접근하려하면 KeyError\n",
    "print(dict_b)\n",
    "print(dict_b['없는 키'])"
   ]
  },
  {
   "cell_type": "code",
   "execution_count": 13,
   "metadata": {},
   "outputs": [
    {
     "name": "stdout",
     "output_type": "stream",
     "text": [
      "{'key': 'super value', 'key2': 'value2', 'key3': 'value3', 'new one': 'new value'}\n",
      "True\n"
     ]
    }
   ],
   "source": [
    "print(dict_b)\n",
    "print('key' in dict_b)"
   ]
  },
  {
   "cell_type": "code",
   "execution_count": 14,
   "metadata": {},
   "outputs": [
    {
     "name": "stdout",
     "output_type": "stream",
     "text": [
      "{'key': 'super value', 'key2': 'value2', 'key3': 'value3', 'new one': 'new value'}\n",
      "{'key': 'super value', 'key2': 'value2', 'key3': 'value3'}\n"
     ]
    }
   ],
   "source": [
    "# del 키워드를 활용해 특정 키-값 쌍 삭제가능\n",
    "print(dict_b)\n",
    "del dict_b['new one']\n",
    "print(dict_b)"
   ]
  },
  {
   "cell_type": "code",
   "execution_count": 16,
   "metadata": {},
   "outputs": [
    {
     "name": "stdout",
     "output_type": "stream",
     "text": [
      "{'key': 'super value', 'key2': 'value2', 'key3': 'value3'}\n"
     ]
    },
    {
     "data": {
      "text/plain": [
       "3"
      ]
     },
     "execution_count": 16,
     "metadata": {},
     "output_type": "execute_result"
    }
   ],
   "source": [
    "# len 키워드를 활용해 길이를 구할 수 있다!\n",
    "print(dict_b)\n",
    "len(dict_b)"
   ]
  },
  {
   "cell_type": "code",
   "execution_count": 20,
   "metadata": {},
   "outputs": [
    {
     "name": "stdout",
     "output_type": "stream",
     "text": [
      "파인애플의 가격은 2000원 입니다.\n"
     ]
    }
   ],
   "source": [
    "fruits = {\"사과\": 1000, \"바나나\": 700, \"오렌지\": 1500, \"파인애플\": 2000}\n",
    "fruit_name = input(\"과일 이름을 입력하세요.\")\n",
    "\n",
    "print(f'{fruit_name}의 가격은 {fruits[fruit_name]}원 입니다.')"
   ]
  },
  {
   "cell_type": "code",
   "execution_count": 24,
   "metadata": {},
   "outputs": [
    {
     "data": {
      "text/plain": [
       "{'뽀로로': 20.4, '루피': 16.2, '크롱': 22.3, '스누피': 5.2}"
      ]
     },
     "execution_count": 24,
     "metadata": {},
     "output_type": "execute_result"
    }
   ],
   "source": [
    "# 뽀로로 루피 크롱 스누피\n",
    "# 20.4 16.2 22.3 5.2\n",
    "name = list(input('이름을 기입해주세요.').split())\n",
    "weight = list(map(float, input('몸무게를 입력해주세요').split()))\n",
    "\n",
    "# tmp_dict = [_ for _ in zip(name, weight)]\n",
    "tmp_dict = dict(zip(name, weight))\n",
    "print(tmp_dict)"
   ]
  },
  {
   "cell_type": "code",
   "execution_count": 31,
   "metadata": {},
   "outputs": [
    {
     "name": "stdout",
     "output_type": "stream",
     "text": [
      "input_text = 20.4 16.2 22.3 5.2\n",
      "split() 결과 = ['20.4', '16.2', '22.3', '5.2']\n",
      "map 결과 = <map object at 0x10b458040>\n",
      "list 결과 = [20.4, 16.2, 22.3, 5.2]\n"
     ]
    }
   ],
   "source": [
    "# 설명용 코드\n",
    "\n",
    "# 함수는 안쪽것부터 실행됨\n",
    "# weight = list(map(float, input('몸무게를 입력해주세요').split()))\n",
    "# input() 한거를 split() 한거를 map() 한거를 list()\n",
    "\n",
    "# 아래의 문자열을 input()으로 받았다고 가정\n",
    "input_text = '20.4 16.2 22.3 5.2'\n",
    "print('input_text =', input_text)\n",
    "\n",
    "# split()을 한다면 어떻게 바뀔까?\n",
    "input_text = input_text.split()\n",
    "print('split() 결과 =', input_text)\n",
    "\n",
    "# map을 쓰는 이유\n",
    "# 하나라면 float()으로 바꿔줄 수 있지만 split()한 결과처럼 여러개라면 map이 필요\n",
    "input_text = map(float, '20.4 16.2 22.3 5.2'.split())\n",
    "print('map 결과 =', input_text)\n",
    "\n",
    "# map한것들을 list()를 사용해 리스트로 만들어주자!\n",
    "input_text = list(input_text)\n",
    "print('list 결과 =', input_text)"
   ]
  },
  {
   "cell_type": "code",
   "execution_count": 32,
   "metadata": {},
   "outputs": [
    {
     "data": {
      "text/plain": [
       "[1, 4, 9, 16, 25, 36, 49, 64, 81]"
      ]
     },
     "execution_count": 32,
     "metadata": {},
     "output_type": "execute_result"
    }
   ],
   "source": [
    "# list comprehension\n",
    "list_a = [_ ** 2 for _ in range(1, 10)]\n",
    "list_a"
   ]
  },
  {
   "cell_type": "code",
   "execution_count": 33,
   "metadata": {},
   "outputs": [
    {
     "name": "stdout",
     "output_type": "stream",
     "text": [
      "Hello world\n",
      "Hello world\n",
      "Hello world\n",
      "Hello world\n",
      "Hello world\n",
      "Hello world\n",
      "Hello world\n",
      "Hello world\n",
      "Hello world\n",
      "Hello world\n"
     ]
    },
    {
     "data": {
      "text/plain": [
       "[None, None, None, None, None, None, None, None, None, None]"
      ]
     },
     "execution_count": 33,
     "metadata": {},
     "output_type": "execute_result"
    }
   ],
   "source": [
    "[print(\"Hello world\") for _ in range(10)]"
   ]
  },
  {
   "cell_type": "code",
   "execution_count": 34,
   "metadata": {},
   "outputs": [
    {
     "name": "stdout",
     "output_type": "stream",
     "text": [
      "<class 'list'>\n",
      "[1, 4, 9, 16, 25, 36, 49, 64, 81]\n"
     ]
    }
   ],
   "source": [
    "prac_result = [_ ** 2 for _ in range(1, 10)]\n",
    "print(type(prac_result))\n",
    "print(prac_result)"
   ]
  },
  {
   "cell_type": "code",
   "execution_count": 29,
   "metadata": {},
   "outputs": [
    {
     "name": "stdout",
     "output_type": "stream",
     "text": [
      "김태형 후보가 총 4 표를 얻어 당선되었습니다.\n"
     ]
    }
   ],
   "source": [
    "votes = [2, 5, 3, 4, 1, 5, 1, 5, 5, 3]\n",
    "candidates = [\"\", \"전정국\", \"김남준\", \"박지민\", \"정호석\", \"김태형\"]\n",
    "\n",
    "# 번호를 맵핑하기 위한 리스트\n",
    "numbers = list(range(6))\n",
    "\n",
    "# 결과를 저장하기 위한 리스트\n",
    "res = [0] * 6\n",
    "\n",
    "# votes 리스트를 탐색하며 결과 리스트를 +1\n",
    "for i in range(len(votes)):\n",
    "    res[votes[i]] += 1\n",
    "    \n",
    "# 번호를 key로, 후보자 이름을 value로 갖는 tmp_dict 생성\n",
    "tmp_dict = dict(zip(numbers, candidates))\n",
    "\n",
    "# 제일 표를 많이 받은 사람 찾기\n",
    "max_index = 0\n",
    "for i in range(len(res)):\n",
    "    if res[i] > res[max_index]:\n",
    "        max_index = i\n",
    "        \n",
    "print(f'{tmp_dict[max_index]} 후보가 총 {res[max_index]} 표를 얻어 당선되었습니다.')\n"
   ]
  },
  {
   "cell_type": "code",
   "execution_count": 32,
   "metadata": {},
   "outputs": [
    {
     "name": "stdout",
     "output_type": "stream",
     "text": [
      "[1, 3, 5, 7, 9]\n"
     ]
    }
   ],
   "source": [
    "prac_result2 = [_ * 2 - 1 for _ in range(1, 6)]\n",
    "print(prac_result2)"
   ]
  },
  {
   "cell_type": "code",
   "execution_count": 42,
   "metadata": {},
   "outputs": [
    {
     "name": "stdout",
     "output_type": "stream",
     "text": [
      "['a', 'b', 'c', 'd', 'e', 'f', 'g', 'h', 'i', 'j', 'k', 'l', 'm', 'n', 'o', 'p', 'q', 'r', 's', 't', 'u', 'v', 'w', 'x', 'y', 'z']\n"
     ]
    }
   ],
   "source": [
    "alphabet = 'abcdefghijklmnopqrstuvwxyz'\n",
    "prac_result3 = [_ for _ in alphabet]\n",
    "print(prac_result3)"
   ]
  },
  {
   "cell_type": "code",
   "execution_count": 49,
   "metadata": {},
   "outputs": [
    {
     "data": {
      "text/plain": [
       "['2', '3', '4', '5', '6', '7', '8', '9', '10', 'J', 'Q', 'K', 'A']"
      ]
     },
     "execution_count": 49,
     "metadata": {},
     "output_type": "execute_result"
    }
   ],
   "source": [
    "prac_result4 = [str(_) for _ in range(2, 11)] + [ _ for _ in 'JQKA']\n",
    "prac_result4"
   ]
  },
  {
   "cell_type": "code",
   "execution_count": 50,
   "metadata": {},
   "outputs": [
    {
     "name": "stdout",
     "output_type": "stream",
     "text": [
      "1 2 3 4 5 6 7 8 9 10 \n",
      "2 3 4 5 6 7 8 9 10 1 \n",
      "3 4 5 6 7 8 9 10 1 2 \n",
      "4 5 6 7 8 9 10 1 2 3 \n",
      "5 6 7 8 9 10 1 2 3 4 \n",
      "6 7 8 9 10 1 2 3 4 5 \n",
      "7 8 9 10 1 2 3 4 5 6 \n",
      "8 9 10 1 2 3 4 5 6 7 \n",
      "9 10 1 2 3 4 5 6 7 8 \n",
      "10 1 2 3 4 5 6 7 8 9 \n"
     ]
    }
   ],
   "source": [
    "num = int(input(\"순환할 숫자를 입력하세요:\"))\n",
    "e = [i for i in range(1, num+1)]\n",
    "for j in range(len(e)):\n",
    "    j = 0\n",
    "    for i in e:\n",
    "        print(i,end=\" \")\n",
    "    print()\n",
    "    e.append(e[j])\n",
    "    e.remove(e[j])"
   ]
  },
  {
   "cell_type": "code",
   "execution_count": 2,
   "metadata": {},
   "outputs": [
    {
     "name": "stdout",
     "output_type": "stream",
     "text": [
      "1 2 3 4 5 6 7 8 9 10 \n",
      "2 3 4 5 6 7 8 9 10 1 \n",
      "3 4 5 6 7 8 9 10 1 2 \n",
      "4 5 6 7 8 9 10 1 2 3 \n",
      "5 6 7 8 9 10 1 2 3 4 \n",
      "6 7 8 9 10 1 2 3 4 5 \n",
      "7 8 9 10 1 2 3 4 5 6 \n",
      "8 9 10 1 2 3 4 5 6 7 \n",
      "9 10 1 2 3 4 5 6 7 8 \n",
      "10 1 2 3 4 5 6 7 8 9 \n"
     ]
    }
   ],
   "source": [
    "num = int(input(\"순환할 숫자를 입력하세요:\"))\n",
    "# i => 1 ~ 입력한 숫자까지\n",
    "for i in range(1, num + 1):\n",
    "    for j in range(i, num + i):\n",
    "        if j % num == 0:\n",
    "            print(num, end=\" \")\n",
    "        else:\n",
    "            print(j % num, end=\" \")\n",
    "    print()"
   ]
  },
  {
   "cell_type": "code",
   "execution_count": 1,
   "metadata": {},
   "outputs": [
    {
     "name": "stdout",
     "output_type": "stream",
     "text": [
      "()\n",
      "<class 'tuple'>\n"
     ]
    }
   ],
   "source": [
    "empty_tuple = tuple()\n",
    "print(empty_tuple)\n",
    "print(type(empty_tuple))"
   ]
  },
  {
   "cell_type": "code",
   "execution_count": 3,
   "metadata": {},
   "outputs": [],
   "source": [
    "generator_variable = (_ for _ in range(10))"
   ]
  },
  {
   "cell_type": "code",
   "execution_count": 4,
   "metadata": {},
   "outputs": [
    {
     "name": "stdout",
     "output_type": "stream",
     "text": [
      "<class 'generator'>\n"
     ]
    }
   ],
   "source": [
    "print(type(generator_variable))"
   ]
  },
  {
   "cell_type": "code",
   "execution_count": 5,
   "metadata": {},
   "outputs": [
    {
     "data": {
      "text/plain": [
       "True"
      ]
     },
     "execution_count": 5,
     "metadata": {},
     "output_type": "execute_result"
    }
   ],
   "source": [
    "# iterable\n",
    "# tuple(인수), list(인수)\n",
    "hasattr(generator_variable, \"__iter__\")"
   ]
  },
  {
   "attachments": {},
   "cell_type": "markdown",
   "metadata": {},
   "source": [
    "[expression for 변수 in 반복가능한 객체(iterable) if 조건식]"
   ]
  },
  {
   "cell_type": "code",
   "execution_count": 9,
   "metadata": {},
   "outputs": [
    {
     "name": "stdout",
     "output_type": "stream",
     "text": [
      "['alpha', 'bravo', 'delta', 'hotel', 'india']\n"
     ]
    }
   ],
   "source": [
    "a = ['alpha', 'bravo', 'charlie', 'delta', 'echo', 'foxtrot', 'golf', 'hotel', 'india']\n",
    "b = [ _ for _ in a if len(_) == 5]\n",
    "print(b)"
   ]
  },
  {
   "cell_type": "code",
   "execution_count": 22,
   "metadata": {},
   "outputs": [
    {
     "name": "stdout",
     "output_type": "stream",
     "text": [
      "첫번째 값의 범위는 1 ~ 20입니다.\n",
      "두번째 값의 범위는 10 ~ 30입니다.\n",
      "첫 번째 입력 값은 두 번째 입력 값보다 작게 입력하세요.\n",
      "[1024, 4096, 8192, 16384, 32768, 65536, 131072, 262144, 1048576]\n"
     ]
    }
   ],
   "source": [
    "# 첫번째 값의 범위는 1 ~ 20입니다.\n",
    "# 두번째 값의 범위는 10 ~ 30입니다.\n",
    "# 첫 번째 입력 값은 두 번째 입력 값보다 작게 입력하세요.\n",
    "condition = False\n",
    "while(condition == False):\n",
    "    a, b = map(int, input().split())\n",
    "    if a < 1 or a > 20:\n",
    "        print('첫번째 값의 범위는 1 ~ 20입니다.')\n",
    "        continue\n",
    "    elif b < 10 or b > 30:\n",
    "        print('두번째 값의 범위는 10 ~ 30입니다.')\n",
    "        continue\n",
    "    elif a >= b:\n",
    "        print('첫 번째 입력 값은 두 번째 입력 값보다 작게 입력하세요.')\n",
    "        continue\n",
    "    else:\n",
    "        condition = True\n",
    "        \n",
    "res = [2 ** _ for _ in range(a, b+1)]\n",
    "res.pop(1)\n",
    "res.pop(-2)\n",
    "print(res)"
   ]
  },
  {
   "cell_type": "code",
   "execution_count": 29,
   "metadata": {},
   "outputs": [
    {
     "name": "stdout",
     "output_type": "stream",
     "text": [
      "- 1 + 4 - 9 + 16 - 25 + 36 - 49 + 64 - 81 + 100\n",
      "- 121 + 144 - 169 + 196 - 225 + 256 - 289 + 324 - 361 + 400\n",
      "- 441 + 484 - 529 + 576 - 625 + 676 - 729 + 784 - 841 + 900\n",
      "- 961 + 1024 - 1089 + 1156 - 1225 + 1296 - 1369 + 1444 - 1521 + 1600\n",
      "- 1681 + 1764 - 1849 + 1936 - 2025 + 2116 - 2209 + 2304 - 2401 + 2500\n",
      "- 2601 + 2704 - 2809 + 2916 - 3025 + 3136 - 3249 + 3364 - 3481 + 3600\n",
      "- 3721 + 3844 - 3969 + 4096 - 4225 + 4356 - 4489 + 4624 - 4761 + 4900\n",
      "- 5041 + 5184 - 5329 + 5476 - 5625 + 5776 - 5929 + 6084 - 6241 + 6400\n",
      "- 6561 + 6724 - 6889 + 7056 - 7225 + 7396 - 7569 + 7744 - 7921 + 8100\n",
      "- 8281 + 8464 - 8649 + 8836 - 9025 + 9216 - 9409 + 9604 - 9801 + 10000\n",
      "= 5050 입니다.\n"
     ]
    }
   ],
   "source": [
    "i = 1\n",
    "sum = 0\n",
    "while(i <= 100):\n",
    "    if i % 2 == 1:\n",
    "        sum -= i ** 2\n",
    "        print('-', i ** 2, end=' ')\n",
    "    elif i % 2 == 0 and i % 10 == 0:\n",
    "        sum += i ** 2\n",
    "        print('+', i ** 2)\n",
    "    else:\n",
    "        sum += i ** 2\n",
    "        print('+', i ** 2, end =' ')\n",
    "    i += 1\n",
    "\n",
    "print(f'= {sum} 입니다.')"
   ]
  },
  {
   "cell_type": "code",
   "execution_count": 11,
   "metadata": {},
   "outputs": [
    {
     "name": "stdout",
     "output_type": "stream",
     "text": [
      "4523653056\n",
      "4534847936\n",
      "False\n",
      "True\n"
     ]
    }
   ],
   "source": [
    "old_li = list(range(10))\n",
    "new_li = old_li[:]\n",
    "\n",
    "print(id(old_li))\n",
    "print(id(new_li))\n",
    "print(old_li is new_li)\n",
    "print(old_li == new_li)"
   ]
  },
  {
   "attachments": {},
   "cell_type": "markdown",
   "metadata": {},
   "source": [
    "### random 라이브러리   \n",
    "random.randint(시작, 끝)"
   ]
  },
  {
   "cell_type": "code",
   "execution_count": 1,
   "metadata": {},
   "outputs": [
    {
     "data": {
      "text/plain": [
       "[1, 1, 1, 1, 2, 2, 2, 2, 2, 2]"
      ]
     },
     "execution_count": 1,
     "metadata": {},
     "output_type": "execute_result"
    }
   ],
   "source": [
    "import random\n",
    "random_li = [random.randint(1, 2) for _ in range(10)]\n",
    "random_li"
   ]
  },
  {
   "cell_type": "code",
   "execution_count": 5,
   "metadata": {},
   "outputs": [
    {
     "name": "stdout",
     "output_type": "stream",
     "text": [
      "[14, 17, 21, 31, 34, 41]\n",
      "[4, 10, 11, 13, 31, 32]\n",
      "[6, 8, 15, 30, 37, 39]\n",
      "[13, 18, 20, 29, 35, 36]\n",
      "[5, 11, 14, 26, 37, 44]\n"
     ]
    }
   ],
   "source": [
    "# 로또 연습문제\n",
    "\n",
    "import random\n",
    "# 몇번 할지 입력받음\n",
    "n = int(input('로또 번호 몇 개 드릴까요?'))\n",
    "\n",
    "# 로또 n줄 생성\n",
    "for _ in range(n):\n",
    "    lotto_li = []    # 빈 리스트 생성\n",
    "    \n",
    "    while(len(lotto_li) < 6):    # 리스트의 길이가 6보다 작을때 로또 번호 하나씩 넣어주기\n",
    "        tmp = random.randint(1, 45)\n",
    "        if tmp in lotto_li:    # 중복이 있을 경우 다시 뽑기\n",
    "            continue\n",
    "        else:\n",
    "            lotto_li.append(tmp)    # 중복이 아닐경우 리스트에 추가\n",
    "    lotto_li.sort()\n",
    "    print(lotto_li)"
   ]
  },
  {
   "attachments": {},
   "cell_type": "markdown",
   "metadata": {},
   "source": [
    "### set 자료형 사용법"
   ]
  },
  {
   "cell_type": "code",
   "execution_count": 6,
   "metadata": {},
   "outputs": [
    {
     "name": "stdout",
     "output_type": "stream",
     "text": [
      "set() <class 'set'>\n"
     ]
    }
   ],
   "source": [
    "set_variable = set()\n",
    "print(set_variable, type(set_variable))"
   ]
  },
  {
   "cell_type": "code",
   "execution_count": 8,
   "metadata": {},
   "outputs": [
    {
     "data": {
      "text/plain": [
       "{1}"
      ]
     },
     "execution_count": 8,
     "metadata": {},
     "output_type": "execute_result"
    }
   ],
   "source": [
    "[set_variable.add(1) for _ in range(5)]\n",
    "set_variable"
   ]
  },
  {
   "cell_type": "code",
   "execution_count": 9,
   "metadata": {},
   "outputs": [
    {
     "name": "stdout",
     "output_type": "stream",
     "text": [
      "{1, 2, 3, 4} {2, 4, 5}\n",
      "{1, 2, 3, 4, 5}\n",
      "{1, 2, 3, 4, 5}\n"
     ]
    }
   ],
   "source": [
    "# 합집합\n",
    "\n",
    "A = {_ for _ in range(1, 5)}\n",
    "B = {_ for _ in range(2, 6) if _ != 3}\n",
    "print(A, B)\n",
    "print(set.union(A, B))\n",
    "print(A | B)"
   ]
  },
  {
   "cell_type": "code",
   "execution_count": 10,
   "metadata": {},
   "outputs": [
    {
     "name": "stdout",
     "output_type": "stream",
     "text": [
      "{1, 2, 3, 4} {2, 4, 5}\n",
      "{2, 4}\n",
      "{2, 4}\n"
     ]
    }
   ],
   "source": [
    "# 교집합\n",
    "\n",
    "A = {_ for _ in range(1, 5)}\n",
    "B = {_ for _ in range(2, 6) if _ != 3}\n",
    "print(A, B)\n",
    "print(set.intersection(A, B))\n",
    "print(A & B)"
   ]
  },
  {
   "cell_type": "code",
   "execution_count": 11,
   "metadata": {},
   "outputs": [
    {
     "name": "stdout",
     "output_type": "stream",
     "text": [
      "{1, 2, 3, 4} {2, 4, 5}\n",
      "{1, 3}\n",
      "{1, 3}\n"
     ]
    }
   ],
   "source": [
    "# 차집합\n",
    "\n",
    "A = {_ for _ in range(1, 5)}\n",
    "B = {_ for _ in range(2, 6) if _ != 3}\n",
    "print(A, B)\n",
    "print(set.difference(A, B))\n",
    "print(A - B)"
   ]
  },
  {
   "cell_type": "code",
   "execution_count": 12,
   "metadata": {},
   "outputs": [
    {
     "name": "stdout",
     "output_type": "stream",
     "text": [
      "{1, 2, 3, 4} {2, 4, 5}\n",
      "{1, 3, 5}\n",
      "{1, 3, 5}\n"
     ]
    }
   ],
   "source": [
    "# 대칭차집합\n",
    "\n",
    "A = {_ for _ in range(1, 5)}\n",
    "B = {_ for _ in range(2, 6) if _ != 3}\n",
    "print(A, B)\n",
    "print(set.symmetric_difference(A, B))\n",
    "print(A ^ B)"
   ]
  },
  {
   "cell_type": "code",
   "execution_count": 18,
   "metadata": {},
   "outputs": [
    {
     "name": "stdout",
     "output_type": "stream",
     "text": [
      "{1, 2, 3, 4} {2, 4, 5}\n"
     ]
    },
    {
     "data": {
      "text/plain": [
       "{1, 2, 3, 4, 5}"
      ]
     },
     "execution_count": 18,
     "metadata": {},
     "output_type": "execute_result"
    }
   ],
   "source": [
    "# A에 B를 추가\n",
    "\n",
    "A = {_ for _ in range(1, 5)}\n",
    "B = {_ for _ in range(2, 6) if _ != 3}\n",
    "print(A, B)\n",
    "A.update(B)\n",
    "A"
   ]
  },
  {
   "cell_type": "code",
   "execution_count": 19,
   "metadata": {},
   "outputs": [],
   "source": [
    "# issubset()\n",
    "# issuperset()\n",
    "# isdisjoint()"
   ]
  },
  {
   "cell_type": "code",
   "execution_count": 13,
   "metadata": {},
   "outputs": [
    {
     "name": "stdout",
     "output_type": "stream",
     "text": [
      "[9, 13, 19, 20, 24, 38]\n",
      "[16, 18, 27, 30, 32, 43]\n",
      "[10, 13, 17, 18, 40, 42]\n",
      "[5, 9, 14, 22, 33, 42]\n",
      "[5, 8, 9, 27, 42, 44]\n"
     ]
    }
   ],
   "source": [
    "# 로또 연습문제\n",
    "\n",
    "import random\n",
    "# 몇번 할지 입력받음\n",
    "n = int(input('로또 번호 몇 개 드릴까요?'))\n",
    "\n",
    "# 로또 n줄 생성\n",
    "for _ in range(n):\n",
    "    lotto_set = set()    # 빈 집합 생성\n",
    "    while(len(lotto_set) < 6):    # 집합의 길이가 6보다 작을때 로또 번호 하나씩 넣어주기\n",
    "        tmp = random.randint(1, 45)\n",
    "        lotto_set.add(tmp)    \n",
    "    lotto_set = list(lotto_set) # 정렬을 위해 리스트로 바꿔주기\n",
    "    lotto_set.sort() # 정렬\n",
    "    print(lotto_set)"
   ]
  },
  {
   "cell_type": "code",
   "execution_count": null,
   "metadata": {},
   "outputs": [],
   "source": [
    "# 로또 연습문제\n",
    "\n",
    "import random\n",
    "# 몇번 할지 입력받음\n",
    "n = int(input('로또 번호 몇 개 드릴까요?'))\n",
    "\n",
    "# 로또 n줄 생성\n",
    "for _ in range(n):\n",
    "    lotto_li = []    # 빈 리스트 생성\n",
    "    \n",
    "    while(len(lotto_li) < 6):    # 리스트의 길이가 6보다 작을때 로또 번호 하나씩 넣어주기\n",
    "        tmp = random.randint(1, 45)\n",
    "        if tmp in lotto_li:    # 중복이 있을 경우 다시 뽑기\n",
    "            continue\n",
    "        else:\n",
    "            lotto_li.append(tmp)    # 중복이 아닐경우 리스트에 추가\n",
    "    lotto_li.sort()\n",
    "    print(lotto_li)"
   ]
  },
  {
   "cell_type": "code",
   "execution_count": 14,
   "metadata": {},
   "outputs": [
    {
     "data": {
      "text/plain": [
       "{1, 2, 3, 4}"
      ]
     },
     "execution_count": 14,
     "metadata": {},
     "output_type": "execute_result"
    }
   ],
   "source": [
    "list_sample = [1, 2, 2, 3, 3, 3, 4, 4, 4, 4]\n",
    "set(list_sample)"
   ]
  },
  {
   "cell_type": "code",
   "execution_count": 16,
   "metadata": {},
   "outputs": [
    {
     "name": "stdout",
     "output_type": "stream",
     "text": [
      "{75, 45, 15, 90, 60, 30}\n"
     ]
    }
   ],
   "source": [
    "set_3 = {_ for _ in range(3, 101, 3)}\n",
    "set_5 = {_ for _ in range(5, 101, 5)}\n",
    "result_set = set_3 & set_5\n",
    "print(result_set)"
   ]
  },
  {
   "cell_type": "code",
   "execution_count": 23,
   "metadata": {},
   "outputs": [
    {
     "name": "stdout",
     "output_type": "stream",
     "text": [
      "개인정보 조회, 구매 관리, 근태 관리, 시스템 관리, 인사 관리, 회계 관리\n"
     ]
    }
   ],
   "source": [
    "role_admin = {\"회계 관리\", \"인사 관리\", \"구매 관리\", \"시스템 관리\"}\n",
    "role_hr = {\"인사 관리\", \"개인정보 조회\", \"회계 관리\", \"근태 관리\"}\n",
    "role_user = {\"개인정보 조회\", \"근태 관리\"}\n",
    "\n",
    "A = set()\n",
    "A.update(role_admin)\n",
    "A.update(role_hr)\n",
    "A.update(role_user)\n",
    "A = list(A)\n",
    "A.sort()\n",
    "for _ in range(len(A)):\n",
    "    if _ == len(A) -1:\n",
    "        print(A[_])\n",
    "    else:\n",
    "        print(A[_], end=', ')"
   ]
  },
  {
   "cell_type": "code",
   "execution_count": 57,
   "metadata": {},
   "outputs": [
    {
     "name": "stdout",
     "output_type": "stream",
     "text": [
      "2부터 입력하신 수까지의 모든 소수를 찾는 프로그램입니다.\n",
      "2 3 5 7 11 13 17\n",
      "19 23 29 31 37 41 43\n",
      "47 53 59 61 67 71 73\n",
      "79 83 89 97 "
     ]
    }
   ],
   "source": [
    "print('2부터 입력하신 수까지의 모든 소수를 찾는 프로그램입니다.')\n",
    "n = int(input(\"찾는 범위를 입력하세요 : \"))\n",
    "count = 1\n",
    "for i in range(2, n + 1):\n",
    "    if i == 2:\n",
    "        print('2', end= ' ')\n",
    "        count += 1\n",
    "        continue\n",
    "    for j in range(2, i):\n",
    "        if i % j == 0:\n",
    "            break\n",
    "    if j == i -1 and count % 7 == 0:\n",
    "        count += 1\n",
    "        print(i)\n",
    "        \n",
    "    elif j == i - 1 and count % 7 != 0:\n",
    "        count += 1\n",
    "        print(i, end=' ')\n",
    "        "
   ]
  },
  {
   "cell_type": "code",
   "execution_count": 61,
   "metadata": {},
   "outputs": [],
   "source": [
    "def function2():\n",
    "    \"\"\"\n",
    "    Docs String입니다\n",
    "    함수 설명\n",
    "    \"\"\"\n",
    "    pass"
   ]
  },
  {
   "cell_type": "code",
   "execution_count": 62,
   "metadata": {},
   "outputs": [
    {
     "data": {
      "text/plain": [
       "'\\n    Docs String입니다\\n    함수 설명\\n    '"
      ]
     },
     "execution_count": 62,
     "metadata": {},
     "output_type": "execute_result"
    }
   ],
   "source": [
    "function2.__doc__"
   ]
  },
  {
   "cell_type": "code",
   "execution_count": 63,
   "metadata": {},
   "outputs": [
    {
     "data": {
      "text/plain": [
       "'Built-in mutable sequence.\\n\\nIf no argument is given, the constructor creates a new empty list.\\nThe argument must be an iterable if specified.'"
      ]
     },
     "execution_count": 63,
     "metadata": {},
     "output_type": "execute_result"
    }
   ],
   "source": [
    "list.__doc__"
   ]
  },
  {
   "cell_type": "code",
   "execution_count": 64,
   "metadata": {},
   "outputs": [],
   "source": [
    "# 함수 정의절\n",
    "def function_name(positional, positional2, *args, keyword1=1, **kargs):\n",
    "    pass"
   ]
  },
  {
   "cell_type": "code",
   "execution_count": 65,
   "metadata": {},
   "outputs": [],
   "source": [
    "def get_grade(score):\n",
    "    \"\"\"\n",
    "    숫자로된 점수를 넣으시면 학점의 결과를 반환합니다.\n",
    "    \"\"\"\n",
    "    if 85 <= score <= 100:\n",
    "        return \"A\"\n",
    "    elif 70 <= score <= 84:\n",
    "        return \"B\"\n",
    "    elif 55 <= score <= 69:\n",
    "        return \"C\"\n",
    "    elif 40 <= score <= 54:\n",
    "        return \"D\"\n",
    "    elif 0 <= score <= 39:\n",
    "        return \"F\""
   ]
  },
  {
   "cell_type": "code",
   "execution_count": 66,
   "metadata": {},
   "outputs": [
    {
     "name": "stdout",
     "output_type": "stream",
     "text": [
      "A\n"
     ]
    }
   ],
   "source": [
    "result = get_grade(100)\n",
    "print(result)"
   ]
  },
  {
   "cell_type": "code",
   "execution_count": 67,
   "metadata": {},
   "outputs": [
    {
     "data": {
      "text/plain": [
       "[91, 97, 46, 15, 69, 30, 32, 50, 92, 37, 99, 81, 12, 30, 96, 5, 15, 45, 18, 19]"
      ]
     },
     "execution_count": 67,
     "metadata": {},
     "output_type": "execute_result"
    }
   ],
   "source": [
    "import random\n",
    "\n",
    "scores = [random.randint(1, 100) for _ in range(20)]\n",
    "scores"
   ]
  },
  {
   "cell_type": "code",
   "execution_count": 69,
   "metadata": {},
   "outputs": [
    {
     "name": "stdout",
     "output_type": "stream",
     "text": [
      "['A', 'A', 'D', 'F', 'C', 'F', 'F', 'D', 'A', 'F', 'A', 'B', 'F', 'F', 'A', 'F', 'F', 'D', 'F', 'F']\n"
     ]
    }
   ],
   "source": [
    "grades = list(map(get_grade, scores))\n",
    "print(grades)"
   ]
  },
  {
   "cell_type": "code",
   "execution_count": 73,
   "metadata": {},
   "outputs": [],
   "source": [
    "def get_grade(score, student_number, name=\"홍길동\"):\n",
    "    \"\"\"\n",
    "    숫자로된 점수를 넣으시면 학점의 결과를 반환합니다.\n",
    "    \"\"\"\n",
    "    print(f\"{student_number}, {name}의 성적을 확인합니다.\")\n",
    "    if 85 <= score <= 100:\n",
    "        return \"A\"\n",
    "    elif 70 <= score <= 84:\n",
    "        return \"B\"\n",
    "    elif 55 <= score <= 69:\n",
    "        return \"C\"\n",
    "    elif 40 <= score <= 54:\n",
    "        return \"D\"\n",
    "    elif 0 <= score <= 39:\n",
    "        return \"F\""
   ]
  },
  {
   "cell_type": "code",
   "execution_count": 75,
   "metadata": {},
   "outputs": [
    {
     "name": "stdout",
     "output_type": "stream",
     "text": [
      "11111111, 김강직의 성적을 확인합니다.\n"
     ]
    },
    {
     "data": {
      "text/plain": [
       "'A'"
      ]
     },
     "execution_count": 75,
     "metadata": {},
     "output_type": "execute_result"
    }
   ],
   "source": [
    "get_grade(100, 11111111, '김강직')"
   ]
  },
  {
   "cell_type": "code",
   "execution_count": null,
   "metadata": {},
   "outputs": [],
   "source": [
    "def add_number(number1, number2):\n",
    "    \"\"\"_숫자 number1과 숫자 number2를 전달받아 더한 결과를 반환한다.\n",
    "\n",
    "    Args:\n",
    "        number1 (_type_): _description_\n",
    "        number2 (_type_): _description_\n",
    "    \"\"\"\n",
    "    return number1 + number2"
   ]
  },
  {
   "cell_type": "code",
   "execution_count": 80,
   "metadata": {},
   "outputs": [],
   "source": [
    "# positional-only: / 문자를 기준으로 왼편에\n",
    "# keyword-only: * 문자를 기준으로 왼편에\n",
    "def multi_number(number1, /, *, number2):\n",
    "    return number1 * number2"
   ]
  },
  {
   "cell_type": "code",
   "execution_count": 77,
   "metadata": {},
   "outputs": [
    {
     "ename": "TypeError",
     "evalue": "multi_number() takes 1 positional argument but 2 were given",
     "output_type": "error",
     "traceback": [
      "\u001b[0;31m---------------------------------------------------------------------------\u001b[0m",
      "\u001b[0;31mTypeError\u001b[0m                                 Traceback (most recent call last)",
      "Cell \u001b[0;32mIn[77], line 1\u001b[0m\n\u001b[0;32m----> 1\u001b[0m multi_number(\u001b[39m3\u001b[39;49m, \u001b[39m10\u001b[39;49m)\n",
      "\u001b[0;31mTypeError\u001b[0m: multi_number() takes 1 positional argument but 2 were given"
     ]
    }
   ],
   "source": [
    "multi_number(3, 10)"
   ]
  },
  {
   "cell_type": "code",
   "execution_count": 78,
   "metadata": {},
   "outputs": [
    {
     "ename": "TypeError",
     "evalue": "multi_number() got some positional-only arguments passed as keyword arguments: 'number1'",
     "output_type": "error",
     "traceback": [
      "\u001b[0;31m---------------------------------------------------------------------------\u001b[0m",
      "\u001b[0;31mTypeError\u001b[0m                                 Traceback (most recent call last)",
      "Cell \u001b[0;32mIn[78], line 1\u001b[0m\n\u001b[0;32m----> 1\u001b[0m multi_number(number1\u001b[39m=\u001b[39;49m\u001b[39m3\u001b[39;49m, number2\u001b[39m=\u001b[39;49m\u001b[39m10\u001b[39;49m)\n",
      "\u001b[0;31mTypeError\u001b[0m: multi_number() got some positional-only arguments passed as keyword arguments: 'number1'"
     ]
    }
   ],
   "source": [
    "multi_number(number1=3, number2=10)"
   ]
  },
  {
   "cell_type": "code",
   "execution_count": 79,
   "metadata": {},
   "outputs": [
    {
     "data": {
      "text/plain": [
       "30"
      ]
     },
     "execution_count": 79,
     "metadata": {},
     "output_type": "execute_result"
    }
   ],
   "source": [
    "multi_number(3, number2=10)"
   ]
  },
  {
   "cell_type": "code",
   "execution_count": 81,
   "metadata": {},
   "outputs": [],
   "source": [
    "def string_line(str_value, /, str_len, *, sep=\"#\"):\n",
    "    \"\"\"_summary_\n",
    "\n",
    "    Args:\n",
    "        str_value (_type_): 가운데 오는 텍스트입니다\n",
    "        str_len (_type_): 텍스트의 설정할 길이입니다.\n",
    "        sep (str, optional): 구분선을 그을때 쓰는 문자입니다. Defaults to \"#\".\n",
    "    \"\"\"\n",
    "    print(str_value.center(str_len, sep))"
   ]
  },
  {
   "cell_type": "code",
   "execution_count": 82,
   "metadata": {},
   "outputs": [
    {
     "name": "stdout",
     "output_type": "stream",
     "text": [
      "************************구분************************\n"
     ]
    }
   ],
   "source": [
    "string_line(\"구분\", 50, sep=\"*\")"
   ]
  },
  {
   "cell_type": "code",
   "execution_count": 83,
   "metadata": {},
   "outputs": [
    {
     "data": {
      "text/plain": [
       "50"
      ]
     },
     "execution_count": 83,
     "metadata": {},
     "output_type": "execute_result"
    }
   ],
   "source": [
    "len('************************구분************************')"
   ]
  },
  {
   "cell_type": "code",
   "execution_count": 84,
   "metadata": {},
   "outputs": [
    {
     "name": "stdout",
     "output_type": "stream",
     "text": [
      "------------------------------------------------절취선-------------------------------------------------\n"
     ]
    }
   ],
   "source": [
    "string_line(\"절취선\", str_len=100, sep=\"-\")"
   ]
  },
  {
   "cell_type": "code",
   "execution_count": 86,
   "metadata": {},
   "outputs": [
    {
     "data": {
      "text/plain": [
       "100"
      ]
     },
     "execution_count": 86,
     "metadata": {},
     "output_type": "execute_result"
    }
   ],
   "source": [
    "len(\"------------------------------------------------절취선-------------------------------------------------\")"
   ]
  },
  {
   "cell_type": "code",
   "execution_count": 89,
   "metadata": {},
   "outputs": [],
   "source": [
    "# *args: var positional 가변 위치\n",
    "def test_func(a, b, c, *args):\n",
    "    print(f\"a: {a} b: {b} c: {c}\")\n",
    "    print(type(args))\n",
    "    print(args)"
   ]
  },
  {
   "cell_type": "code",
   "execution_count": 91,
   "metadata": {},
   "outputs": [
    {
     "name": "stdout",
     "output_type": "stream",
     "text": [
      "a: a 위치입니다 b: b 위치입니다. c: c 위치입니다.\n",
      "<class 'tuple'>\n",
      "('여기는', '어딜까요', '몇개', '더')\n"
     ]
    }
   ],
   "source": [
    "test_func(\"a 위치입니다\", \"b 위치입니다.\", \"c 위치입니다.\", \"여기는\", \"어딜까요\", \"몇개\", \"더\")"
   ]
  },
  {
   "cell_type": "code",
   "execution_count": 93,
   "metadata": {},
   "outputs": [],
   "source": [
    "# **kargs: var keyworld 가변 키워드\n",
    "def test_func2(a=\"a\", b=\"b\", **kargs):\n",
    "    print(a, b)\n",
    "    print(type(kargs))\n",
    "    print(kargs)"
   ]
  },
  {
   "cell_type": "code",
   "execution_count": 94,
   "metadata": {},
   "outputs": [
    {
     "name": "stdout",
     "output_type": "stream",
     "text": [
      "ab bc\n",
      "<class 'dict'>\n",
      "{'key': 'value', 'key2': 'value2'}\n"
     ]
    }
   ],
   "source": [
    "test_func2(a=\"ab\", b=\"bc\", key=\"value\", key2=\"value2\")"
   ]
  },
  {
   "cell_type": "code",
   "execution_count": 96,
   "metadata": {},
   "outputs": [
    {
     "name": "stdout",
     "output_type": "stream",
     "text": [
      "반환 값: 80\n"
     ]
    }
   ],
   "source": [
    "def plus_ten(num):\n",
    "    return num + 10\n",
    "print(f\"반환 값: {plus_ten(70)}\")"
   ]
  },
  {
   "attachments": {},
   "cell_type": "markdown",
   "metadata": {},
   "source": [
    "## 20230113\n",
    "### join()"
   ]
  },
  {
   "cell_type": "code",
   "execution_count": 98,
   "metadata": {},
   "outputs": [
    {
     "name": "stdout",
     "output_type": "stream",
     "text": [
      "list_strs = ['a', 'b', 'c', 'd', 'e', 'f', 'g', 'h', 'i', 'j', 'k', 'l', 'm', 'n', 'o', 'p', 'q', 'r', 's', 't', 'u', 'v', 'w', 'x', 'y', 'z']\n"
     ]
    },
    {
     "data": {
      "text/plain": [
       "'a*b*c*d*e*f*g*h*i*j*k*l*m*n*o*p*q*r*s*t*u*v*w*x*y*z'"
      ]
     },
     "execution_count": 98,
     "metadata": {},
     "output_type": "execute_result"
    }
   ],
   "source": [
    "list_strs = [_ for _ in \"abcdefghijklmnopqrstuvwxyz\"]\n",
    "print(f\"list_strs = {list_strs}\")\n",
    "\n",
    "# str.join(list)\n",
    "# str 요소들로 이뤄진 list를 합쳐 하나의 문자열로 만듭니다.\n",
    "\n",
    "whole_str = \"*\".join(list_strs)\n",
    "whole_str"
   ]
  },
  {
   "cell_type": "code",
   "execution_count": 117,
   "metadata": {},
   "outputs": [
    {
     "name": "stdout",
     "output_type": "stream",
     "text": [
      "그보다 큽니다.\n",
      "그보다 작습니다.\n",
      "그보다 작습니다.\n",
      "그보다 작습니다.\n",
      "그보다 작습니다.\n",
      "그보다 큽니다.\n",
      "맞췄습니다!\n",
      "7번 만에 맞추셨습니다.\n",
      "입력한 숫자는 다음과 같습니다. 50, 75, 65, 65, 63, 60, 62\n"
     ]
    }
   ],
   "source": [
    "# 1부터 100까지 범위의 업다운 게임\n",
    "import random\n",
    "\n",
    "target = random.randint(1, 100)\n",
    "count = 0\n",
    "res = []\n",
    "\n",
    "while(True):\n",
    "    n = input(\"숫자를 입력하세요 : \")\n",
    "    count += 1\n",
    "    res.append(n)\n",
    "    n = int(n)    # join연산은 str타입이어야 해서 res 리스트에 str타입으로 추가한 후 int 형변환\n",
    "    if n == target:\n",
    "        print('맞췄습니다!')\n",
    "        break\n",
    "    if n < 1 or n > 100:\n",
    "        print('1~100 사이의 숫자를 입력하세요')\n",
    "        continue\n",
    "    if n < target:\n",
    "        print(\"그보다 큽니다.\")\n",
    "    if n > target:\n",
    "        print(\"그보다 작습니다.\")\n",
    "\n",
    "print(f'{count}번 만에 맞추셨습니다.')\n",
    "print(f\"입력한 숫자는 다음과 같습니다. {', '.join(res)}\")"
   ]
  },
  {
   "cell_type": "code",
   "execution_count": 118,
   "metadata": {},
   "outputs": [
    {
     "name": "stdout",
     "output_type": "stream",
     "text": [
      "반환 값: 21.11111111111111\n"
     ]
    }
   ],
   "source": [
    "def to_celsius(fahrenheit):\n",
    "    return (fahrenheit - 32) * 5 / 9\n",
    "\n",
    "print(f'반환 값: {to_celsius(70)}')"
   ]
  },
  {
   "cell_type": "code",
   "execution_count": 133,
   "metadata": {},
   "outputs": [],
   "source": [
    "def odd_even(num):\n",
    "    \"\"\"\n",
    "    number가 짝수면 \"짝수\", 홀수면 \"홀수\" 반환\n",
    "    \"\"\"\n",
    "    if type(num) != int or num < 1:\n",
    "        return\n",
    "    if num % 2 == 0:\n",
    "        return \"짝수\"\n",
    "    else: \n",
    "        return \"홀수\""
   ]
  },
  {
   "cell_type": "code",
   "execution_count": 134,
   "metadata": {},
   "outputs": [
    {
     "name": "stdout",
     "output_type": "stream",
     "text": [
      "\n",
      "    number가 짝수면 \"짝수\", 홀수면 \"홀수\" 반환\n",
      "    \n",
      "짝수\n",
      "홀수\n",
      "None\n",
      "None\n"
     ]
    }
   ],
   "source": [
    "print(odd_even.__doc__)\n",
    "print(odd_even(10))\n",
    "print(odd_even(9))\n",
    "print(odd_even(0))\n",
    "print(odd_even(\"가\"))"
   ]
  },
  {
   "cell_type": "code",
   "execution_count": 136,
   "metadata": {},
   "outputs": [],
   "source": [
    "def check_leap_year(year):\n",
    "    if year % 4 != 0:\n",
    "        return \"평년\"\n",
    "    elif year % 100 == 0 and year % 400 != 0:\n",
    "        return \"평년\"\n",
    "    else:\n",
    "        return \"윤년\""
   ]
  },
  {
   "cell_type": "code",
   "execution_count": 142,
   "metadata": {},
   "outputs": [],
   "source": [
    "def days(num):\n",
    "    li_31 = [1, 3, 5, 7, 8, 10, 12]\n",
    "    li_30 = [4, 6, 9, 11]\n",
    "    if num == 2:\n",
    "        return 28\n",
    "    if num in li_30:\n",
    "        return 30\n",
    "    elif num in li_31:\n",
    "        return 31"
   ]
  },
  {
   "cell_type": "code",
   "execution_count": 147,
   "metadata": {},
   "outputs": [],
   "source": [
    "def day(year, num):\n",
    "    li_31 = [1, 3, 5, 7, 8, 10, 12]\n",
    "    li_30 = [4, 6, 9, 11]\n",
    "    if num == 2:\n",
    "        if year % 4 != 0:\n",
    "            return 28\n",
    "        elif year % 100 == 0 and year % 400 != 0:\n",
    "            return 28\n",
    "        else:\n",
    "            return 29\n",
    "    if num in li_30:\n",
    "        return 30\n",
    "    elif num in li_31:\n",
    "        return 31"
   ]
  },
  {
   "cell_type": "code",
   "execution_count": 152,
   "metadata": {},
   "outputs": [
    {
     "name": "stdout",
     "output_type": "stream",
     "text": [
      "몫: 3, 나머지: 1\n"
     ]
    }
   ],
   "source": [
    "def get_quoitent_remainder(x, y):\n",
    "    return x // y, x % y\n",
    "\n",
    "x = 10\n",
    "y = 3\n",
    "\n",
    "quitient, remainder = get_quoitent_remainder(x, y)\n",
    "print(f'몫: {quitient}, 나머지: {remainder}')"
   ]
  },
  {
   "attachments": {},
   "cell_type": "markdown",
   "metadata": {},
   "source": [
    "lambda [parameters] : expression"
   ]
  },
  {
   "cell_type": "code",
   "execution_count": 154,
   "metadata": {},
   "outputs": [
    {
     "data": {
      "text/plain": [
       "20"
      ]
     },
     "execution_count": 154,
     "metadata": {},
     "output_type": "execute_result"
    }
   ],
   "source": [
    "(lambda x: x + 10)(10)"
   ]
  },
  {
   "cell_type": "code",
   "execution_count": 155,
   "metadata": {},
   "outputs": [
    {
     "data": {
      "text/plain": [
       "20"
      ]
     },
     "execution_count": 155,
     "metadata": {},
     "output_type": "execute_result"
    }
   ],
   "source": [
    "twice = lambda x: x * 2\n",
    "twice(10)"
   ]
  },
  {
   "attachments": {},
   "cell_type": "markdown",
   "metadata": {},
   "source": [
    "True일때 값 if 조건식 else False일때 값"
   ]
  },
  {
   "cell_type": "code",
   "execution_count": 156,
   "metadata": {},
   "outputs": [
    {
     "data": {
      "text/plain": [
       "'B'"
      ]
     },
     "execution_count": 156,
     "metadata": {},
     "output_type": "execute_result"
    }
   ],
   "source": [
    "score = 90\n",
    "'A' if 90<score<=100 else 'B' if 80<score else 'C'"
   ]
  },
  {
   "cell_type": "code",
   "execution_count": 157,
   "metadata": {},
   "outputs": [
    {
     "name": "stdout",
     "output_type": "stream",
     "text": [
      "[2, 8, 18, 32, 50]\n"
     ]
    }
   ],
   "source": [
    "a = [_ for _ in range(1, 6)]\n",
    "b = [_ for _ in range(2, 11, 2)]\n",
    "print(list(map(lambda x, y: x * y, a, b)))"
   ]
  },
  {
   "cell_type": "code",
   "execution_count": 158,
   "metadata": {},
   "outputs": [
    {
     "name": "stdout",
     "output_type": "stream",
     "text": [
      "100\n"
     ]
    }
   ],
   "source": [
    "print((lambda x : x ** 2)(10))"
   ]
  },
  {
   "cell_type": "code",
   "execution_count": 159,
   "metadata": {},
   "outputs": [
    {
     "data": {
      "text/plain": [
       "[3, 9, 9]"
      ]
     },
     "execution_count": 159,
     "metadata": {},
     "output_type": "execute_result"
    }
   ],
   "source": [
    "# 속도와 가독성 모두 리스트 컴프리헨션이 더 낫다\n",
    "a = [3, 2, 8, 22, 10, 7, 0, 11, 9, 9]\n",
    "list(filter(lambda x: x % 3 == 0 and 0 < x < 10, a))"
   ]
  },
  {
   "cell_type": "code",
   "execution_count": 166,
   "metadata": {},
   "outputs": [],
   "source": [
    "class Student():\n",
    "    def __init__(self):\n",
    "        self.hello = \"안녕하세요\""
   ]
  },
  {
   "cell_type": "code",
   "execution_count": 164,
   "metadata": {},
   "outputs": [],
   "source": [
    "Student() # 독립적인 값을 보장하는 인스턴스로 생성됩니다."
   ]
  },
  {
   "cell_type": "code",
   "execution_count": 167,
   "metadata": {},
   "outputs": [],
   "source": [
    "class Person():\n",
    "    def __init__(self):\n",
    "        self.hello = \"안녕하세요\""
   ]
  },
  {
   "cell_type": "code",
   "execution_count": 168,
   "metadata": {},
   "outputs": [],
   "source": [
    "james = Person()"
   ]
  },
  {
   "cell_type": "code",
   "execution_count": 169,
   "metadata": {},
   "outputs": [
    {
     "data": {
      "text/plain": [
       "'안녕하세요'"
      ]
     },
     "execution_count": 169,
     "metadata": {},
     "output_type": "execute_result"
    }
   ],
   "source": [
    "james.hello"
   ]
  },
  {
   "cell_type": "code",
   "execution_count": 170,
   "metadata": {},
   "outputs": [],
   "source": [
    "bebe = Person()"
   ]
  },
  {
   "cell_type": "code",
   "execution_count": 171,
   "metadata": {},
   "outputs": [
    {
     "data": {
      "text/plain": [
       "'안녕하세요'"
      ]
     },
     "execution_count": 171,
     "metadata": {},
     "output_type": "execute_result"
    }
   ],
   "source": [
    "bebe.hello"
   ]
  },
  {
   "cell_type": "code",
   "execution_count": 172,
   "metadata": {},
   "outputs": [],
   "source": [
    "class Person():\n",
    "    def __init__(self):\n",
    "        self.hello = \"안녕하세요\"\n",
    "    \n",
    "    def greeting(self):\n",
    "        print(self.hello)"
   ]
  },
  {
   "cell_type": "code",
   "execution_count": 174,
   "metadata": {},
   "outputs": [
    {
     "name": "stdout",
     "output_type": "stream",
     "text": [
      "안녕하세요\n"
     ]
    }
   ],
   "source": [
    "james = Person()\n",
    "james.greeting()"
   ]
  },
  {
   "cell_type": "code",
   "execution_count": null,
   "metadata": {},
   "outputs": [],
   "source": []
  }
 ],
 "metadata": {
  "kernelspec": {
   "display_name": "Python 3",
   "language": "python",
   "name": "python3"
  },
  "language_info": {
   "codemirror_mode": {
    "name": "ipython",
    "version": 3
   },
   "file_extension": ".py",
   "mimetype": "text/x-python",
   "name": "python",
   "nbconvert_exporter": "python",
   "pygments_lexer": "ipython3",
   "version": "3.11.0"
  },
  "orig_nbformat": 4,
  "vscode": {
   "interpreter": {
    "hash": "1a1af0ee75eeea9e2e1ee996c87e7a2b11a0bebd85af04bb136d915cefc0abce"
   }
  }
 },
 "nbformat": 4,
 "nbformat_minor": 2
}
