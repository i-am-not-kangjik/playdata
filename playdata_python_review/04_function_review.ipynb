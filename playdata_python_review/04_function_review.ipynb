{
 "cells": [
  {
   "attachments": {},
   "cell_type": "markdown",
   "metadata": {},
   "source": [
    "# 함수\n",
    "함수는 독립적으로 설게된 프로그램 코드의 집합이다.   \n",
    "함수를 사용하면 반복적인 코드의 양을 줄여 유지보수성을 높여준다."
   ]
  },
  {
   "attachments": {},
   "cell_type": "markdown",
   "metadata": {},
   "source": [
    "### 함수와 메소드의 차이\n",
    "- 함수는 클래스에 포함되지 않은 채로 사용된다.   \n",
    "함수명((인수1), (인수2), ...)   \n",
    "- 메소드는 클래스에 포함되어 객체를 통해 호출된다.   \n",
    "객체.메소드명((인수1), (인수2), ...)"
   ]
  },
  {
   "attachments": {},
   "cell_type": "markdown",
   "metadata": {},
   "source": [
    "### 함수의 정의   \n",
    "함수는 미리 정의해둔 정의절을 실행해야 호출이 가능하다.   \n",
    "함수의 정의는 아래와 같은 형태로 작성할 수 있다."
   ]
  },
  {
   "cell_type": "code",
   "execution_count": 2,
   "metadata": {},
   "outputs": [],
   "source": [
    "\n",
    "# def 함수_이름(위치_인자, 위치_인자2, *가변_위치, 키워드_인자, 키워드_인자2, **가변_키워드):"
   ]
  },
  {
   "attachments": {},
   "cell_type": "markdown",
   "metadata": {},
   "source": [
    "### 인자(parameter)\n",
    "함수(메소드에서도) 정의에서 함수가 받을 수 있는 변수이다.   \n",
    "함수 인자 혹은 매개변수라고 부른다.   \n",
    "아래와 같이 5가지 종류가 있다.   \n",
    "- 위치-키워드(positional or keyword): 위치로 혹은 키워드로 전달될 수 있는 인자를 말한다.   \n",
    "매개변수의 기본 형태이다.   \n",
    "- 위치 전용(positional-only): / 문자를 기준으로 좌측에 위치한 인자를 말한다.   \n",
    "- 키워드 전용(keyword-only): * 문자를 기준으로 우측에 위치한 인자를 말한다.   \n",
    "- 가변 위치(var positional): 위치 매개변수 외에 추가적인 위치 매개변수를 개수에 상관없이 받을 수 있다.   \n",
    "변수명 앞에 *를 하나 붙여 표기한다.   \n",
    "- 가변 키워드(var keyword): 키워드 매개변수 외에 추가적인 키워드 매개변수를 개수에 상관없이 받을 수 있다.   \n",
    "변수명 앞에 **를 두개 붙여 표기한다."
   ]
  },
  {
   "attachments": {},
   "cell_type": "markdown",
   "metadata": {},
   "source": [
    "### Arguments와 Parameter의 차이?\n",
    "- Parameters는 함수 정의절에서 사용하는 이름이다.   \n",
    "- Arguments는 함수 호출할 때 함수에 전달하는 실제 값이다.   \n",
    "Parameter는 어떤 종류의 Argument를 받을지 정의한다."
   ]
  },
  {
   "attachments": {},
   "cell_type": "markdown",
   "metadata": {},
   "source": [
    "### 위치-키워드 인자(positional or keyword parameters)\n",
    "위치 인수 또는 키워드 인수를 받을 수 있는 인자를 위치-키워드 인자라고 한다.   \n",
    "아래의 예제에서 위치-키워드 인자가 위치 인수를 전달 받아 처리하고 있다.\n"
   ]
  },
  {
   "cell_type": "code",
   "execution_count": 3,
   "metadata": {},
   "outputs": [
    {
     "name": "stdout",
     "output_type": "stream",
     "text": [
      "파이썬씨 안녕하세요. 약 11688.0일 되었습니다.\n"
     ]
    }
   ],
   "source": [
    "def greeting(name, age):\n",
    "    print(f\"{name}씨 안녕하세요. 약 {age * 365.25}일 되었습니다.\")\n",
    "    \n",
    "greeting(\"파이썬\", 32)"
   ]
  },
  {
   "attachments": {},
   "cell_type": "markdown",
   "metadata": {},
   "source": [
    "기본 값이 없는 위치-키워드 인자는 인수 전달이 필수이다.   \n",
    "인수 없이 함수를 호출하면 TypeError가 발생한다."
   ]
  },
  {
   "cell_type": "code",
   "execution_count": 4,
   "metadata": {},
   "outputs": [
    {
     "ename": "TypeError",
     "evalue": "greeting() missing 2 required positional arguments: 'name' and 'age'",
     "output_type": "error",
     "traceback": [
      "\u001b[0;31m---------------------------------------------------------------------------\u001b[0m",
      "\u001b[0;31mTypeError\u001b[0m                                 Traceback (most recent call last)",
      "Cell \u001b[0;32mIn[4], line 1\u001b[0m\n\u001b[0;32m----> 1\u001b[0m greeting()\n",
      "\u001b[0;31mTypeError\u001b[0m: greeting() missing 2 required positional arguments: 'name' and 'age'"
     ]
    }
   ],
   "source": [
    "greeting()"
   ]
  },
  {
   "attachments": {},
   "cell_type": "markdown",
   "metadata": {},
   "source": [
    "기본 값이 없는 인수에 위치 인수를 순서와 관계없이 값을 전달하면?   \n",
    "타입에 민감하게 동작하는 함수라면 에러 발생"
   ]
  },
  {
   "cell_type": "code",
   "execution_count": 5,
   "metadata": {},
   "outputs": [
    {
     "ename": "TypeError",
     "evalue": "can't multiply sequence by non-int of type 'float'",
     "output_type": "error",
     "traceback": [
      "\u001b[0;31m---------------------------------------------------------------------------\u001b[0m",
      "\u001b[0;31mTypeError\u001b[0m                                 Traceback (most recent call last)",
      "Cell \u001b[0;32mIn[5], line 1\u001b[0m\n\u001b[0;32m----> 1\u001b[0m greeting(\u001b[39m32\u001b[39;49m, \u001b[39m\"\u001b[39;49m\u001b[39m파이썬\u001b[39;49m\u001b[39m\"\u001b[39;49m)\n",
      "Cell \u001b[0;32mIn[3], line 2\u001b[0m, in \u001b[0;36mgreeting\u001b[0;34m(name, age)\u001b[0m\n\u001b[1;32m      1\u001b[0m \u001b[39mdef\u001b[39;00m \u001b[39mgreeting\u001b[39m(name, age):\n\u001b[0;32m----> 2\u001b[0m     \u001b[39mprint\u001b[39m(\u001b[39mf\u001b[39m\u001b[39m\"\u001b[39m\u001b[39m{\u001b[39;00mname\u001b[39m}\u001b[39;00m\u001b[39m씨 안녕하세요. 약 \u001b[39m\u001b[39m{\u001b[39;00mage\u001b[39m \u001b[39m\u001b[39m*\u001b[39m\u001b[39m \u001b[39m\u001b[39m365.25\u001b[39m\u001b[39m}\u001b[39;00m\u001b[39m일 되었습니다.\u001b[39m\u001b[39m\"\u001b[39m)\n",
      "\u001b[0;31mTypeError\u001b[0m: can't multiply sequence by non-int of type 'float'"
     ]
    }
   ],
   "source": [
    "greeting(32, \"파이썬\")"
   ]
  },
  {
   "attachments": {},
   "cell_type": "markdown",
   "metadata": {},
   "source": [
    "키워드 인수만으로 호출한다면 순서는 상관 없다."
   ]
  },
  {
   "cell_type": "code",
   "execution_count": 6,
   "metadata": {},
   "outputs": [
    {
     "name": "stdout",
     "output_type": "stream",
     "text": [
      "파이썬씨 안녕하세요. 약 11688.0일 되었습니다.\n"
     ]
    }
   ],
   "source": [
    "greeting(age=32, name=\"파이썬\")"
   ]
  },
  {
   "attachments": {},
   "cell_type": "markdown",
   "metadata": {},
   "source": [
    "함수를 호출할 때 위치 인수를 먼저 작성하고 키워드 인수를 나중에 작성한다.   \n",
    "위치 인수는 순서에 영향을 받지만 키워드 인수는 순서에 상관없이 작성 가능하다."
   ]
  },
  {
   "cell_type": "code",
   "execution_count": 7,
   "metadata": {},
   "outputs": [
    {
     "ename": "SyntaxError",
     "evalue": "positional argument follows keyword argument (937194150.py, line 1)",
     "output_type": "error",
     "traceback": [
      "\u001b[0;36m  Cell \u001b[0;32mIn[7], line 1\u001b[0;36m\u001b[0m\n\u001b[0;31m    greeting(name=\"파이썬\", 32)\u001b[0m\n\u001b[0m                           ^\u001b[0m\n\u001b[0;31mSyntaxError\u001b[0m\u001b[0;31m:\u001b[0m positional argument follows keyword argument\n"
     ]
    }
   ],
   "source": [
    "greeting(name=\"파이썬\", 32)"
   ]
  },
  {
   "attachments": {},
   "cell_type": "markdown",
   "metadata": {},
   "source": [
    "기본 값을 갖는 default parameter는 기본 값을 갖지 않는 non-default parameter보다 뒤에 작성해야한다."
   ]
  },
  {
   "cell_type": "code",
   "execution_count": 8,
   "metadata": {},
   "outputs": [
    {
     "ename": "SyntaxError",
     "evalue": "non-default argument follows default argument (3798585087.py, line 1)",
     "output_type": "error",
     "traceback": [
      "\u001b[0;36m  Cell \u001b[0;32mIn[8], line 1\u001b[0;36m\u001b[0m\n\u001b[0;31m    def greeting(name=\"default\", age):\u001b[0m\n\u001b[0m                                    ^\u001b[0m\n\u001b[0;31mSyntaxError\u001b[0m\u001b[0;31m:\u001b[0m non-default argument follows default argument\n"
     ]
    }
   ],
   "source": [
    "def greeting(name=\"default\", age):\n",
    "    print(f\"{name}씨 안녕하세요. 약 {age * 365.25}일 되었습니다.\")"
   ]
  },
  {
   "attachments": {},
   "cell_type": "markdown",
   "metadata": {},
   "source": [
    "### 위치 전용 인자\n",
    "위치 전용 인자는 오직 위치 인수만 값의 전달이 가능하다.   \n",
    "위치 전용 인자를 선언하는 방법은 / 를 인자값으로 넣고 좌측 부분에 위치 전용 인자를 선언"
   ]
  },
  {
   "cell_type": "code",
   "execution_count": 9,
   "metadata": {},
   "outputs": [
    {
     "name": "stdout",
     "output_type": "stream",
     "text": [
      "값만 입력해야 한다.\n"
     ]
    }
   ],
   "source": [
    "def posonly(posonly, /):\n",
    "    print(posonly)\n",
    "    \n",
    "posonly(\"값만 입력해야 한다.\")"
   ]
  },
  {
   "attachments": {},
   "cell_type": "markdown",
   "metadata": {},
   "source": [
    "위치 전용 인자에 키워드 인수를 전달하면 TypeError 오류 발생"
   ]
  },
  {
   "cell_type": "code",
   "execution_count": 10,
   "metadata": {},
   "outputs": [
    {
     "ename": "TypeError",
     "evalue": "posonly() got some positional-only arguments passed as keyword arguments: 'posonly'",
     "output_type": "error",
     "traceback": [
      "\u001b[0;31m---------------------------------------------------------------------------\u001b[0m",
      "\u001b[0;31mTypeError\u001b[0m                                 Traceback (most recent call last)",
      "Cell \u001b[0;32mIn[10], line 1\u001b[0m\n\u001b[0;32m----> 1\u001b[0m posonly(posonly\u001b[39m=\u001b[39;49m\u001b[39m\"\u001b[39;49m\u001b[39m키워드 인수로 전달하면 에러\u001b[39;49m\u001b[39m\"\u001b[39;49m)\n",
      "\u001b[0;31mTypeError\u001b[0m: posonly() got some positional-only arguments passed as keyword arguments: 'posonly'"
     ]
    }
   ],
   "source": [
    "posonly(posonly=\"키워드 인수로 전달하면 에러\")"
   ]
  },
  {
   "cell_type": "code",
   "execution_count": null,
   "metadata": {},
   "outputs": [],
   "source": []
  }
 ],
 "metadata": {
  "kernelspec": {
   "display_name": "Python 3",
   "language": "python",
   "name": "python3"
  },
  "language_info": {
   "codemirror_mode": {
    "name": "ipython",
    "version": 3
   },
   "file_extension": ".py",
   "mimetype": "text/x-python",
   "name": "python",
   "nbconvert_exporter": "python",
   "pygments_lexer": "ipython3",
   "version": "3.9.6"
  },
  "orig_nbformat": 4,
  "vscode": {
   "interpreter": {
    "hash": "31f2aee4e71d21fbe5cf8b01ff0e069b9275f58929596ceb00d14d90e3e16cd6"
   }
  }
 },
 "nbformat": 4,
 "nbformat_minor": 2
}
