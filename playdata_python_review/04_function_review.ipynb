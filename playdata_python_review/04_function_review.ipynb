{
 "cells": [
  {
   "attachments": {},
   "cell_type": "markdown",
   "metadata": {},
   "source": [
    "# 함수\n",
    "함수는 독립적으로 설게된 프로그램 코드의 집합이다.   \n",
    "함수를 사용하면 반복적인 코드의 양을 줄여 유지보수성을 높여준다."
   ]
  },
  {
   "attachments": {},
   "cell_type": "markdown",
   "metadata": {},
   "source": [
    "### 함수와 메소드의 차이\n",
    "- 함수는 클래스에 포함되지 않은 채로 사용된다.   \n",
    "함수명((인수1), (인수2), ...)   \n",
    "- 메소드는 클래스에 포함되어 객체를 통해 호출된다.   \n",
    "객체.메소드명((인수1), (인수2), ...)"
   ]
  },
  {
   "attachments": {},
   "cell_type": "markdown",
   "metadata": {},
   "source": [
    "### 함수의 정의   \n",
    "함수는 미리 정의해둔 정의절을 실행해야 호출이 가능하다.   \n",
    "함수의 정의는 아래와 같은 형태로 작성할 수 있다."
   ]
  },
  {
   "cell_type": "code",
   "execution_count": 2,
   "metadata": {},
   "outputs": [],
   "source": [
    "\n",
    "# def 함수_이름(위치_인자, 위치_인자2, *가변_위치, 키워드_인자, 키워드_인자2, **가변_키워드):"
   ]
  },
  {
   "attachments": {},
   "cell_type": "markdown",
   "metadata": {},
   "source": [
    "### 인자(parameter)\n",
    "함수(메소드에서도) 정의에서 함수가 받을 수 있는 변수이다.   \n",
    "함수 인자 혹은 매개변수라고 부른다.   \n",
    "아래와 같이 5가지 종류가 있다.   \n",
    "- 위치-키워드(positional or keyword): 위치로 혹은 키워드로 전달될 수 있는 인자를 말한다.   \n",
    "매개변수의 기본 형태이다.   \n",
    "- 위치 전용(positional-only): / 문자를 기준으로 좌측에 위치한 인자를 말한다.   \n",
    "- 키워드 전용(keyword-only): * 문자를 기준으로 우측에 위치한 인자를 말한다.   \n",
    "- 가변 위치(var positional): 위치 매개변수 외에 추가적인 위치 매개변수를 개수에 상관없이 받을 수 있다.   \n",
    "변수명 앞에 *를 하나 붙여 표기한다.   \n",
    "- 가변 키워드(var keyword): 키워드 매개변수 외에 추가적인 키워드 매개변수를 개수에 상관없이 받을 수 있다.   \n",
    "변수명 앞에 **를 두개 붙여 표기한다."
   ]
  },
  {
   "attachments": {},
   "cell_type": "markdown",
   "metadata": {},
   "source": [
    "### Arguments와 Parameter의 차이?\n",
    "- Parameters는 함수 정의절에서 사용하는 이름이다.   \n",
    "- Arguments는 함수 호출할 때 함수에 전달하는 실제 값이다.   \n",
    "Parameter는 어떤 종류의 Argument를 받을지 정의한다."
   ]
  },
  {
   "attachments": {},
   "cell_type": "markdown",
   "metadata": {},
   "source": [
    "### 위치-키워드 인자(positional or keyword parameters)\n",
    "위치 인수 또는 키워드 인수를 받을 수 있는 인자를 위치-키워드 인자라고 한다.   \n",
    "아래의 예제에서 위치-키워드 인자가 위치 인수를 전달 받아 처리하고 있다.\n"
   ]
  },
  {
   "cell_type": "code",
   "execution_count": 3,
   "metadata": {},
   "outputs": [
    {
     "name": "stdout",
     "output_type": "stream",
     "text": [
      "파이썬씨 안녕하세요. 약 11688.0일 되었습니다.\n"
     ]
    }
   ],
   "source": [
    "def greeting(name, age):\n",
    "    print(f\"{name}씨 안녕하세요. 약 {age * 365.25}일 되었습니다.\")\n",
    "    \n",
    "greeting(\"파이썬\", 32)"
   ]
  },
  {
   "attachments": {},
   "cell_type": "markdown",
   "metadata": {},
   "source": [
    "기본 값이 없는 위치-키워드 인자는 인수 전달이 필수이다.   \n",
    "인수 없이 함수를 호출하면 TypeError가 발생한다."
   ]
  },
  {
   "cell_type": "code",
   "execution_count": 4,
   "metadata": {},
   "outputs": [
    {
     "ename": "TypeError",
     "evalue": "greeting() missing 2 required positional arguments: 'name' and 'age'",
     "output_type": "error",
     "traceback": [
      "\u001b[0;31m---------------------------------------------------------------------------\u001b[0m",
      "\u001b[0;31mTypeError\u001b[0m                                 Traceback (most recent call last)",
      "Cell \u001b[0;32mIn[4], line 1\u001b[0m\n\u001b[0;32m----> 1\u001b[0m greeting()\n",
      "\u001b[0;31mTypeError\u001b[0m: greeting() missing 2 required positional arguments: 'name' and 'age'"
     ]
    }
   ],
   "source": [
    "greeting()"
   ]
  },
  {
   "attachments": {},
   "cell_type": "markdown",
   "metadata": {},
   "source": [
    "기본 값이 없는 인수에 위치 인수를 순서와 관계없이 값을 전달하면?   \n",
    "타입에 민감하게 동작하는 함수라면 에러 발생"
   ]
  },
  {
   "cell_type": "code",
   "execution_count": 5,
   "metadata": {},
   "outputs": [
    {
     "ename": "TypeError",
     "evalue": "can't multiply sequence by non-int of type 'float'",
     "output_type": "error",
     "traceback": [
      "\u001b[0;31m---------------------------------------------------------------------------\u001b[0m",
      "\u001b[0;31mTypeError\u001b[0m                                 Traceback (most recent call last)",
      "Cell \u001b[0;32mIn[5], line 1\u001b[0m\n\u001b[0;32m----> 1\u001b[0m greeting(\u001b[39m32\u001b[39;49m, \u001b[39m\"\u001b[39;49m\u001b[39m파이썬\u001b[39;49m\u001b[39m\"\u001b[39;49m)\n",
      "Cell \u001b[0;32mIn[3], line 2\u001b[0m, in \u001b[0;36mgreeting\u001b[0;34m(name, age)\u001b[0m\n\u001b[1;32m      1\u001b[0m \u001b[39mdef\u001b[39;00m \u001b[39mgreeting\u001b[39m(name, age):\n\u001b[0;32m----> 2\u001b[0m     \u001b[39mprint\u001b[39m(\u001b[39mf\u001b[39m\u001b[39m\"\u001b[39m\u001b[39m{\u001b[39;00mname\u001b[39m}\u001b[39;00m\u001b[39m씨 안녕하세요. 약 \u001b[39m\u001b[39m{\u001b[39;00mage\u001b[39m \u001b[39m\u001b[39m*\u001b[39m\u001b[39m \u001b[39m\u001b[39m365.25\u001b[39m\u001b[39m}\u001b[39;00m\u001b[39m일 되었습니다.\u001b[39m\u001b[39m\"\u001b[39m)\n",
      "\u001b[0;31mTypeError\u001b[0m: can't multiply sequence by non-int of type 'float'"
     ]
    }
   ],
   "source": [
    "greeting(32, \"파이썬\")"
   ]
  },
  {
   "attachments": {},
   "cell_type": "markdown",
   "metadata": {},
   "source": [
    "키워드 인수만으로 호출한다면 순서는 상관 없다."
   ]
  },
  {
   "cell_type": "code",
   "execution_count": 6,
   "metadata": {},
   "outputs": [
    {
     "name": "stdout",
     "output_type": "stream",
     "text": [
      "파이썬씨 안녕하세요. 약 11688.0일 되었습니다.\n"
     ]
    }
   ],
   "source": [
    "greeting(age=32, name=\"파이썬\")"
   ]
  },
  {
   "attachments": {},
   "cell_type": "markdown",
   "metadata": {},
   "source": [
    "함수를 호출할 때 위치 인수를 먼저 작성하고 키워드 인수를 나중에 작성한다.   \n",
    "위치 인수는 순서에 영향을 받지만 키워드 인수는 순서에 상관없이 작성 가능하다."
   ]
  },
  {
   "cell_type": "code",
   "execution_count": 7,
   "metadata": {},
   "outputs": [
    {
     "ename": "SyntaxError",
     "evalue": "positional argument follows keyword argument (937194150.py, line 1)",
     "output_type": "error",
     "traceback": [
      "\u001b[0;36m  Cell \u001b[0;32mIn[7], line 1\u001b[0;36m\u001b[0m\n\u001b[0;31m    greeting(name=\"파이썬\", 32)\u001b[0m\n\u001b[0m                           ^\u001b[0m\n\u001b[0;31mSyntaxError\u001b[0m\u001b[0;31m:\u001b[0m positional argument follows keyword argument\n"
     ]
    }
   ],
   "source": [
    "greeting(name=\"파이썬\", 32)"
   ]
  },
  {
   "attachments": {},
   "cell_type": "markdown",
   "metadata": {},
   "source": [
    "기본 값을 갖는 default parameter는 기본 값을 갖지 않는 non-default parameter보다 뒤에 작성해야한다."
   ]
  },
  {
   "cell_type": "code",
   "execution_count": 8,
   "metadata": {},
   "outputs": [
    {
     "ename": "SyntaxError",
     "evalue": "non-default argument follows default argument (3798585087.py, line 1)",
     "output_type": "error",
     "traceback": [
      "\u001b[0;36m  Cell \u001b[0;32mIn[8], line 1\u001b[0;36m\u001b[0m\n\u001b[0;31m    def greeting(name=\"default\", age):\u001b[0m\n\u001b[0m                                    ^\u001b[0m\n\u001b[0;31mSyntaxError\u001b[0m\u001b[0;31m:\u001b[0m non-default argument follows default argument\n"
     ]
    }
   ],
   "source": [
    "def greeting(name=\"default\", age):\n",
    "    print(f\"{name}씨 안녕하세요. 약 {age * 365.25}일 되었습니다.\")"
   ]
  },
  {
   "attachments": {},
   "cell_type": "markdown",
   "metadata": {},
   "source": [
    "### 위치 전용 인자\n",
    "위치 전용 인자는 오직 위치 인수만 값의 전달이 가능하다.   \n",
    "위치 전용 인자를 선언하는 방법은 / 를 인자값으로 넣고 좌측 부분에 위치 전용 인자를 선언"
   ]
  },
  {
   "cell_type": "code",
   "execution_count": 9,
   "metadata": {},
   "outputs": [
    {
     "name": "stdout",
     "output_type": "stream",
     "text": [
      "값만 입력해야 한다.\n"
     ]
    }
   ],
   "source": [
    "def posonly(posonly, /):\n",
    "    print(posonly)\n",
    "    \n",
    "posonly(\"값만 입력해야 한다.\")"
   ]
  },
  {
   "attachments": {},
   "cell_type": "markdown",
   "metadata": {},
   "source": [
    "위치 전용 인자에 키워드 인수를 전달하면 TypeError 오류 발생"
   ]
  },
  {
   "cell_type": "code",
   "execution_count": 10,
   "metadata": {},
   "outputs": [
    {
     "ename": "TypeError",
     "evalue": "posonly() got some positional-only arguments passed as keyword arguments: 'posonly'",
     "output_type": "error",
     "traceback": [
      "\u001b[0;31m---------------------------------------------------------------------------\u001b[0m",
      "\u001b[0;31mTypeError\u001b[0m                                 Traceback (most recent call last)",
      "Cell \u001b[0;32mIn[10], line 1\u001b[0m\n\u001b[0;32m----> 1\u001b[0m posonly(posonly\u001b[39m=\u001b[39;49m\u001b[39m\"\u001b[39;49m\u001b[39m키워드 인수로 전달하면 에러\u001b[39;49m\u001b[39m\"\u001b[39;49m)\n",
      "\u001b[0;31mTypeError\u001b[0m: posonly() got some positional-only arguments passed as keyword arguments: 'posonly'"
     ]
    }
   ],
   "source": [
    "posonly(posonly=\"키워드 인수로 전달하면 에러\")"
   ]
  },
  {
   "attachments": {},
   "cell_type": "markdown",
   "metadata": {},
   "source": [
    "### 키워드 전용 인자\n",
    "키워드 전용 인자도 기본값을 가질 수 있다.   \n",
    "키워드 전용 인자를 선언하는 방법은 *을 인자 값으로 넣고 우측 부분에 키워드 전용 인자를 선언"
   ]
  },
  {
   "cell_type": "code",
   "execution_count": 1,
   "metadata": {},
   "outputs": [],
   "source": [
    "def keyonly(*, keyonly=\"default\"):\n",
    "    print(keyonly)"
   ]
  },
  {
   "cell_type": "code",
   "execution_count": 2,
   "metadata": {},
   "outputs": [
    {
     "name": "stdout",
     "output_type": "stream",
     "text": [
      "default\n"
     ]
    }
   ],
   "source": [
    "keyonly()"
   ]
  },
  {
   "cell_type": "code",
   "execution_count": 3,
   "metadata": {},
   "outputs": [
    {
     "name": "stdout",
     "output_type": "stream",
     "text": [
      "키워드로만 입력해야 한다.\n"
     ]
    }
   ],
   "source": [
    "keyonly(keyonly=\"키워드로만 입력해야 한다.\")"
   ]
  },
  {
   "attachments": {},
   "cell_type": "markdown",
   "metadata": {},
   "source": [
    "키워드 전용 인자에 위치 인수를 전달하면 TypeError 오류 발생"
   ]
  },
  {
   "cell_type": "code",
   "execution_count": 4,
   "metadata": {},
   "outputs": [
    {
     "ename": "TypeError",
     "evalue": "keyonly() takes 0 positional arguments but 1 was given",
     "output_type": "error",
     "traceback": [
      "\u001b[0;31m---------------------------------------------------------------------------\u001b[0m",
      "\u001b[0;31mTypeError\u001b[0m                                 Traceback (most recent call last)",
      "Cell \u001b[0;32mIn[4], line 1\u001b[0m\n\u001b[0;32m----> 1\u001b[0m keyonly(\u001b[39m\"\u001b[39;49m\u001b[39m키워드로만 입력해야 한다.\u001b[39;49m\u001b[39m\"\u001b[39;49m)\n",
      "\u001b[0;31mTypeError\u001b[0m: keyonly() takes 0 positional arguments but 1 was given"
     ]
    }
   ],
   "source": [
    "keyonly(\"키워드로만 입력해야 한다.\")"
   ]
  },
  {
   "attachments": {},
   "cell_type": "markdown",
   "metadata": {},
   "source": [
    "### 가변 위치 인자\n",
    "가변 위치 인자는 명시된 인자 외에 추가적으로 위치 인수를 개수에 상관없이 유연하게 전달 받을 수 있다.   \n",
    "가변 변수로 사용할 변수명 앞에 *를 앞에 하나 붙여 표기한다.   \n",
    "가변 위치 인자에 전달할 위치 인수들을 tuple형태로 packing한 뒤 전달한다."
   ]
  },
  {
   "cell_type": "code",
   "execution_count": 5,
   "metadata": {},
   "outputs": [],
   "source": [
    "def var_positional(*args):\n",
    "    print(type(args))\n",
    "    return sum([_ for _ in args])"
   ]
  },
  {
   "cell_type": "code",
   "execution_count": 6,
   "metadata": {},
   "outputs": [
    {
     "name": "stdout",
     "output_type": "stream",
     "text": [
      "<class 'tuple'>\n",
      "15\n"
     ]
    }
   ],
   "source": [
    "print(var_positional(1, 2, 3, 4, 5))"
   ]
  },
  {
   "attachments": {},
   "cell_type": "markdown",
   "metadata": {},
   "source": [
    "가변 위치 인자를 사용할 때 해당 변수에 값을 전달하는 인수가 없어도   \n",
    "함수가 동작하는데 문제 없도록 함수 바디를 작성하는 것이 좋다."
   ]
  },
  {
   "cell_type": "code",
   "execution_count": 7,
   "metadata": {},
   "outputs": [
    {
     "name": "stdout",
     "output_type": "stream",
     "text": [
      "<class 'tuple'>\n",
      "0\n"
     ]
    }
   ],
   "source": [
    "print(var_positional())"
   ]
  },
  {
   "attachments": {},
   "cell_type": "markdown",
   "metadata": {},
   "source": [
    "### 가변 키워드 인자\n",
    "가변 키워드 인자는 명시된 인제 외에 추가적으로 키워드 인수를 개수에 상관없이 유연하게 전달 받을 수 있다.   \n",
    "가변 변수로 사용할 변수명 앞에 *를 두개 붙여 표기한다.   \n",
    "가변-키워드 인자에 전달할 키워드 인수들을 dict로 packing한 뒤 전달한다."
   ]
  },
  {
   "cell_type": "code",
   "execution_count": 8,
   "metadata": {},
   "outputs": [],
   "source": [
    "def var_keyword(**kargs):\n",
    "    print(type(kargs))\n",
    "    return kargs"
   ]
  },
  {
   "cell_type": "code",
   "execution_count": 9,
   "metadata": {},
   "outputs": [
    {
     "name": "stdout",
     "output_type": "stream",
     "text": [
      "<class 'dict'>\n",
      "{'key': 'value', 'key2': 'value2'}\n"
     ]
    }
   ],
   "source": [
    "print(var_keyword(key=\"value\", key2=\"value2\"))"
   ]
  },
  {
   "attachments": {},
   "cell_type": "markdown",
   "metadata": {},
   "source": [
    "가변 키워드 인자를 사용할 때도 해당 변수에 값을 전달하는 인수가 아예 없어도   \n",
    "함수가 동작하는데 문제 없도록 함수 바디를 작성하는 것이 좋다."
   ]
  },
  {
   "cell_type": "code",
   "execution_count": 10,
   "metadata": {},
   "outputs": [
    {
     "name": "stdout",
     "output_type": "stream",
     "text": [
      "<class 'dict'>\n",
      "{}\n"
     ]
    }
   ],
   "source": [
    "print(var_keyword())"
   ]
  },
  {
   "attachments": {},
   "cell_type": "markdown",
   "metadata": {},
   "source": [
    "### 연습 문제 1\n",
    "화씨 온도를 섭씨 온도로 변경하는 함수"
   ]
  },
  {
   "cell_type": "code",
   "execution_count": 11,
   "metadata": {},
   "outputs": [],
   "source": [
    "def to_celsius(fahrenheit):\n",
    "    return (fahrenheit - 32) * 5 / 9"
   ]
  },
  {
   "cell_type": "code",
   "execution_count": 12,
   "metadata": {},
   "outputs": [
    {
     "data": {
      "text/plain": [
       "21.11111111111111"
      ]
     },
     "execution_count": 12,
     "metadata": {},
     "output_type": "execute_result"
    }
   ],
   "source": [
    "to_celsius(70)"
   ]
  },
  {
   "attachments": {},
   "cell_type": "markdown",
   "metadata": {},
   "source": [
    "### 연습 문제 2\n",
    "자연수를 인수로 전달하면 짝수일 때 짝수,   \n",
    "홀수일 때 홀수를 반환하는 함수   \n",
    "자연수가 아닌 값이 들어왔을 때 반환값 없이 종료"
   ]
  },
  {
   "cell_type": "code",
   "execution_count": 15,
   "metadata": {},
   "outputs": [],
   "source": [
    "def odd_even(num):\n",
    "    '''\n",
    "    number가 짝수면 \"짝수\", 홀수면 \"홀수\" 반환\n",
    "    '''\n",
    "    if type(num) != int:\n",
    "        return\n",
    "    if num % 2 == 0:\n",
    "        return \"짝수\"\n",
    "    elif num % 2 == 1:\n",
    "        return \"홀수\""
   ]
  },
  {
   "cell_type": "code",
   "execution_count": 16,
   "metadata": {},
   "outputs": [
    {
     "name": "stdout",
     "output_type": "stream",
     "text": [
      "\n",
      "    number가 짝수면 \"짝수\", 홀수면 \"홀수\" 반환\n",
      "    \n",
      "짝수\n",
      "홀수\n",
      "None\n"
     ]
    }
   ],
   "source": [
    "print(odd_even.__doc__)\n",
    "print(odd_even(10))\n",
    "print(odd_even(9))\n",
    "print(odd_even(\"가\"))"
   ]
  },
  {
   "attachments": {},
   "cell_type": "markdown",
   "metadata": {},
   "source": [
    "### 연습 문제 3\n",
    "인수로 연도 값을 입력 받고,   \n",
    "윤년이면 윤년이라는 문자열을 반환   \n",
    "평년이면 평년이라는 문자열을 반환"
   ]
  },
  {
   "cell_type": "code",
   "execution_count": 17,
   "metadata": {},
   "outputs": [],
   "source": [
    "def check_leap_year(y):\n",
    "    if y % 4 != 0:\n",
    "        return \"평년\"\n",
    "    if y % 100 == 0 and y % 400 != 0:\n",
    "        return \"평년\"\n",
    "    else:\n",
    "        return \"윤년\"        "
   ]
  },
  {
   "cell_type": "code",
   "execution_count": 18,
   "metadata": {},
   "outputs": [
    {
     "data": {
      "text/plain": [
       "'윤년'"
      ]
     },
     "execution_count": 18,
     "metadata": {},
     "output_type": "execute_result"
    }
   ],
   "source": [
    "check_leap_year(2004)"
   ]
  },
  {
   "cell_type": "code",
   "execution_count": 19,
   "metadata": {},
   "outputs": [
    {
     "data": {
      "text/plain": [
       "'윤년'"
      ]
     },
     "execution_count": 19,
     "metadata": {},
     "output_type": "execute_result"
    }
   ],
   "source": [
    "check_leap_year(2000)"
   ]
  },
  {
   "cell_type": "code",
   "execution_count": 20,
   "metadata": {},
   "outputs": [
    {
     "data": {
      "text/plain": [
       "'평년'"
      ]
     },
     "execution_count": 20,
     "metadata": {},
     "output_type": "execute_result"
    }
   ],
   "source": [
    "check_leap_year(1900)"
   ]
  },
  {
   "attachments": {},
   "cell_type": "markdown",
   "metadata": {},
   "source": [
    "#### 연습 문제 4\n",
    "평년일 때 각 달이 며칠인지 반환하는 함수"
   ]
  },
  {
   "cell_type": "code",
   "execution_count": 21,
   "metadata": {},
   "outputs": [],
   "source": [
    "def days(m):\n",
    "    thirty_one =[1, 3, 5, 7, 8, 10, 12]\n",
    "    thirty = [4, 6, 9, 11]\n",
    "    february = 2\n",
    "    \n",
    "    if m == february:\n",
    "        return 28\n",
    "    elif m in thirty:\n",
    "        return 30\n",
    "    elif m in thirty_one:\n",
    "        return 31"
   ]
  },
  {
   "cell_type": "code",
   "execution_count": 22,
   "metadata": {},
   "outputs": [
    {
     "data": {
      "text/plain": [
       "30"
      ]
     },
     "execution_count": 22,
     "metadata": {},
     "output_type": "execute_result"
    }
   ],
   "source": [
    "days(11)"
   ]
  },
  {
   "cell_type": "code",
   "execution_count": 23,
   "metadata": {},
   "outputs": [
    {
     "data": {
      "text/plain": [
       "28"
      ]
     },
     "execution_count": 23,
     "metadata": {},
     "output_type": "execute_result"
    }
   ],
   "source": [
    "days(2)"
   ]
  },
  {
   "cell_type": "code",
   "execution_count": 24,
   "metadata": {},
   "outputs": [
    {
     "data": {
      "text/plain": [
       "31"
      ]
     },
     "execution_count": 24,
     "metadata": {},
     "output_type": "execute_result"
    }
   ],
   "source": [
    "days(1)"
   ]
  },
  {
   "attachments": {},
   "cell_type": "markdown",
   "metadata": {},
   "source": [
    "### 연습 문제 5\n",
    "연도와 월을 입력받아 그 달의 날짜 개수를 반환하는 함수   \n",
    "윤년, 평년도 계산해야 한다."
   ]
  },
  {
   "cell_type": "code",
   "execution_count": 25,
   "metadata": {},
   "outputs": [],
   "source": [
    "def days(y, m):\n",
    "    thirty_one =[1, 3, 5, 7, 8, 10, 12]\n",
    "    thirty = [4, 6, 9, 11]\n",
    "    february = 2\n",
    "    \n",
    "    if m in thirty:\n",
    "        return 30\n",
    "    elif m in thirty_one:\n",
    "        return 31\n",
    "    elif m == february:\n",
    "        if y % 4 != 0:\n",
    "            return 28\n",
    "        if y % 100 == 0 and y % 400 != 0:\n",
    "            return 28\n",
    "        else:\n",
    "            return 29"
   ]
  },
  {
   "cell_type": "code",
   "execution_count": 26,
   "metadata": {},
   "outputs": [
    {
     "data": {
      "text/plain": [
       "30"
      ]
     },
     "execution_count": 26,
     "metadata": {},
     "output_type": "execute_result"
    }
   ],
   "source": [
    "days(1900, 11)"
   ]
  },
  {
   "cell_type": "code",
   "execution_count": 27,
   "metadata": {},
   "outputs": [
    {
     "data": {
      "text/plain": [
       "31"
      ]
     },
     "execution_count": 27,
     "metadata": {},
     "output_type": "execute_result"
    }
   ],
   "source": [
    "days(2004, 10)"
   ]
  },
  {
   "cell_type": "code",
   "execution_count": 28,
   "metadata": {},
   "outputs": [
    {
     "data": {
      "text/plain": [
       "28"
      ]
     },
     "execution_count": 28,
     "metadata": {},
     "output_type": "execute_result"
    }
   ],
   "source": [
    "days(1900, 2)"
   ]
  },
  {
   "cell_type": "code",
   "execution_count": 29,
   "metadata": {},
   "outputs": [
    {
     "data": {
      "text/plain": [
       "29"
      ]
     },
     "execution_count": 29,
     "metadata": {},
     "output_type": "execute_result"
    }
   ],
   "source": [
    "days(2000, 2)"
   ]
  },
  {
   "attachments": {},
   "cell_type": "markdown",
   "metadata": {},
   "source": [
    "### 연습 문제 6\n",
    "몫과 나머지를 구하는 함수"
   ]
  },
  {
   "cell_type": "code",
   "execution_count": 30,
   "metadata": {},
   "outputs": [
    {
     "name": "stdout",
     "output_type": "stream",
     "text": [
      "몫: 3, 나머지: 1\n"
     ]
    }
   ],
   "source": [
    "def get_quotiont_remainder(x, y):\n",
    "    return x // y, x % y\n",
    "\n",
    "x = 10\n",
    "y = 3\n",
    "quotient, remainder = get_quotiont_remainder(x, y)\n",
    "print(f'몫: {quotient}, 나머지: {remainder}')"
   ]
  },
  {
   "attachments": {},
   "cell_type": "markdown",
   "metadata": {},
   "source": [
    "## 변수의 범위\n",
    "### 전역 변수\n",
    "그동안 제일 바깥 영역에서 변수를 선언하고 활용했다.   \n",
    "전역 범위에서 선언했기 때문에 그 변수를 스크립트 전체에서 접근할 수 있었다.   \n",
    "그 변수를 전역 변수라고 한다."
   ]
  },
  {
   "cell_type": "code",
   "execution_count": 31,
   "metadata": {},
   "outputs": [
    {
     "name": "stdout",
     "output_type": "stream",
     "text": [
      "glbal_variable in global scope=> This is global world\n",
      "0x10519ac10\n",
      "global_variable in local_world=> This is global world\n",
      "0x10519ac10\n"
     ]
    }
   ],
   "source": [
    "global_variable = \"This is global world\"\n",
    "\n",
    "print(f\"glbal_variable in global scope=> {global_variable}\")\n",
    "print(hex(id(global_variable)))\n",
    "\n",
    "def local_world():\n",
    "    print(f\"global_variable in local_world=> {global_variable}\")\n",
    "    print(hex(id(global_variable)))\n",
    "\n",
    "local_world()"
   ]
  },
  {
   "attachments": {},
   "cell_type": "markdown",
   "metadata": {},
   "source": [
    "### 함수 바디에서 선언된 변수는 바깥에서 접근이 가능할까?   \n",
    "NameError가 발생된다.   \n",
    "지역 변수는 변수를 만든 함수 안에서만 접근이 가능하다."
   ]
  },
  {
   "cell_type": "code",
   "execution_count": 35,
   "metadata": {},
   "outputs": [
    {
     "ename": "NameError",
     "evalue": "name 'my_variable' is not defined",
     "output_type": "error",
     "traceback": [
      "\u001b[0;31m---------------------------------------------------------------------------\u001b[0m",
      "\u001b[0;31mNameError\u001b[0m                                 Traceback (most recent call last)",
      "Cell \u001b[0;32mIn[35], line 4\u001b[0m\n\u001b[1;32m      1\u001b[0m \u001b[39mdef\u001b[39;00m \u001b[39mmy_little_word\u001b[39m():\n\u001b[1;32m      2\u001b[0m     my_variable \u001b[39m=\u001b[39m \u001b[39m\"\u001b[39m\u001b[39mThis is my little world\u001b[39m\u001b[39m\"\u001b[39m\n\u001b[0;32m----> 4\u001b[0m \u001b[39mprint\u001b[39m(my_variable)\n",
      "\u001b[0;31mNameError\u001b[0m: name 'my_variable' is not defined"
     ]
    }
   ],
   "source": [
    "def my_little_word():\n",
    "    my_variable = \"This is my little world\"\n",
    "\n",
    "print(my_variable)"
   ]
  },
  {
   "attachments": {},
   "cell_type": "markdown",
   "metadata": {},
   "source": [
    "### 지역 범위에서 전역 변수의 값을 변경한다면?\n",
    "변경이 되지 않는다."
   ]
  },
  {
   "cell_type": "code",
   "execution_count": 36,
   "metadata": {},
   "outputs": [
    {
     "name": "stdout",
     "output_type": "stream",
     "text": [
      "중꺾마\n"
     ]
    }
   ],
   "source": [
    "important_is_an_unbroken_heart = \"중꺾마\"\n",
    "\n",
    "def trials_and_tribulations():\n",
    "    important_is_an_unbroken_heart = \"흔들흔들\"\n",
    "\n",
    "trials_and_tribulations()\n",
    "print(important_is_an_unbroken_heart)"
   ]
  },
  {
   "attachments": {},
   "cell_type": "markdown",
   "metadata": {},
   "source": [
    "### 지역 범위에서 전역 변수를 할당하는 법?\n",
    "global 키워드를 이용한다."
   ]
  },
  {
   "cell_type": "code",
   "execution_count": 37,
   "metadata": {},
   "outputs": [
    {
     "name": "stdout",
     "output_type": "stream",
     "text": [
      "global 키워드로 변경했지롱\n"
     ]
    }
   ],
   "source": [
    "global_variable = \"변경이 되나요?\"\n",
    "\n",
    "def heartbreaker():\n",
    "    global global_variable\n",
    "    global_variable = \"global 키워드로 변경했지롱\"\n",
    "    \n",
    "heartbreaker()\n",
    "print(global_variable)"
   ]
  },
  {
   "attachments": {},
   "cell_type": "markdown",
   "metadata": {},
   "source": [
    "### 함수에 함수를 중첩해서 만들기\n",
    "level2 함수에서는 바깥쪽인 level1 함수의 지역변수 메세지를 출력하고 있다.   \n",
    "level1에 선언된 지역 변수는 level1 함수 바디 범위 내에서 접근 가능함을 알 수 있다."
   ]
  },
  {
   "cell_type": "code",
   "execution_count": 40,
   "metadata": {},
   "outputs": [
    {
     "name": "stdout",
     "output_type": "stream",
     "text": [
      "This is level 1\n"
     ]
    }
   ],
   "source": [
    "def level1():\n",
    "    message = \"This is level 1\"\n",
    "    def level2():\n",
    "        print(message)\n",
    "    level2()\n",
    "        \n",
    "level1()"
   ]
  },
  {
   "attachments": {},
   "cell_type": "markdown",
   "metadata": {},
   "source": [
    "### 안쪽 함수에서 바깥쪽 함수의 변수 변경해보기\n",
    "안쪽 함수에서 바깥쪽 함수에 선언된 변수에 대한 출력이 가능했다.   \n",
    "변경도 가능할까?"
   ]
  },
  {
   "cell_type": "code",
   "execution_count": 42,
   "metadata": {},
   "outputs": [
    {
     "name": "stdout",
     "output_type": "stream",
     "text": [
      "This is level 1\n"
     ]
    }
   ],
   "source": [
    "# 안바뀐다\n",
    "def level1():\n",
    "    message = \"This is level 1\"\n",
    "    def level2():\n",
    "        message = \"level2 is better than level1\"\n",
    "    level2()\n",
    "    print(message)\n",
    "level1()"
   ]
  },
  {
   "attachments": {},
   "cell_type": "markdown",
   "metadata": {},
   "source": [
    "### 그렇다면 바꾸는 방법은?\n",
    "nonlocal 키워드를 사용한다."
   ]
  },
  {
   "cell_type": "code",
   "execution_count": 43,
   "metadata": {},
   "outputs": [
    {
     "name": "stdout",
     "output_type": "stream",
     "text": [
      "level2 is better than level1\n"
     ]
    }
   ],
   "source": [
    "def level1():\n",
    "    message = \"This is level 1\"\n",
    "    def level2():\n",
    "        nonlocal message\n",
    "        message = \"level2 is better than level1\"\n",
    "    level2()\n",
    "    print(message)\n",
    "level1()"
   ]
  },
  {
   "attachments": {},
   "cell_type": "markdown",
   "metadata": {},
   "source": [
    "### globa, nonlocal 특징과 권고사항\n",
    "- global 키워드는 함수의 중첩된 정도와 상관없이 전역 범위의 변수를 매칭한다.   \n",
    "- 중첩된 함수마다 같은 이름의 변수가 있다면 nonlocal 키워드는 제일 가까운 바깥 변수를 매칭한다.   \n",
    "- 가급적이면 함수마다 이름이 같은 변수를 사용하기보단 다른 변수명을 사용하자"
   ]
  },
  {
   "attachments": {},
   "cell_type": "markdown",
   "metadata": {},
   "source": [
    "### 변수 범위 정리\n",
    "- 함수 안에서 선언한 변수는 함수를 호출해 실행되는 동안만 사용할 수 있다.   \n",
    "- 범위마다 같은 이름의 변수를 사용해도 각각 독립적으로 동작한다.   \n",
    "- 지역 변수(local variable)를 저장하는 이름 공간을 지역 영역(local scope)이라 한다.   \n",
    "- 전역 변수(global variable)를 저장하는 이름 공간을 전역 영역(global scope)라고 한다.   \n",
    "- 파이썬 자체에서 정의한 이름 공간을 내장 영역(built-in scope)라고 한다.   \n",
    "- 함수에서 변수를 호출하면 지역 영역 -> 전역 영역 -> 내장 영역 순으로 해당하는 변수를 확인한다."
   ]
  },
  {
   "attachments": {},
   "cell_type": "markdown",
   "metadata": {},
   "source": [
    "# 람다(Lambda)\n",
    "호출될 때 값이 구해지는 하나의 표현식   \n",
    "이름이 없는 인라인 함수이다.   \n",
    "lambda [parameters]:expression"
   ]
  },
  {
   "attachments": {},
   "cell_type": "markdown",
   "metadata": {},
   "source": [
    "### 람다 표현식을 바로 호출하는 방법"
   ]
  },
  {
   "cell_type": "code",
   "execution_count": 44,
   "metadata": {},
   "outputs": [
    {
     "data": {
      "text/plain": [
       "20"
      ]
     },
     "execution_count": 44,
     "metadata": {},
     "output_type": "execute_result"
    }
   ],
   "source": [
    "(lambda x: x + 10)(10)"
   ]
  },
  {
   "attachments": {},
   "cell_type": "markdown",
   "metadata": {},
   "source": [
    "람다는 기본적으로 이름없는 함수(anonymous function)이다.   \n",
    "람다로 만든 익명 함수를 호출하려면 변수에 할당해서 사용할 수 있다."
   ]
  },
  {
   "cell_type": "code",
   "execution_count": 45,
   "metadata": {},
   "outputs": [
    {
     "data": {
      "text/plain": [
       "20"
      ]
     },
     "execution_count": 45,
     "metadata": {},
     "output_type": "execute_result"
    }
   ],
   "source": [
    "twice = lambda x: x*2\n",
    "twice(10)"
   ]
  },
  {
   "attachments": {},
   "cell_type": "markdown",
   "metadata": {},
   "source": [
    "람다의 expression 부분은 변수 없이 식 한 줄로 표현 가능해야 한다.   \n",
    "따라서 람다 표현식 안에 새 변수를 만들 수 없다.   \n",
    "변수가 필요한 경우는 def를 써서 함수를 정의해서 사용하는 것이 좋다."
   ]
  },
  {
   "cell_type": "code",
   "execution_count": 46,
   "metadata": {},
   "outputs": [
    {
     "ename": "SyntaxError",
     "evalue": "invalid syntax (2333446955.py, line 1)",
     "output_type": "error",
     "traceback": [
      "\u001b[0;36m  Cell \u001b[0;32mIn[46], line 1\u001b[0;36m\u001b[0m\n\u001b[0;31m    (lambda x: y = 10; x + y)(1)\u001b[0m\n\u001b[0m                 ^\u001b[0m\n\u001b[0;31mSyntaxError\u001b[0m\u001b[0;31m:\u001b[0m invalid syntax\n"
     ]
    }
   ],
   "source": [
    "(lambda x: y = 10; x + y)(1)"
   ]
  },
  {
   "attachments": {},
   "cell_type": "markdown",
   "metadata": {},
   "source": [
    "### 조건 표현식(Conditional Expression). inline if else\n",
    "if else를 한 줄로 작성할 수 있는 방법이다.   \n",
    "lambda에 사용하면 활용도가 아주 좋다.   \n",
    "if만 사용할 수 없다.  \n",
    " 반듣시 else와 같이 써야 한다. 중첩 가능"
   ]
  },
  {
   "cell_type": "code",
   "execution_count": 47,
   "metadata": {},
   "outputs": [
    {
     "data": {
      "text/plain": [
       "'B'"
      ]
     },
     "execution_count": 47,
     "metadata": {},
     "output_type": "execute_result"
    }
   ],
   "source": [
    "score = 90\n",
    "'A' if 90 < score <= 100 else 'B' if 80 < score else 'C'"
   ]
  },
  {
   "attachments": {},
   "cell_type": "markdown",
   "metadata": {},
   "source": [
    "### 람다와 map() 같이 쓰는 법\n",
    "필요에 따라 parameter와 iterable의 개수를 맞춰서 사용한다.   \n",
    "어느 한쪽 iterable의 길이가 짧아도 동작하며, 길이가 작은 쪽에 맞춰 값을 반환한다."
   ]
  },
  {
   "cell_type": "code",
   "execution_count": 48,
   "metadata": {},
   "outputs": [
    {
     "data": {
      "text/plain": [
       "[2, 8, 18, 32, 50]"
      ]
     },
     "execution_count": 48,
     "metadata": {},
     "output_type": "execute_result"
    }
   ],
   "source": [
    "a = [_ for _ in range(1, 6)]\n",
    "b = [_ for _ in range(2, 11, 2)]\n",
    "list(map(lambda x, y: x * y, a , b))"
   ]
  },
  {
   "attachments": {},
   "cell_type": "markdown",
   "metadata": {},
   "source": [
    "### 람다와 filter 같이 쓰는 법\n",
    "filter의 첫 인수로 들어가는 함수의 반환 값이 True일때만 해당 요소를 가져옴   \n",
    "리스트 컴프리헨션으로 표현 가능(속도와 가독성 모두 리스트 컴프리헨션이 낫다.)"
   ]
  },
  {
   "cell_type": "code",
   "execution_count": 49,
   "metadata": {},
   "outputs": [
    {
     "data": {
      "text/plain": [
       "[3, 9, 9]"
      ]
     },
     "execution_count": 49,
     "metadata": {},
     "output_type": "execute_result"
    }
   ],
   "source": [
    "a = [3, 2, 8, 22, 10, 7, 0, 11, 9, 9]\n",
    "list(filter(lambda x: x% 3 == 0 and 0 < x < 10, a))"
   ]
  }
 ],
 "metadata": {
  "kernelspec": {
   "display_name": "Python 3",
   "language": "python",
   "name": "python3"
  },
  "language_info": {
   "codemirror_mode": {
    "name": "ipython",
    "version": 3
   },
   "file_extension": ".py",
   "mimetype": "text/x-python",
   "name": "python",
   "nbconvert_exporter": "python",
   "pygments_lexer": "ipython3",
   "version": "3.9.6"
  },
  "orig_nbformat": 4,
  "vscode": {
   "interpreter": {
    "hash": "31f2aee4e71d21fbe5cf8b01ff0e069b9275f58929596ceb00d14d90e3e16cd6"
   }
  }
 },
 "nbformat": 4,
 "nbformat_minor": 2
}
