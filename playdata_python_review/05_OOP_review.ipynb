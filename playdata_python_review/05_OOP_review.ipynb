{
 "cells": [
  {
   "attachments": {},
   "cell_type": "markdown",
   "metadata": {},
   "source": [
    "# 객체지향 프로그래밍\n",
    "객체지향 프로그래밍은 복잡한 문제를 잘게 나누어 객체로 만들고, 객체를 조합해 문제를 해결한다.   \n",
    "현실 세계의 복잡한 문제를 처리하는데 유용하며, 기능을 개선하고 발전시킬 때도 해당 클래스만 수정하면 되므로   \n",
    "큰 프로젝트의 유지보수에도 매우 효율적이다.   \n",
    "객체가 가진 데이터를 클래스의 속성(Attribute)라 부르고 객체가 갖는 기능을 메소드(Method)라고 부른다."
   ]
  },
  {
   "attachments": {},
   "cell_type": "markdown",
   "metadata": {},
   "source": [
    "# 클래스\n",
    "클래스는 사용자 정의 객체를 만들기 위한 주형이다.   \n",
    "클래스 정의는 보통 클래스의 인스턴스를 대상으로 연산하는 메소드 정의를 포함하고 있다.   \n",
    "클래스 명으로 주로 PascalCase를 사용한다."
   ]
  },
  {
   "attachments": {},
   "cell_type": "markdown",
   "metadata": {},
   "source": [
    "지금까지 사용해온 int, list, dict 등도 클래스이다.   \n",
    "우리는 이 클래스로부터 인스턴스를 만들고 메서드를 사용해왔다."
   ]
  },
  {
   "cell_type": "code",
   "execution_count": 1,
   "metadata": {},
   "outputs": [
    {
     "name": "stdout",
     "output_type": "stream",
     "text": [
      "<class 'int'>\n",
      "<class 'list'>\n",
      "<class 'dict'>\n"
     ]
    }
   ],
   "source": [
    "number = int(10)\n",
    "print(type(number))\n",
    "\n",
    "num_list = list(range(10))\n",
    "print(type(num_list))\n",
    "\n",
    "num_dict = dict(key=\"value\", key2=\"value2\")\n",
    "print(type(num_dict))"
   ]
  },
  {
   "attachments": {},
   "cell_type": "markdown",
   "metadata": {},
   "source": [
    "### 인스턴스?\n",
    "특정 클래스로부터 만들어진 실체"
   ]
  },
  {
   "attachments": {},
   "cell_type": "markdown",
   "metadata": {},
   "source": [
    "### 메소드?\n",
    "메소드는 클래스 바디 안에서 정의되는 함수이다.   \n",
    "클래스의 인스턴스의 어트리뷰트로서 호출되면, 그 메소드는 첫 번째 인자로 인스턴스 객체(self)를 받는다.   \n",
    "첫 번째 인자를 설정하지 않으면 에러가 발생한다."
   ]
  },
  {
   "attachments": {},
   "cell_type": "markdown",
   "metadata": {},
   "source": [
    "### 클래스 속성(Attribute)\n",
    "클래스 속성을 만들 때는 __init__ 메소드 안에서   \n",
    "self.속성에 값을 할당하면 된다."
   ]
  },
  {
   "cell_type": "code",
   "execution_count": 1,
   "metadata": {},
   "outputs": [
    {
     "name": "stdout",
     "output_type": "stream",
     "text": [
      "안녕하세요\n"
     ]
    }
   ],
   "source": [
    "class Person:\n",
    "    def __init__(self):\n",
    "        self.hello = \"안녕하세요\"\n",
    "        \n",
    "    def greeting(self):\n",
    "        print(self.hello)\n",
    "        \n",
    "james = Person()\n",
    "james.greeting()"
   ]
  },
  {
   "attachments": {},
   "cell_type": "markdown",
   "metadata": {},
   "source": [
    "__init__메소드는 인스턴스를 만들 때 호출되는 특별한 메소드이다.   \n",
    "__init__은 initialize의 줄임말로 인스턴스(객체)를 초기화(메모리에 공간을 할당하고 값을 부여) 한다.   \n",
    "밑줄 두개(__ double under, 던더)가 양 옆으로 붙어있는 메소드는 파이썬이 자동으로 호출하는 메소드이다.   \n",
    "스페셜 메소드, 매직 메소드, 던더 메소드라 불리기도 한다."
   ]
  },
  {
   "attachments": {},
   "cell_type": "markdown",
   "metadata": {},
   "source": [
    "### self란?\n",
    "self는 인스턴스 자기 자신을 의미한다.   "
   ]
  },
  {
   "attachments": {},
   "cell_type": "markdown",
   "metadata": {},
   "source": [
    "### 클래스 인스턴스 생성할 때 속성 할당하기"
   ]
  },
  {
   "cell_type": "code",
   "execution_count": 2,
   "metadata": {},
   "outputs": [
    {
     "name": "stdout",
     "output_type": "stream",
     "text": [
      "안녕하세요 제 이름은 마리아입니다.\n",
      "이름: 마리아\n",
      "나이: 20\n",
      "주소: 서울시 서초구 반포동\n"
     ]
    }
   ],
   "source": [
    "class Person:\n",
    "    def __init__(self, name, age, address):\n",
    "        self.hello = \"안녕하세요\"\n",
    "        self.name = name\n",
    "        self.age = age\n",
    "        self.address = address\n",
    "        \n",
    "    def greeting(self):\n",
    "        print(f\"{self.hello} 제 이름은 {self.name}입니다.\")\n",
    "\n",
    "maria = Person(\"마리아\", 20, \"서울시 서초구 반포동\")\n",
    "maria.greeting()\n",
    "\n",
    "print(\"이름:\", maria.name)\n",
    "print(\"나이:\", maria.age)\n",
    "print(\"주소:\", maria.address)"
   ]
  },
  {
   "attachments": {},
   "cell_type": "markdown",
   "metadata": {},
   "source": [
    "### 연습 문제 1\n",
    "Person 클래스로 maria, james라는 인스턴스 생성하기   \n",
    "maria, james 두 사람의 나이, 이름, 주소를 받아와 객체에 저장하고 화면에 출력하기"
   ]
  },
  {
   "cell_type": "code",
   "execution_count": 4,
   "metadata": {},
   "outputs": [
    {
     "name": "stdout",
     "output_type": "stream",
     "text": [
      "첫번째 이름: 마리아\n",
      "첫번째 나이: 20\n",
      "첫번째 주소: 서울시 강ㅇ남구\n",
      "두번째 이름: 제임스\n",
      "두번째 나이: 21\n",
      "두번째 주소: 서울시 구로구\n"
     ]
    }
   ],
   "source": [
    "name_one = input(\"이름이 무엇인가요?\")\n",
    "age_one = int(input(\"나이는 무엇인가요?\"))\n",
    "add_one = input(\"주소는 무엇인가요?\")\n",
    "\n",
    "name_two = input(\"이름이 무엇인가요?\")\n",
    "age_two = int(input(\"나이는 무엇인가요?\"))\n",
    "add_two = input(\"주소는 무엇인가요?\")\n",
    "\n",
    "p1 = Person(name_one, age_one, add_one)\n",
    "p2 = Person(name_two, age_two, add_two)\n",
    "\n",
    "print(\"첫번째 이름:\", p1.name)\n",
    "print(\"첫번째 나이:\", p1.age)\n",
    "print(\"첫번째 주소:\", p1.address)\n",
    "\n",
    "print(\"두번째 이름:\", p2.name)\n",
    "print(\"두번째 나이:\", p2.age)\n",
    "print(\"두번째 주소:\", p2.address)\n"
   ]
  },
  {
   "attachments": {},
   "cell_type": "markdown",
   "metadata": {},
   "source": [
    "### 비공개 속성 사용하기\n",
    "인스턴스.속성 = 값 을 통해 새롭게 인스턴스의 속성 값을 변경하지 못하게 막고 싶다면?   \n",
    "비공개 속성을 사용한다.   \n",
    "사용법은 해당하는 속성 앞에 던더를 붙이면 된다."
   ]
  },
  {
   "cell_type": "code",
   "execution_count": 5,
   "metadata": {},
   "outputs": [],
   "source": [
    "class ClassName:\n",
    "    def __init__(self, param1, param2):\n",
    "        self.attr1 = param1\n",
    "        self.__attr2 = param2 # 비공개 속성"
   ]
  },
  {
   "attachments": {},
   "cell_type": "markdown",
   "metadata": {},
   "source": [
    "Person 클래스 밖에서 비공개 속성에 접근하면?   \n",
    "에러가 발생한다."
   ]
  },
  {
   "cell_type": "code",
   "execution_count": 6,
   "metadata": {},
   "outputs": [
    {
     "ename": "AttributeError",
     "evalue": "'Person' object has no attribute '__wallet'",
     "output_type": "error",
     "traceback": [
      "\u001b[0;31m---------------------------------------------------------------------------\u001b[0m",
      "\u001b[0;31mAttributeError\u001b[0m                            Traceback (most recent call last)",
      "\u001b[0;32m/var/folders/p4/ybhgl5113q57lp0vhqc2znhr0000gn/T/ipykernel_8952/1537663074.py\u001b[0m in \u001b[0;36m<module>\u001b[0;34m\u001b[0m\n\u001b[1;32m      7\u001b[0m \u001b[0;34m\u001b[0m\u001b[0m\n\u001b[1;32m      8\u001b[0m \u001b[0mmaria\u001b[0m \u001b[0;34m=\u001b[0m \u001b[0mPerson\u001b[0m\u001b[0;34m(\u001b[0m\u001b[0;34m\"마리아\"\u001b[0m\u001b[0;34m,\u001b[0m \u001b[0;36m20\u001b[0m\u001b[0;34m,\u001b[0m \u001b[0;34m\"서울시 서초구 반포동\"\u001b[0m\u001b[0;34m,\u001b[0m \u001b[0;36m10000\u001b[0m\u001b[0;34m)\u001b[0m\u001b[0;34m\u001b[0m\u001b[0;34m\u001b[0m\u001b[0m\n\u001b[0;32m----> 9\u001b[0;31m \u001b[0mmaria\u001b[0m\u001b[0;34m.\u001b[0m\u001b[0m__wallet\u001b[0m \u001b[0;34m-=\u001b[0m \u001b[0;36m100000\u001b[0m \u001b[0;31m# 클래스 밖에서 비공개 속성에 접근하면 에러 발생\u001b[0m\u001b[0;34m\u001b[0m\u001b[0;34m\u001b[0m\u001b[0m\n\u001b[0m",
      "\u001b[0;31mAttributeError\u001b[0m: 'Person' object has no attribute '__wallet'"
     ]
    }
   ],
   "source": [
    "class Person:\n",
    "    def __init__(self, name, age, address, wallet):\n",
    "        self.name = name\n",
    "        self.age = age\n",
    "        self.address = address\n",
    "        self.__wallet = wallet\n",
    "\n",
    "maria = Person(\"마리아\", 20, \"서울시 서초구 반포동\", 10000)\n",
    "maria.__wallet -= 100000 # 클래스 밖에서 비공개 속성에 접근하면 에러 발생"
   ]
  },
  {
   "attachments": {},
   "cell_type": "markdown",
   "metadata": {},
   "source": [
    "아래의 pay 메소드와 같은 방식으로 비공개 속성 사용"
   ]
  },
  {
   "cell_type": "code",
   "execution_count": 7,
   "metadata": {},
   "outputs": [
    {
     "name": "stdout",
     "output_type": "stream",
     "text": [
      "이제 7000원 남았네요.\n"
     ]
    }
   ],
   "source": [
    "class Person:\n",
    "    def __init__(self, name, age, address, wallet):\n",
    "        self.name = name\n",
    "        self.age = age\n",
    "        self.address = address\n",
    "        self.__wallet = wallet\n",
    "    def pay(self, amount):\n",
    "        if self.__wallet < amount:\n",
    "            print(\"돈이 모자랍니다.\")\n",
    "            return\n",
    "        self.__wallet -= amount # 비공개 속성은 클래스 안의 메소드에서만 접근할 수 있다.\n",
    "        print(\"이제 {0}원 남았네요.\".format(self.__wallet))\n",
    "\n",
    "maria = Person(\"마리아\", 20, \"서울시 서초구 반포동\", 10000)\n",
    "maria.pay(3000)"
   ]
  },
  {
   "attachments": {},
   "cell_type": "markdown",
   "metadata": {},
   "source": [
    "### 연습 문제 2\n",
    "사용자로부터 체력, 마나, AP를 입력받는다.   \n",
    "주어진 코드에서 애니(Annie)클래스를 작성하고 티버(tibbers)스킬의 피해량이 출력되게 만들자.   \n",
    "티버의 피해량은 AP * 0.65 + 400이다."
   ]
  },
  {
   "cell_type": "code",
   "execution_count": 8,
   "metadata": {},
   "outputs": [],
   "source": [
    "class Annie:\n",
    "    def __init__(self, hp, mp, ap):\n",
    "        self.hp = hp\n",
    "        self.mp = mp\n",
    "        self.ap = ap\n",
    "    \n",
    "    def tibbers(self):\n",
    "        print(f\"티버: 피해량 {self.ap * 0.65 + 400}\")"
   ]
  },
  {
   "cell_type": "code",
   "execution_count": 10,
   "metadata": {},
   "outputs": [
    {
     "name": "stdout",
     "output_type": "stream",
     "text": [
      "티버: 피해량 819.25\n"
     ]
    }
   ],
   "source": [
    "hp1, mp1, ap1 = map(float, input(\"체력, 마나, AP를 입력하세요.\").split())\n",
    "\n",
    "t1 = Annie(hp1, mp1, ap1)\n",
    "t1.tibbers()"
   ]
  }
 ],
 "metadata": {
  "kernelspec": {
   "display_name": "base",
   "language": "python",
   "name": "python3"
  },
  "language_info": {
   "codemirror_mode": {
    "name": "ipython",
    "version": 3
   },
   "file_extension": ".py",
   "mimetype": "text/x-python",
   "name": "python",
   "nbconvert_exporter": "python",
   "pygments_lexer": "ipython3",
   "version": "3.9.13"
  },
  "orig_nbformat": 4,
  "vscode": {
   "interpreter": {
    "hash": "34eef8d31bca7e895f45363c5b93ebf41cef00c4499d385dcdffd7a96dee0dc2"
   }
  }
 },
 "nbformat": 4,
 "nbformat_minor": 2
}
